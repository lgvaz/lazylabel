{
 "cells": [
  {
   "cell_type": "code",
   "execution_count": null,
   "metadata": {},
   "outputs": [],
   "source": [
    "#default_exp rxtransform"
   ]
  },
  {
   "cell_type": "code",
   "execution_count": null,
   "metadata": {},
   "outputs": [],
   "source": [
    "#export\n",
    "from fastai2.basics import *\n",
    "from lazylabel.core import *"
   ]
  },
  {
   "cell_type": "markdown",
   "metadata": {},
   "source": [
    "# Reactive Transforms\n",
    "> Adds the ability to listen on transforms."
   ]
  },
  {
   "cell_type": "code",
   "execution_count": null,
   "metadata": {},
   "outputs": [],
   "source": [
    "#export\n",
    "def _maintain_labels(old, new): return add_attr(new, 'labels', getattr(old, 'labels', []))"
   ]
  },
  {
   "cell_type": "code",
   "execution_count": null,
   "metadata": {},
   "outputs": [],
   "source": [
    "#export\n",
    "def _hash_fn(o): return o.__name__"
   ]
  },
  {
   "cell_type": "markdown",
   "metadata": {},
   "source": [
    "## Makes transforms listenables"
   ]
  },
  {
   "cell_type": "code",
   "execution_count": null,
   "metadata": {},
   "outputs": [],
   "source": [
    "#export\n",
    "@patch\n",
    "def __new__(cls:Transform, *args, **kwargs):\n",
    "    obj = super(Transform, cls).__new__(cls)\n",
    "    obj.listeners = OrderedDict()\n",
    "    obj.pre_broad = dict()\n",
    "    return obj"
   ]
  },
  {
   "cell_type": "code",
   "execution_count": null,
   "metadata": {},
   "outputs": [],
   "source": [
    "#export\n",
    "_old_do_call = Transform._do_call\n",
    "@patch\n",
    "def _do_call(self:Transform, f, x, **kwargs):\n",
    "    res = _maintain_labels(x, _old_do_call(self, f, x, **kwargs))\n",
    "    if f[type(x)] is not None: # Checks for type dispatch\n",
    "        self._pres = {k: v(x) for k,v in self.pre_broad.items()}\n",
    "        self.broadcast(res)\n",
    "    return res"
   ]
  },
  {
   "cell_type": "code",
   "execution_count": null,
   "metadata": {},
   "outputs": [],
   "source": [
    "#export\n",
    "@patch\n",
    "def broadcast(self:Transform, x):\n",
    "    for f,pre in self.listeners.values(): f(x, *[self._pres[_hash_fn(o)] for o in pre])"
   ]
  },
  {
   "cell_type": "code",
   "execution_count": null,
   "metadata": {},
   "outputs": [],
   "source": [
    "#export\n",
    "@patch\n",
    "def listen(self:Transform, *pre):\n",
    "    for o in pre: self.pre_broad[_hash_fn(o)] = o\n",
    "    def _inner(f):\n",
    "        f_hash = _hash_fn(f)\n",
    "        self.listeners[f_hash] = (f, pre)\n",
    "        def cancel(): self.listeners.pop(f_hash)\n",
    "        f.cancel = cancel\n",
    "        return f\n",
    "    return _inner"
   ]
  },
  {
   "cell_type": "code",
   "execution_count": null,
   "metadata": {},
   "outputs": [],
   "source": [
    "@Transform\n",
    "def tfm(x:float): return -x"
   ]
  },
  {
   "cell_type": "code",
   "execution_count": null,
   "metadata": {},
   "outputs": [],
   "source": [
    "def IntPre(x): return int(x)\n",
    "def StrPre(x): return str(x)"
   ]
  },
  {
   "cell_type": "code",
   "execution_count": null,
   "metadata": {},
   "outputs": [],
   "source": [
    "res = []\n",
    "@tfm.listen()\n",
    "def f0(x): res.append(x)\n",
    "@tfm.listen(IntPre, StrPre)\n",
    "def f1(x, v1, v2): res.append([x, v1, v2])\n",
    "@tfm.listen(StrPre, IntPre)\n",
    "def f2(x, v1, v2): res.append([x, v1, v2])\n",
    "@tfm.listen(IntPre)\n",
    "def f3(x, v1): res.append([x, v1])"
   ]
  },
  {
   "cell_type": "code",
   "execution_count": null,
   "metadata": {},
   "outputs": [],
   "source": [
    "res.clear()\n",
    "tfm(4.2)\n",
    "test_eq(res, [-4.2, [-4.2, 4, '4.2'], [-4.2, '4.2', 4], [-4.2, 4]])"
   ]
  },
  {
   "cell_type": "code",
   "execution_count": null,
   "metadata": {},
   "outputs": [],
   "source": [
    "res.clear()\n",
    "tfm(4)\n",
    "test_eq(res, [])"
   ]
  },
  {
   "cell_type": "code",
   "execution_count": null,
   "metadata": {},
   "outputs": [],
   "source": [
    "f1.cancel()\n",
    "res.clear()\n",
    "tfm(4.2)\n",
    "test_eq(res, [-4.2, [-4.2, '4.2', 4], [-4.2, 4]])"
   ]
  },
  {
   "cell_type": "markdown",
   "metadata": {},
   "source": [
    "# Export -"
   ]
  },
  {
   "cell_type": "code",
   "execution_count": null,
   "metadata": {},
   "outputs": [
    {
     "name": "stdout",
     "output_type": "stream",
     "text": [
      "Converted 00_core.ipynb.\n",
      "Converted 01_rxtransform.ipynb.\n",
      "Converted 02_labeller.core.ipynb.\n",
      "Converted 02a_labeller.metrics.ipynb.\n",
      "Converted 03_model.majority_label_voter.ipynb.\n",
      "Converted 05_text.core.ipynb.\n",
      "Converted 06_text.labellers.ipynb.\n",
      "Converted index.ipynb.\n"
     ]
    }
   ],
   "source": [
    "from nbdev.export import notebook2script\n",
    "notebook2script()"
   ]
  }
 ],
 "metadata": {
  "kernelspec": {
   "display_name": "Python 3",
   "language": "python",
   "name": "python3"
  }
 },
 "nbformat": 4,
 "nbformat_minor": 4
}
