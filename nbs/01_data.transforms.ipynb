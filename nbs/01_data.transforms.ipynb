{
 "cells": [
  {
   "cell_type": "code",
   "execution_count": null,
   "metadata": {},
   "outputs": [],
   "source": [
    "#default_exp data.transforms"
   ]
  },
  {
   "cell_type": "markdown",
   "metadata": {},
   "source": [
    "# Data transforms\n",
    "> Common transforms"
   ]
  },
  {
   "cell_type": "code",
   "execution_count": null,
   "metadata": {},
   "outputs": [],
   "source": [
    "#export\n",
    "from fastai2.basics import *\n",
    "from pigboat.basics import *"
   ]
  },
  {
   "cell_type": "code",
   "execution_count": null,
   "metadata": {},
   "outputs": [],
   "source": [
    "#export\n",
    "class CategorizeTaskLabels(MultiCategorize):\n",
    "    def encodes(self, o): o.labels = super().encodes(o.labels); return o \n",
    "    def decodes(self, o): o.labels = super().decodes(o.labels); return o"
   ]
  },
  {
   "cell_type": "code",
   "execution_count": null,
   "metadata": {},
   "outputs": [],
   "source": [
    "class Neg(Transform):\n",
    "    def encodes(self, x:Tensor): return -x"
   ]
  },
  {
   "cell_type": "code",
   "execution_count": null,
   "metadata": {},
   "outputs": [],
   "source": [
    "labeller = Labeller()\n",
    "neg = Neg()\n",
    "@labeller(neg)\n",
    "def func(x): return 'cat1'"
   ]
  },
  {
   "cell_type": "code",
   "execution_count": null,
   "metadata": {},
   "outputs": [],
   "source": [
    "pipe = Pipeline([neg, CategorizeTaskLabels(['cat1'])])\n",
    "test_eq(pipe(tensor(2)).labels, TensorMultiCategory([0]))"
   ]
  },
  {
   "cell_type": "markdown",
   "metadata": {},
   "source": [
    "## Export -"
   ]
  },
  {
   "cell_type": "code",
   "execution_count": null,
   "metadata": {},
   "outputs": [
    {
     "name": "stdout",
     "output_type": "stream",
     "text": [
      "Converted 00_core.ipynb.\n",
      "Converted 01_data.transforms.ipynb.\n",
      "Converted 03_model.majority_label_voter.ipynb.\n",
      "Converted 05_text.core.ipynb.\n",
      "Converted 06_text.labellers.ipynb.\n",
      "Converted Untitled-Copy1.ipynb.\n",
      "Converted index.ipynb.\n",
      "Converted resume-Copy1.ipynb.\n",
      "Converted resume.ipynb.\n",
      "Converted rx_transform.ipynb.\n",
      "Converted rx_transform2-Copy1.ipynb.\n",
      "Converted rx_transform2.ipynb.\n"
     ]
    }
   ],
   "source": [
    "from nbdev.export import notebook2script\n",
    "notebook2script()"
   ]
  },
  {
   "cell_type": "code",
   "execution_count": null,
   "metadata": {},
   "outputs": [],
   "source": []
  }
 ],
 "metadata": {
  "kernelspec": {
   "display_name": "Python 3",
   "language": "python",
   "name": "python3"
  }
 },
 "nbformat": 4,
 "nbformat_minor": 4
}
