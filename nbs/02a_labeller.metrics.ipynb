{
 "cells": [
  {
   "cell_type": "code",
   "execution_count": null,
   "metadata": {},
   "outputs": [],
   "source": [
    "#default_exp labeller.metrics"
   ]
  },
  {
   "cell_type": "code",
   "execution_count": null,
   "metadata": {},
   "outputs": [],
   "source": [
    "#export\n",
    "from fastai2.basics import *\n",
    "from pigboat.basics import *\n",
    "from pigboat.labeller.core import Labeller"
   ]
  },
  {
   "cell_type": "markdown",
   "metadata": {},
   "source": [
    "# Labeller metrics\n",
    "> Utility metrics like `Covereage`"
   ]
  },
  {
   "cell_type": "code",
   "execution_count": null,
   "metadata": {},
   "outputs": [],
   "source": [
    "#export\n",
    "class Coverage:\n",
    "    def reset(self): self.total,self.cov = 0,None\n",
    "    \n",
    "    def accumulate(self, b):\n",
    "        #TODO: Hardcoded 0 for abstain, can be wrong\n",
    "        self.total += b.shape[0]\n",
    "        bcov = (b!=0).sum(axis=0)\n",
    "        self.cov = bcov if self.cov is None else self.cov + bcov\n",
    "        \n",
    "    @property\n",
    "    def value(self): return (self.cov.float()/self.total).tolist()\n",
    "    @property\n",
    "    def name(self): return self.__class__.__name__"
   ]
  },
  {
   "cell_type": "code",
   "execution_count": null,
   "metadata": {},
   "outputs": [],
   "source": [
    "#export\n",
    "# Remove abstain from polarity\n",
    "class Polarity:\n",
    "    def reset(self): self._unique = None\n",
    "    \n",
    "    @property\n",
    "    def unique(self): \n",
    "        unique = self._unique.copy()\n",
    "        unique.map(self._discard_abstain)\n",
    "        return unique\n",
    "        \n",
    "    def accumulate(self, b):\n",
    "        bpol = L(set(t.unique().tolist()) for t in b.unbind(dim=1))\n",
    "        if self._unique is None: self._unique = bpol\n",
    "        else: \n",
    "            for i in range_of(bpol): self._unique[i].update(bpol[i])\n",
    "    \n",
    "    def _discard_abstain(self, o): return o.discard(0) #TODO: Hardcoded 0\n",
    "    \n",
    "    @property\n",
    "    def value(self): return self.unique.map(len)\n",
    "    @property\n",
    "    def name(self): return self.__class__.__name__"
   ]
  },
  {
   "cell_type": "code",
   "execution_count": null,
   "metadata": {},
   "outputs": [],
   "source": [
    "#export\n",
    "defaults.labeller_metrics = [Coverage, Polarity]"
   ]
  },
  {
   "cell_type": "code",
   "execution_count": null,
   "metadata": {},
   "outputs": [],
   "source": [
    "#export\n",
    "_old_labeller_init = Labeller.__init__\n",
    "@patch\n",
    "def __init__(self:Labeller, abstain='abstain', metrics=None):\n",
    "    _old_labeller_init(self, abstain=abstain)\n",
    "    self.metrics = L(instantiate(o) for o in L(metrics)+L(defaults.labeller_metrics))"
   ]
  },
  {
   "cell_type": "code",
   "execution_count": null,
   "metadata": {},
   "outputs": [],
   "source": [
    "#export\n",
    "@patch\n",
    "def summary(self:Labeller, dl):\n",
    "    for metric in self.metrics: metric.reset()\n",
    "    for b in dl:\n",
    "        for metric in self.metrics: metric.accumulate(b)\n",
    "    data = dict(self.metrics.map(lambda o: (o.name, o.value)))\n",
    "    return pd.DataFrame(data, index=self.func_order)"
   ]
  },
  {
   "cell_type": "markdown",
   "metadata": {},
   "source": [
    "## Export -"
   ]
  },
  {
   "cell_type": "code",
   "execution_count": null,
   "metadata": {},
   "outputs": [
    {
     "name": "stdout",
     "output_type": "stream",
     "text": [
      "Converted 00_core.ipynb.\n",
      "Converted 01_data.transforms.ipynb.\n",
      "Converted 02_labeller.core.ipynb.\n",
      "Converted 02a_labeller.metrics.ipynb.\n",
      "Converted 03_model.majority_label_voter.ipynb.\n",
      "Converted 05_text.core.ipynb.\n",
      "Converted 06_text.labellers.ipynb.\n",
      "Converted Untitled-Copy1.ipynb.\n",
      "Converted index.ipynb.\n",
      "Converted resume-Copy1.ipynb.\n",
      "Converted resume.ipynb.\n",
      "Converted rx_transform.ipynb.\n",
      "Converted rx_transform2-Copy1.ipynb.\n",
      "Converted rx_transform2.ipynb.\n"
     ]
    }
   ],
   "source": [
    "from nbdev.export import notebook2script\n",
    "notebook2script()"
   ]
  },
  {
   "cell_type": "code",
   "execution_count": null,
   "metadata": {},
   "outputs": [],
   "source": []
  }
 ],
 "metadata": {
  "kernelspec": {
   "display_name": "Python 3",
   "language": "python",
   "name": "python3"
  }
 },
 "nbformat": 4,
 "nbformat_minor": 4
}
