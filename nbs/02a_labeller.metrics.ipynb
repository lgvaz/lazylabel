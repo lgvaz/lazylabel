{
 "cells": [
  {
   "cell_type": "code",
   "execution_count": null,
   "metadata": {},
   "outputs": [],
   "source": [
    "#default_exp labeller.metrics"
   ]
  },
  {
   "cell_type": "code",
   "execution_count": null,
   "metadata": {},
   "outputs": [],
   "source": [
    "#export\n",
    "from fastai2.basics import *\n",
    "from pigboat.basics import *\n",
    "from pigboat.labeller.core import Labeller"
   ]
  },
  {
   "cell_type": "markdown",
   "metadata": {},
   "source": [
    "# Labeller metrics\n",
    "> Utility metrics like `Covereage`"
   ]
  },
  {
   "cell_type": "code",
   "execution_count": null,
   "metadata": {},
   "outputs": [],
   "source": [
    "#export\n",
    "class LabelMetric:\n",
    "    def reset(self): raise NotImplementedError\n",
    "    def accumulate(self, xb): raise NotImplementedError\n",
    "    @property\n",
    "    def value(self): raise not ImplementedError\n",
    "    @property\n",
    "    def name(self): return self.__class__.__name__"
   ]
  },
  {
   "cell_type": "code",
   "execution_count": null,
   "metadata": {},
   "outputs": [],
   "source": [
    "#export\n",
    "class ValidLabelMetric(LabelMetric):\n",
    "    def accumulate(self, xb, yb): raise NotImplementedError"
   ]
  },
  {
   "cell_type": "code",
   "execution_count": null,
   "metadata": {},
   "outputs": [],
   "source": [
    "#export\n",
    "class Coverage(LabelMetric):\n",
    "    def reset(self): self.total,self.count = 0,0\n",
    "    def accumulate(self, xb):\n",
    "        #TODO: Hardcoded 0 for abstain, can be wrong\n",
    "        self.total += find_bs(xb)\n",
    "        bcount = (xb!=0).sum(axis=0)\n",
    "        self.count += bcount\n",
    "    @property\n",
    "    def value(self): return (self.count.float()/self.total).tolist()"
   ]
  },
  {
   "cell_type": "code",
   "execution_count": null,
   "metadata": {},
   "outputs": [],
   "source": [
    "#export\n",
    "class Polarity(LabelMetric):\n",
    "    def reset(self): self._unique = None\n",
    "    def accumulate(self, xb):\n",
    "        bpol = L(set(t.unique().tolist()) for t in xb.unbind(dim=1))\n",
    "        if self._unique is None: self._unique = bpol\n",
    "        else: \n",
    "            for i in range_of(bpol): self._unique[i].update(bpol[i])\n",
    "    @property\n",
    "    def value(self): return self.unique.map(len)\n",
    "    \n",
    "    @property\n",
    "    def unique(self): \n",
    "        unique = self._unique.copy()\n",
    "        unique.map(self._discard_abstain)\n",
    "        return unique\n",
    "    def _discard_abstain(self, o): return o.discard(0) #TODO: abstain"
   ]
  },
  {
   "cell_type": "code",
   "execution_count": null,
   "metadata": {},
   "outputs": [],
   "source": [
    "#export\n",
    "class CountCorrect(ValidLabelMetric):\n",
    "    def reset(self): self.count = 0\n",
    "    def accumulate(self, xb, yb): self.count += (xb==yb).sum(dim=0) # TODO: abstain\n",
    "    @property\n",
    "    def value(self): return self.count\n",
    "    @property\n",
    "    def name(self): return 'Correct'"
   ]
  },
  {
   "cell_type": "code",
   "execution_count": null,
   "metadata": {},
   "outputs": [],
   "source": [
    "#export\n",
    "class CountIncorrect(CountCorrect):\n",
    "    def accumulate(self, xb, yb):\n",
    "        self.count += ((xb!=0)&(xb!=yb)).sum(dim=0) # TODO: abstain\n",
    "    @property\n",
    "    def name(self): return 'Incorrect'"
   ]
  },
  {
   "cell_type": "code",
   "execution_count": null,
   "metadata": {},
   "outputs": [],
   "source": [
    "#export\n",
    "class LabelAccuracy(ValidLabelMetric):\n",
    "    def reset(self): self.count,self.total = 0,0\n",
    "    def accumulate(self, xb, yb): \n",
    "        self.total += (xb!=0).sum(dim=0) # TODO: abstain\n",
    "        self.count += (xb==yb).sum(dim=0)\n",
    "    @property\n",
    "    def value(self): return self.count.float()/self.total\n",
    "    @property\n",
    "    def name(self): return 'Accuracy'"
   ]
  },
  {
   "cell_type": "code",
   "execution_count": null,
   "metadata": {},
   "outputs": [],
   "source": [
    "#export\n",
    "defaults.labeller_metrics = [Coverage, Polarity, LabelAccuracy, CountCorrect, CountIncorrect]"
   ]
  },
  {
   "cell_type": "code",
   "execution_count": null,
   "metadata": {},
   "outputs": [],
   "source": [
    "#export\n",
    "_old_labeller_init = Labeller.__init__\n",
    "@patch\n",
    "def __init__(self:Labeller, abstain='abstain', metrics=None):\n",
    "    _old_labeller_init(self, abstain=abstain)\n",
    "    self.metrics = L(instantiate(o) for o in L(metrics)+L(defaults.labeller_metrics))"
   ]
  },
  {
   "cell_type": "code",
   "execution_count": null,
   "metadata": {},
   "outputs": [],
   "source": [
    "#export\n",
    "def _split(dl, b):\n",
    "    i = getattr(dl, 'n_inp', 1 if len(b)==1 else len(b)-1)\n",
    "    return b[:i],b[i:]"
   ]
  },
  {
   "cell_type": "code",
   "execution_count": null,
   "metadata": {},
   "outputs": [],
   "source": [
    "#export\n",
    "@patch\n",
    "def summary(self:Labeller, dl):\n",
    "    metrics = self.metrics\n",
    "    for metric in metrics: metric.reset()\n",
    "    for b in dl:\n",
    "        xb,yb = map(detuplify, _split(dl, b))\n",
    "        for metric in metrics:\n",
    "            if not isinstance(metric, ValidLabelMetric): metric.accumulate(xb); continue\n",
    "            if yb is not None:                   metric.accumulate(xb,yb.view(-1,1)) # Safe to add dim in yb?\n",
    "    if yb is None: metrics = metrics.filter(lambda o: not isinstance(o, ValidLabelMetric))\n",
    "    data = dict(metrics.map(lambda o: (o.name, o.value)))\n",
    "    return pd.DataFrame(data, index=self.func_order)"
   ]
  },
  {
   "cell_type": "code",
   "execution_count": null,
   "metadata": {},
   "outputs": [],
   "source": [
    "x = tensor([[0, 0], [0, 1], [0, 2], [1, 0], [0, 2], [1, 0], [1, 2], [0, 0]])\n",
    "dset = Datasets(x)\n",
    "dls = DataLoaders.from_dsets(dset, bs=2, drop_last=False)"
   ]
  },
  {
   "cell_type": "code",
   "execution_count": null,
   "metadata": {},
   "outputs": [],
   "source": [
    "labeller = Labeller()\n",
    "labeller.func_order = [0,1]"
   ]
  },
  {
   "cell_type": "code",
   "execution_count": null,
   "metadata": {},
   "outputs": [
    {
     "data": {
      "text/html": [
       "<div>\n",
       "<style scoped>\n",
       "    .dataframe tbody tr th:only-of-type {\n",
       "        vertical-align: middle;\n",
       "    }\n",
       "\n",
       "    .dataframe tbody tr th {\n",
       "        vertical-align: top;\n",
       "    }\n",
       "\n",
       "    .dataframe thead th {\n",
       "        text-align: right;\n",
       "    }\n",
       "</style>\n",
       "<table border=\"1\" class=\"dataframe\">\n",
       "  <thead>\n",
       "    <tr style=\"text-align: right;\">\n",
       "      <th></th>\n",
       "      <th>Coverage</th>\n",
       "      <th>Polarity</th>\n",
       "    </tr>\n",
       "  </thead>\n",
       "  <tbody>\n",
       "    <tr>\n",
       "      <th>0</th>\n",
       "      <td>0.375</td>\n",
       "      <td>1</td>\n",
       "    </tr>\n",
       "    <tr>\n",
       "      <th>1</th>\n",
       "      <td>0.500</td>\n",
       "      <td>2</td>\n",
       "    </tr>\n",
       "  </tbody>\n",
       "</table>\n",
       "</div>"
      ],
      "text/plain": [
       "   Coverage  Polarity\n",
       "0     0.375         1\n",
       "1     0.500         2"
      ]
     },
     "execution_count": null,
     "metadata": {},
     "output_type": "execute_result"
    }
   ],
   "source": [
    "summary = labeller.summary(dls.train)\n",
    "summary"
   ]
  },
  {
   "cell_type": "code",
   "execution_count": null,
   "metadata": {},
   "outputs": [],
   "source": [
    "#hide\n",
    "df = pd.DataFrame({'Coverage': [0.375, 0.5], 'Polarity': [1, 2]})\n",
    "pd.testing.assert_frame_equal(df, summary)"
   ]
  },
  {
   "cell_type": "markdown",
   "metadata": {},
   "source": [
    "If the data has labels"
   ]
  },
  {
   "cell_type": "code",
   "execution_count": null,
   "metadata": {},
   "outputs": [],
   "source": [
    "y = tensor([1, 1, 1])\n",
    "dset = Datasets(L(zip(x[-3:], y)), tfms=[[ItemGetter(0)], [ItemGetter(1)]])\n",
    "dls = DataLoaders.from_dsets(dset, bs=2, drop_last=False)"
   ]
  },
  {
   "cell_type": "code",
   "execution_count": null,
   "metadata": {},
   "outputs": [
    {
     "data": {
      "text/html": [
       "<div>\n",
       "<style scoped>\n",
       "    .dataframe tbody tr th:only-of-type {\n",
       "        vertical-align: middle;\n",
       "    }\n",
       "\n",
       "    .dataframe tbody tr th {\n",
       "        vertical-align: top;\n",
       "    }\n",
       "\n",
       "    .dataframe thead th {\n",
       "        text-align: right;\n",
       "    }\n",
       "</style>\n",
       "<table border=\"1\" class=\"dataframe\">\n",
       "  <thead>\n",
       "    <tr style=\"text-align: right;\">\n",
       "      <th></th>\n",
       "      <th>Coverage</th>\n",
       "      <th>Polarity</th>\n",
       "      <th>Accuracy</th>\n",
       "      <th>Correct</th>\n",
       "      <th>Incorrect</th>\n",
       "    </tr>\n",
       "  </thead>\n",
       "  <tbody>\n",
       "    <tr>\n",
       "      <th>0</th>\n",
       "      <td>0.666667</td>\n",
       "      <td>1</td>\n",
       "      <td>1.0</td>\n",
       "      <td>2</td>\n",
       "      <td>0</td>\n",
       "    </tr>\n",
       "    <tr>\n",
       "      <th>1</th>\n",
       "      <td>0.333333</td>\n",
       "      <td>1</td>\n",
       "      <td>0.0</td>\n",
       "      <td>0</td>\n",
       "      <td>1</td>\n",
       "    </tr>\n",
       "  </tbody>\n",
       "</table>\n",
       "</div>"
      ],
      "text/plain": [
       "   Coverage  Polarity  Accuracy  Correct  Incorrect\n",
       "0  0.666667         1       1.0        2          0\n",
       "1  0.333333         1       0.0        0          1"
      ]
     },
     "execution_count": null,
     "metadata": {},
     "output_type": "execute_result"
    }
   ],
   "source": [
    "summary = labeller.summary(dls.train)\n",
    "summary"
   ]
  },
  {
   "cell_type": "markdown",
   "metadata": {},
   "source": [
    "## Export -"
   ]
  },
  {
   "cell_type": "code",
   "execution_count": null,
   "metadata": {},
   "outputs": [
    {
     "name": "stdout",
     "output_type": "stream",
     "text": [
      "Converted 00_core.ipynb.\n",
      "Converted 01_data.transforms.ipynb.\n",
      "Converted 02_labeller.core.ipynb.\n",
      "Converted 02a_labeller.metrics.ipynb.\n",
      "Converted 03_model.majority_label_voter.ipynb.\n",
      "Converted 05_text.core.ipynb.\n",
      "Converted 06_text.labellers.ipynb.\n",
      "Converted Untitled-Copy1.ipynb.\n",
      "Converted index.ipynb.\n",
      "Converted resume-Copy1.ipynb.\n",
      "Converted resume.ipynb.\n",
      "Converted rx_transform.ipynb.\n",
      "Converted rx_transform2-Copy1.ipynb.\n",
      "Converted rx_transform2.ipynb.\n"
     ]
    }
   ],
   "source": [
    "from nbdev.export import notebook2script\n",
    "notebook2script()"
   ]
  },
  {
   "cell_type": "code",
   "execution_count": null,
   "metadata": {},
   "outputs": [],
   "source": []
  }
 ],
 "metadata": {
  "kernelspec": {
   "display_name": "Python 3",
   "language": "python",
   "name": "python3"
  }
 },
 "nbformat": 4,
 "nbformat_minor": 4
}
