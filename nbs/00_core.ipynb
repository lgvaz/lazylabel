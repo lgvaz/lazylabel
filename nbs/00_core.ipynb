{
 "cells": [
  {
   "cell_type": "code",
   "execution_count": null,
   "metadata": {},
   "outputs": [],
   "source": [
    "# default_exp core"
   ]
  },
  {
   "cell_type": "markdown",
   "metadata": {},
   "source": [
    "# module name here\n",
    "\n",
    "> API details."
   ]
  },
  {
   "cell_type": "code",
   "execution_count": null,
   "metadata": {},
   "outputs": [],
   "source": [
    "#hide\n",
    "from nbdev.showdoc import *"
   ]
  },
  {
   "cell_type": "code",
   "execution_count": null,
   "metadata": {},
   "outputs": [],
   "source": [
    "#export\n",
    "from fastai2.basics import *"
   ]
  },
  {
   "cell_type": "code",
   "execution_count": null,
   "metadata": {},
   "outputs": [],
   "source": [
    "#export\n",
    "class TypeDispatch2(TypeDispatch):\n",
    "    def __call__(self, *args, **kwargs):\n",
    "        res = super().__call__(*args, **kwargs)\n",
    "        if res is args[0]: return None\n",
    "        return res"
   ]
  },
  {
   "cell_type": "code",
   "execution_count": null,
   "metadata": {},
   "outputs": [],
   "source": [
    "#export\n",
    "class DispatchReg2(DispatchReg):\n",
    "    def __init__(self): self.d = defaultdict(TypeDispatch2)\n",
    "typedispatch2 = DispatchReg2()"
   ]
  },
  {
   "cell_type": "code",
   "execution_count": null,
   "metadata": {},
   "outputs": [],
   "source": [
    "#export\n",
    "def reduce_lbls(lbls, abstain):\n",
    "    lbls = lbls.filter(partial(equals, None), negate=True) # Remove all Nones\n",
    "    if len(lbls)>1: raise ValueError # TODO: Should figure out this case\n",
    "    return lbls[0] if len(lbls)==1 else abstain"
   ]
  },
  {
   "cell_type": "code",
   "execution_count": null,
   "metadata": {},
   "outputs": [],
   "source": [
    "#export\n",
    "def compose_tfms2(x, tfms, lfs, cats, is_enc=True, reverse=False, **kwargs):\n",
    "    \"Apply all `func_nm` attribute of `tfms` on `x`, maybe in `reverse` order\"\n",
    "    if reverse: tfms = reversed(tfms)\n",
    "    lbls = L(L() for _ in range_of(lfs))\n",
    "    for i,lf in enumerate(lfs): lbls[i].append(lf(x))\n",
    "    for f in tfms:\n",
    "        if not is_enc: f = f.decode\n",
    "        x = f(x, **kwargs)\n",
    "        for i,lf in enumerate(lfs): lbls[i].append(lf(x))\n",
    "    # TODO: LF can be called twice (if types repeat)\n",
    "    lbls = [reduce_lbls(v, cats.abstain) for v in lbls]\n",
    "    return lbls"
   ]
  },
  {
   "cell_type": "code",
   "execution_count": null,
   "metadata": {},
   "outputs": [],
   "source": [
    "#export\n",
    "@delegates(Pipeline.__init__)\n",
    "class Pipeline2(Pipeline):\n",
    "    def __init__(self, funcs=None, lfs=None, categories=None, **kwargs):\n",
    "        super().__init__(funcs=funcs, **kwargs)\n",
    "        self.lfs,self.cats = lfs,categories\n",
    "    def __call__(self, o): return compose_tfms2(o, tfms=self.fs, lfs=self.lfs,\n",
    "                                                cats=self.cats, split_idx=self.split_idx)"
   ]
  },
  {
   "cell_type": "markdown",
   "metadata": {},
   "source": [
    "Tests"
   ]
  },
  {
   "cell_type": "code",
   "execution_count": null,
   "metadata": {},
   "outputs": [],
   "source": [
    "Cats = Enum('Cats', 'abstain fint fstr fflt flst')"
   ]
  },
  {
   "cell_type": "code",
   "execution_count": null,
   "metadata": {},
   "outputs": [],
   "source": [
    "@typedispatch2\n",
    "def fint(x:int): return Cats.fint\n",
    "@typedispatch2\n",
    "def fstr(x:str): return Cats.fstr\n",
    "@typedispatch2\n",
    "def fflt(x:float): return Cats.fflt\n",
    "@typedispatch2\n",
    "def flst(x:list): return Cats.flst"
   ]
  },
  {
   "cell_type": "code",
   "execution_count": null,
   "metadata": {},
   "outputs": [],
   "source": [
    "@typedispatch\n",
    "def flt2int(x:float): return int(x)\n",
    "@typedispatch\n",
    "def int2str(x:int): return str(x)\n",
    "@typedispatch\n",
    "def int2flt(x:int): return float(x)\n",
    "@typedispatch\n",
    "def flt2str(x:float): return str(x)\n",
    "@typedispatch\n",
    "def str2int(x:str): return int(float(x))"
   ]
  },
  {
   "cell_type": "code",
   "execution_count": null,
   "metadata": {},
   "outputs": [],
   "source": [
    "tfms = Pipeline2([flt2str, str2int], lfs=[fint, fstr, fflt, flst], categories=Cats)"
   ]
  },
  {
   "cell_type": "code",
   "execution_count": null,
   "metadata": {},
   "outputs": [],
   "source": [
    "test_eq(tfms(1.2), [Cats.fint, Cats.fstr, Cats.fflt, Cats.abstain])"
   ]
  },
  {
   "cell_type": "markdown",
   "metadata": {},
   "source": [
    "## Export -"
   ]
  },
  {
   "cell_type": "code",
   "execution_count": null,
   "metadata": {},
   "outputs": [
    {
     "name": "stdout",
     "output_type": "stream",
     "text": [
      "Converted 00_core.ipynb.\n",
      "Converted Untitled-Copy1.ipynb.\n",
      "Converted index.ipynb.\n",
      "Converted resume.ipynb.\n"
     ]
    }
   ],
   "source": [
    "#hide\n",
    "from nbdev.export import notebook2script\n",
    "notebook2script()"
   ]
  },
  {
   "cell_type": "code",
   "execution_count": null,
   "metadata": {},
   "outputs": [],
   "source": []
  }
 ],
 "metadata": {
  "kernelspec": {
   "display_name": "Python 3",
   "language": "python",
   "name": "python3"
  }
 },
 "nbformat": 4,
 "nbformat_minor": 2
}
