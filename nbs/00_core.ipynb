{
 "cells": [
  {
   "cell_type": "code",
   "execution_count": null,
   "metadata": {},
   "outputs": [],
   "source": [
    "#default_exp core"
   ]
  },
  {
   "cell_type": "markdown",
   "metadata": {},
   "source": [
    "# Core\n",
    "> Subscribe core functionality."
   ]
  },
  {
   "cell_type": "code",
   "execution_count": null,
   "metadata": {},
   "outputs": [],
   "source": [
    "#export\n",
    "from fastai2.basics import *"
   ]
  },
  {
   "cell_type": "markdown",
   "metadata": {},
   "source": [
    "## AttrProxy"
   ]
  },
  {
   "cell_type": "code",
   "execution_count": null,
   "metadata": {},
   "outputs": [],
   "source": [
    "#export\n",
    "class AttrProxy(GetAttr):\n",
    "    def __init__(self, default): self.default = default"
   ]
  },
  {
   "cell_type": "code",
   "execution_count": null,
   "metadata": {},
   "outputs": [],
   "source": [
    "#export\n",
    "def _get_proxy(x):\n",
    "    if x.__class__.__module__ != 'builtins': raise ValueError('Use only with builtins')\n",
    "    name = 'Proxy' + x.__class__.__name__.capitalize()\n",
    "    return type(name, (x.__class__,), {})(x)"
   ]
  },
  {
   "cell_type": "code",
   "execution_count": null,
   "metadata": {},
   "outputs": [],
   "source": [
    "#export\n",
    "def _add_attr(obj, name, value):\n",
    "    try:                   \n",
    "        setattr(obj, name, getattr(obj,'labels',value))\n",
    "        return obj\n",
    "    # It's not possible to set attributes on builtin types, so we wrap with a proxy\n",
    "    except AttributeError: return _add_attr(_get_proxy(obj), name, value)"
   ]
  },
  {
   "cell_type": "markdown",
   "metadata": {},
   "source": [
    "## Maintain labels"
   ]
  },
  {
   "cell_type": "code",
   "execution_count": null,
   "metadata": {},
   "outputs": [],
   "source": [
    "#export\n",
    "def _maintain_labels(old, new):\n",
    "    if hasattr(old, 'labels'): new = _add_attr(new, 'labels', old.labels)\n",
    "    return new"
   ]
  },
  {
   "cell_type": "code",
   "execution_count": null,
   "metadata": {},
   "outputs": [],
   "source": [
    "#export\n",
    "def maintain_labels(f):\n",
    "    def _inner(fn, x, **kwargs):\n",
    "        return _maintain_labels(x, f(fn, x, **kwargs))\n",
    "    return _inner"
   ]
  },
  {
   "cell_type": "markdown",
   "metadata": {},
   "source": [
    "Patch `Pipeline` with `maintain_labels`"
   ]
  },
  {
   "cell_type": "code",
   "execution_count": null,
   "metadata": {},
   "outputs": [],
   "source": [
    "#export\n",
    "# figure out delegates\n",
    "_old_init = Pipeline.__init__\n",
    "@patch\n",
    "def __init__(self:Pipeline, *args, **kwargs):\n",
    "    _old_init(self, *args, **kwargs)\n",
    "    for o in self.fs: o._do_call = maintain_labels(o._do_call)"
   ]
  },
  {
   "cell_type": "markdown",
   "metadata": {},
   "source": [
    "## Subscribe"
   ]
  },
  {
   "cell_type": "code",
   "execution_count": null,
   "metadata": {},
   "outputs": [],
   "source": [
    "#export\n",
    "# TODO: Can confirm function was called without doing \"res is not x\"?\n",
    "@typedispatch\n",
    "def subscribe(tfm:Transform):\n",
    "    old_call = tfm._do_call\n",
    "    tfm.broadcast = True\n",
    "    def _inner(f):\n",
    "        def _call(fn, x, **kwargs):\n",
    "            res = old_call(fn, x, **kwargs)\n",
    "            res = _maintain_labels(x, res)\n",
    "            if tfm.broadcast:\n",
    "                if res is not x: res = f(res)\n",
    "            return res\n",
    "        tfm._do_call = _call\n",
    "        return f\n",
    "    return _inner"
   ]
  },
  {
   "cell_type": "markdown",
   "metadata": {},
   "source": [
    "It's possible to turn subscriptions off"
   ]
  },
  {
   "cell_type": "code",
   "execution_count": null,
   "metadata": {},
   "outputs": [],
   "source": [
    "#export\n",
    "@patch\n",
    "def broadcast(self:Pipeline, v):\n",
    "    for f in self.fs: f.broadcast = v"
   ]
  },
  {
   "cell_type": "markdown",
   "metadata": {},
   "source": [
    "## Labeller"
   ]
  },
  {
   "cell_type": "code",
   "execution_count": null,
   "metadata": {},
   "outputs": [],
   "source": [
    "#export\n",
    "class Labeller:\n",
    "    def __init__(self, abstain='abstain'): self.abstain = abstain\n",
    "        \n",
    "    def __call__(self, tfm):\n",
    "        def _inner(f):\n",
    "            return subscribe(tfm)(self._add_label(f))\n",
    "        return _inner\n",
    "    \n",
    "    def _add_label(self, f):\n",
    "        def _inner(x):\n",
    "            label = ifnone(f(x), self.abstain)\n",
    "            x = _add_attr(x, 'labels', [])\n",
    "            x.labels.append(label)\n",
    "            return x\n",
    "        return _inner"
   ]
  },
  {
   "cell_type": "markdown",
   "metadata": {},
   "source": [
    "Tests labeller with arbitrary transforms"
   ]
  },
  {
   "cell_type": "code",
   "execution_count": null,
   "metadata": {},
   "outputs": [],
   "source": [
    "CAT1,CAT2 = 'cat1','cat2'"
   ]
  },
  {
   "cell_type": "code",
   "execution_count": null,
   "metadata": {},
   "outputs": [],
   "source": [
    "@Transform\n",
    "def neg(x:Tensor): return -x\n",
    "class IntDiv(Transform):\n",
    "    def encodes(self, x:int): return x//2"
   ]
  },
  {
   "cell_type": "code",
   "execution_count": null,
   "metadata": {},
   "outputs": [],
   "source": [
    "labeller = Labeller()\n",
    "int_div = IntDiv()"
   ]
  },
  {
   "cell_type": "code",
   "execution_count": null,
   "metadata": {},
   "outputs": [],
   "source": [
    "@labeller(neg)\n",
    "def labeller_cat1(x): return CAT1\n",
    "@labeller(neg)\n",
    "def labeller_cat2(x): return CAT2\n",
    "@labeller(int_div)\n",
    "def labeller_cat1(x): return CAT1"
   ]
  },
  {
   "cell_type": "code",
   "execution_count": null,
   "metadata": {},
   "outputs": [],
   "source": [
    "pipe = Pipeline(neg)\n",
    "test_eq(pipe(tensor(2)).labels, ['cat1', 'cat2'])"
   ]
  },
  {
   "cell_type": "code",
   "execution_count": null,
   "metadata": {},
   "outputs": [],
   "source": [
    "pipe.broadcast(False)\n",
    "test_fail(lambda: pipe(tensor(2)).labels, ['cat1', 'cat2'], \"'Tensor' object has no attribute 'labels'\")"
   ]
  },
  {
   "cell_type": "code",
   "execution_count": null,
   "metadata": {},
   "outputs": [],
   "source": [
    "pipe = Pipeline([neg, int_div])\n",
    "test_eq(pipe(2).labels, ['cat1'])"
   ]
  },
  {
   "cell_type": "markdown",
   "metadata": {},
   "source": [
    "## Export -"
   ]
  },
  {
   "cell_type": "code",
   "execution_count": null,
   "metadata": {},
   "outputs": [
    {
     "name": "stdout",
     "output_type": "stream",
     "text": [
      "Converted 00_core.ipynb.\n",
      "Converted 01_data.transforms.ipynb.\n",
      "Converted 03_model.majority_label_voter.ipynb.\n",
      "Converted 05_text.core.ipynb.\n",
      "Converted 06_text.labellers.ipynb.\n",
      "Converted Untitled-Copy1.ipynb.\n",
      "Converted index.ipynb.\n",
      "Converted resume-Copy1.ipynb.\n",
      "Converted resume.ipynb.\n",
      "Converted rx_transform.ipynb.\n",
      "Converted rx_transform2-Copy1.ipynb.\n",
      "Converted rx_transform2.ipynb.\n"
     ]
    }
   ],
   "source": [
    "from nbdev.export import notebook2script\n",
    "notebook2script()"
   ]
  }
 ],
 "metadata": {
  "kernelspec": {
   "display_name": "Python 3",
   "language": "python",
   "name": "python3"
  }
 },
 "nbformat": 4,
 "nbformat_minor": 4
}
