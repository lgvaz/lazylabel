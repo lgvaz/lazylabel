{
 "cells": [
  {
   "cell_type": "code",
   "execution_count": null,
   "metadata": {},
   "outputs": [],
   "source": [
    "# default_exp core"
   ]
  },
  {
   "cell_type": "markdown",
   "metadata": {},
   "source": [
    "# module name here\n",
    "\n",
    "> API details."
   ]
  },
  {
   "cell_type": "code",
   "execution_count": null,
   "metadata": {},
   "outputs": [],
   "source": [
    "#hide\n",
    "from nbdev.showdoc import *"
   ]
  },
  {
   "cell_type": "code",
   "execution_count": null,
   "metadata": {},
   "outputs": [],
   "source": [
    "#export\n",
    "from fastai2.basics import *"
   ]
  },
  {
   "cell_type": "code",
   "execution_count": null,
   "metadata": {},
   "outputs": [],
   "source": [
    "#export\n",
    "class TypeDispatch2(TypeDispatch):\n",
    "    def __call__(self, *args, **kwargs):\n",
    "        res = super().__call__(*args, **kwargs)\n",
    "        if res is args[0]: return None\n",
    "        return res"
   ]
  },
  {
   "cell_type": "code",
   "execution_count": null,
   "metadata": {},
   "outputs": [],
   "source": [
    "#export\n",
    "class DispatchReg2(DispatchReg):\n",
    "    def __init__(self): self.d = defaultdict(TypeDispatch2)\n",
    "typedispatch2 = DispatchReg2()"
   ]
  },
  {
   "cell_type": "code",
   "execution_count": null,
   "metadata": {},
   "outputs": [],
   "source": [
    "#export\n",
    "def reduce_lbls(lbls):\n",
    "    lbls = lbls.filter(partial(equals, None), negate=True) # Remove all Nones\n",
    "    if len(lbls)>1: raise ValueError # TODO: Should figure out this case\n",
    "    return categorize(lbls[0] if len(lbls)==1 else ABSTAIN)"
   ]
  },
  {
   "cell_type": "code",
   "execution_count": null,
   "metadata": {},
   "outputs": [],
   "source": [
    "#export\n",
    "def compose_tfms2(x, tfms, lfs, is_enc=True, reverse=False, **kwargs):\n",
    "    \"Apply all `func_nm` attribute of `tfms` on `x`, maybe in `reverse` order\"\n",
    "    if reverse: tfms = reversed(tfms)\n",
    "    lbls = L(L() for _ in range_of(lfs))\n",
    "    for i,lf in enumerate(lfs): lbls[i].append(lf(x))\n",
    "    for f in tfms:\n",
    "        if not is_enc: f = f.decode\n",
    "        x = f(x, **kwargs)\n",
    "        for i,lf in enumerate(lfs): lbls[i].append(lf(x))\n",
    "    # TODO: LF can be called twice (if types repeat)\n",
    "    lbls = [reduce_lbls(v) for v in lbls]\n",
    "    return lbls"
   ]
  },
  {
   "cell_type": "code",
   "execution_count": null,
   "metadata": {},
   "outputs": [],
   "source": [
    "#export\n",
    "@delegates(Pipeline.__init__)\n",
    "class Pipeline2(Pipeline):\n",
    "    def __init__(self, funcs=None, lfs=None, **kwargs):\n",
    "        super().__init__(funcs=funcs, **kwargs)\n",
    "        self.lfs = lfs\n",
    "    def __call__(self, o): return compose_tfms2(o, tfms=self.fs, lfs=self.lfs,\n",
    "                                                split_idx=self.split_idx)"
   ]
  },
  {
   "cell_type": "code",
   "execution_count": null,
   "metadata": {},
   "outputs": [],
   "source": [
    "#export\n",
    "ABSTAIN = 'abstain'\n",
    "categorize = Categorize(vocab=[ABSTAIN])\n",
    "# TODO: Order can change if incrementally add new items\n",
    "def register_categories(*args):\n",
    "    global categorize\n",
    "    categorize = Categorize(vocab=itertools.chain(categorize.vocab,args))"
   ]
  },
  {
   "cell_type": "markdown",
   "metadata": {},
   "source": [
    "Tests"
   ]
  },
  {
   "cell_type": "code",
   "execution_count": null,
   "metadata": {},
   "outputs": [],
   "source": [
    "CAT1,CAT2 = 'CAT1','CAT2'\n",
    "register_categories(CAT1, CAT2)"
   ]
  },
  {
   "cell_type": "code",
   "execution_count": null,
   "metadata": {},
   "outputs": [],
   "source": [
    "@typedispatch2\n",
    "def fint(x:int): return CAT1\n",
    "@typedispatch2\n",
    "def fstr(x:str): return CAT2\n",
    "@typedispatch2\n",
    "def fflt(x:float): return CAT2\n",
    "@typedispatch2\n",
    "def flst(x:list): return CAT1"
   ]
  },
  {
   "cell_type": "code",
   "execution_count": null,
   "metadata": {},
   "outputs": [],
   "source": [
    "@typedispatch\n",
    "def flt2int(x:float): return int(x)\n",
    "@typedispatch\n",
    "def int2str(x:int): return str(x)\n",
    "@typedispatch\n",
    "def int2flt(x:int): return float(x)\n",
    "@typedispatch\n",
    "def flt2str(x:float): return str(x)\n",
    "@typedispatch\n",
    "def str2int(x:str): return int(float(x))"
   ]
  },
  {
   "cell_type": "code",
   "execution_count": null,
   "metadata": {},
   "outputs": [],
   "source": [
    "tfms = Pipeline2([flt2str, str2int], lfs=[fint, fstr, fflt, flst])\n",
    "test_eq(tfms(1.2), map(categorize, [CAT1,CAT2,CAT2,ABSTAIN]))"
   ]
  },
  {
   "cell_type": "markdown",
   "metadata": {},
   "source": [
    "## Export -"
   ]
  },
  {
   "cell_type": "code",
   "execution_count": null,
   "metadata": {},
   "outputs": [
    {
     "name": "stdout",
     "output_type": "stream",
     "text": [
      "Converted 00_core.ipynb.\n",
      "Converted Untitled-Copy1.ipynb.\n",
      "Converted index.ipynb.\n",
      "Converted resume.ipynb.\n"
     ]
    }
   ],
   "source": [
    "#hide\n",
    "from nbdev.export import notebook2script\n",
    "notebook2script()"
   ]
  },
  {
   "cell_type": "code",
   "execution_count": null,
   "metadata": {},
   "outputs": [],
   "source": []
  }
 ],
 "metadata": {
  "kernelspec": {
   "display_name": "Python 3",
   "language": "python",
   "name": "python3"
  }
 },
 "nbformat": 4,
 "nbformat_minor": 2
}
