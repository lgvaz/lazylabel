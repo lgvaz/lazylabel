{
 "cells": [
  {
   "cell_type": "code",
   "execution_count": null,
   "metadata": {},
   "outputs": [],
   "source": [
    "#default_exp core"
   ]
  },
  {
   "cell_type": "markdown",
   "metadata": {},
   "source": [
    "# Core\n",
    "> Subscribe core functionality."
   ]
  },
  {
   "cell_type": "code",
   "execution_count": null,
   "metadata": {},
   "outputs": [],
   "source": [
    "#export\n",
    "from fastai2.basics import *\n",
    "from functools import wraps"
   ]
  },
  {
   "cell_type": "markdown",
   "metadata": {},
   "source": [
    "## Cache TfmdLists"
   ]
  },
  {
   "cell_type": "code",
   "execution_count": null,
   "metadata": {},
   "outputs": [],
   "source": [
    "#export\n",
    "_old_tfmdlists_init = TfmdLists.__init__\n",
    "@patch\n",
    "def __init__(self:TfmdLists, items, tfms, **kwargs):\n",
    "    _old_tfmdlists_init(self, items, tfms, **kwargs)\n",
    "    self.cached = False"
   ]
  },
  {
   "cell_type": "code",
   "execution_count": null,
   "metadata": {},
   "outputs": [],
   "source": [
    "#export\n",
    "_old_tfmdlists_new = TfmdLists._new\n",
    "@patch\n",
    "def _new(self:TfmdLists, items, **kwargs):\n",
    "    tls = _old_tfmdlists_new(self, items, )\n",
    "    tls.cached = self.cached\n",
    "    return tls"
   ]
  },
  {
   "cell_type": "code",
   "execution_count": null,
   "metadata": {},
   "outputs": [],
   "source": [
    "#export\n",
    "@patch\n",
    "def cache(self:TfmdLists, tfms=None, pbar=True):\n",
    "    tfms = Pipeline(tfms)\n",
    "    self.items = [tfms(o) for o in (progress_bar(self) if pbar else self)]\n",
    "    self.cached = True"
   ]
  },
  {
   "cell_type": "code",
   "execution_count": null,
   "metadata": {},
   "outputs": [],
   "source": [
    "#export\n",
    "_old_getitem = TfmdLists.__getitem__\n",
    "@patch\n",
    "def __getitem__(self:TfmdLists, idx):\n",
    "    if self.cached: return super(TfmdLists, self).__getitem__(idx)\n",
    "    else:      return _old_getitem(self, idx)"
   ]
  },
  {
   "cell_type": "code",
   "execution_count": null,
   "metadata": {},
   "outputs": [],
   "source": [
    "splits = [[0],[1]]\n",
    "lazy = TfmdLists([1,2], [partial(random.randint, b=1e6)], splits=splits)\n",
    "test_ne(lazy[0], lazy[0])\n",
    "test_ne(lazy.valid[0], lazy.valid[0])"
   ]
  },
  {
   "cell_type": "code",
   "execution_count": null,
   "metadata": {},
   "outputs": [],
   "source": [
    "lazy.cache(pbar=False)\n",
    "test_eq(lazy[0], lazy[0])\n",
    "test_eq(lazy.valid[0], lazy.valid[0])\n",
    "test_ne(lazy.train[0], lazy.valid[0])"
   ]
  },
  {
   "cell_type": "markdown",
   "metadata": {},
   "source": [
    "## AttrProxy"
   ]
  },
  {
   "cell_type": "markdown",
   "metadata": {},
   "source": [
    "It's not possible to add attributes to _builtins_ types, so we wrap those with `AttrProxy`."
   ]
  },
  {
   "cell_type": "code",
   "execution_count": null,
   "metadata": {},
   "outputs": [],
   "source": [
    "#export\n",
    "class AttrProxy(GetAttr):\n",
    "    def __init__(self, default): self.default = default"
   ]
  },
  {
   "cell_type": "code",
   "execution_count": null,
   "metadata": {},
   "outputs": [],
   "source": [
    "#export\n",
    "def _get_proxy(x):\n",
    "    if x.__class__.__module__ != 'builtins': raise ValueError('Use only with builtins')\n",
    "    name = 'Proxy' + x.__class__.__name__.capitalize()\n",
    "    return type(name, (x.__class__,), {})(x)"
   ]
  },
  {
   "cell_type": "code",
   "execution_count": null,
   "metadata": {},
   "outputs": [],
   "source": [
    "#export\n",
    "def _add_attr(obj, name, value):\n",
    "    try:                   \n",
    "        setattr(obj, name, getattr(obj,'labels',value))\n",
    "        return obj\n",
    "    except AttributeError: return _add_attr(_get_proxy(obj), name, value)"
   ]
  },
  {
   "cell_type": "markdown",
   "metadata": {},
   "source": [
    "## Maintain labels"
   ]
  },
  {
   "cell_type": "markdown",
   "metadata": {},
   "source": [
    "Maintain the `labels` attribute when objects are modified."
   ]
  },
  {
   "cell_type": "code",
   "execution_count": null,
   "metadata": {},
   "outputs": [],
   "source": [
    "#export\n",
    "def _maintain_labels(old, new):\n",
    "    if hasattr(old, 'labels'): new = _add_attr(new, 'labels', old.labels)\n",
    "    return new"
   ]
  },
  {
   "cell_type": "code",
   "execution_count": null,
   "metadata": {},
   "outputs": [],
   "source": [
    "#export\n",
    "def maintain_labels(f):\n",
    "    def _inner(fn, x, **kwargs):\n",
    "        return _maintain_labels(x, f(fn, x, **kwargs))\n",
    "    return _inner"
   ]
  },
  {
   "cell_type": "markdown",
   "metadata": {},
   "source": [
    "Patch `Pipeline` with `maintain_labels`"
   ]
  },
  {
   "cell_type": "code",
   "execution_count": null,
   "metadata": {},
   "outputs": [],
   "source": [
    "#export\n",
    "# figure out delegates\n",
    "_old_pipe_init = Pipeline.__init__\n",
    "@patch\n",
    "def __init__(self:Pipeline, *args, **kwargs):\n",
    "    _old_pipe_init(self, *args, **kwargs)\n",
    "    for o in self.fs: o._do_call = maintain_labels(o._do_call)"
   ]
  },
  {
   "cell_type": "markdown",
   "metadata": {},
   "source": [
    "## Subscribe"
   ]
  },
  {
   "cell_type": "markdown",
   "metadata": {},
   "source": [
    "`Subscribe` is used to inject arbitrary functions that execute when the original subscribed object is called."
   ]
  },
  {
   "cell_type": "code",
   "execution_count": null,
   "metadata": {},
   "outputs": [],
   "source": [
    "#export\n",
    "# TODO: Can confirm function was called without doing \"res is not x\"?\n",
    "@typedispatch\n",
    "def subscribe(tfm:Transform, func_order=None):\n",
    "    old_call = tfm._do_call\n",
    "    tfm.broadcast = True\n",
    "    def _inner(f):\n",
    "        def _call(fn, x, **kwargs):\n",
    "            res = old_call(fn, x, **kwargs)\n",
    "            res = _maintain_labels(x, res)\n",
    "            if tfm.broadcast:\n",
    "                if func_order is not None: func_order.append(f.__name__)\n",
    "                if res is not x: res = f(res)\n",
    "            return res\n",
    "        tfm._do_call = _call\n",
    "        return f\n",
    "    return _inner"
   ]
  },
  {
   "cell_type": "markdown",
   "metadata": {},
   "source": [
    "It's possible to turn subscriptions off"
   ]
  },
  {
   "cell_type": "code",
   "execution_count": null,
   "metadata": {},
   "outputs": [],
   "source": [
    "#export\n",
    "@patch\n",
    "def broadcast(self:Pipeline, v):\n",
    "    for f in self.fs: f.broadcast = v"
   ]
  },
  {
   "cell_type": "markdown",
   "metadata": {},
   "source": [
    "## Labeller"
   ]
  },
  {
   "cell_type": "markdown",
   "metadata": {},
   "source": [
    "`Labeller` wraps `subscribe` and saves the returned value of wrapped functions in a attribute called `labels` in the original object. "
   ]
  },
  {
   "cell_type": "code",
   "execution_count": null,
   "metadata": {},
   "outputs": [],
   "source": [
    "#export\n",
    "class UniqueList(L):\n",
    "    def append(self, o):\n",
    "        if o not in self.items: super().append(o)"
   ]
  },
  {
   "cell_type": "code",
   "execution_count": null,
   "metadata": {},
   "outputs": [],
   "source": [
    "#export\n",
    "class Labeller:\n",
    "    def __init__(self, abstain='abstain'):\n",
    "        self.func_order,self.abstain = UniqueList(),abstain\n",
    "        \n",
    "    def __call__(self, tfm):\n",
    "        def _inner(f):\n",
    "            return subscribe(tfm, self.func_order)(self._add_label(f))\n",
    "        return _inner\n",
    "    \n",
    "    def _add_label(self, f):\n",
    "        @wraps(f)\n",
    "        def _inner(x):\n",
    "            label = ifnone(f(x), self.abstain)\n",
    "            x = _add_attr(x, 'labels', [])\n",
    "            x.labels.append(label)\n",
    "            return x\n",
    "        return _inner"
   ]
  },
  {
   "cell_type": "markdown",
   "metadata": {},
   "source": [
    "Tests labeller with arbitrary transforms"
   ]
  },
  {
   "cell_type": "code",
   "execution_count": null,
   "metadata": {},
   "outputs": [],
   "source": [
    "CAT1,CAT2 = 'cat1','cat2'"
   ]
  },
  {
   "cell_type": "code",
   "execution_count": null,
   "metadata": {},
   "outputs": [],
   "source": [
    "@Transform\n",
    "def neg(x:Tensor): return -x\n",
    "class IntDiv(Transform):\n",
    "    def encodes(self, x:int): return x//2"
   ]
  },
  {
   "cell_type": "code",
   "execution_count": null,
   "metadata": {},
   "outputs": [],
   "source": [
    "labeller = Labeller()\n",
    "int_div = IntDiv()"
   ]
  },
  {
   "cell_type": "code",
   "execution_count": null,
   "metadata": {},
   "outputs": [],
   "source": [
    "@labeller(neg)\n",
    "def labeller_cat1(x): return CAT1\n",
    "@labeller(neg)\n",
    "def labeller_cat2(x): return CAT2\n",
    "@labeller(int_div)\n",
    "def labeller_cat3(x): return CAT1"
   ]
  },
  {
   "cell_type": "code",
   "execution_count": null,
   "metadata": {},
   "outputs": [],
   "source": [
    "pipe = Pipeline(neg)\n",
    "test_eq(pipe(tensor(2)).labels, ['cat1', 'cat2'])"
   ]
  },
  {
   "cell_type": "code",
   "execution_count": null,
   "metadata": {},
   "outputs": [],
   "source": [
    "pipe.broadcast(False)\n",
    "test_fail(lambda: pipe(tensor(2)).labels, ['cat1', 'cat2'], \"'Tensor' object has no attribute 'labels'\")"
   ]
  },
  {
   "cell_type": "code",
   "execution_count": null,
   "metadata": {},
   "outputs": [],
   "source": [
    "pipe = Pipeline([neg, int_div])\n",
    "test_eq(pipe(2).labels, ['cat1'])"
   ]
  },
  {
   "cell_type": "markdown",
   "metadata": {},
   "source": [
    "## Tasks labels helper"
   ]
  },
  {
   "cell_type": "markdown",
   "metadata": {},
   "source": [
    "Extract the `labels` from a `TfmdLists`."
   ]
  },
  {
   "cell_type": "code",
   "execution_count": null,
   "metadata": {},
   "outputs": [],
   "source": [
    "#export\n",
    "def tasks_labels(tls, vocab, splits=None, lazy=False):\n",
    "    tasks = TfmdLists(tls, [AttrGetter('labels'), MultiCategorize(vocab)], splits=splits)\n",
    "    if not lazy: tasks.cache()\n",
    "    return tasks"
   ]
  },
  {
   "cell_type": "markdown",
   "metadata": {},
   "source": [
    "## Export -"
   ]
  },
  {
   "cell_type": "code",
   "execution_count": null,
   "metadata": {},
   "outputs": [
    {
     "name": "stdout",
     "output_type": "stream",
     "text": [
      "Converted 00_core.ipynb.\n",
      "Converted 01_data.transforms.ipynb.\n",
      "Converted 03_model.majority_label_voter.ipynb.\n",
      "Converted 05_text.core.ipynb.\n",
      "Converted 06_text.labellers.ipynb.\n",
      "Converted Untitled-Copy1.ipynb.\n",
      "Converted index.ipynb.\n",
      "Converted resume-Copy1.ipynb.\n",
      "Converted resume.ipynb.\n",
      "Converted rx_transform.ipynb.\n",
      "Converted rx_transform2-Copy1.ipynb.\n",
      "Converted rx_transform2.ipynb.\n"
     ]
    }
   ],
   "source": [
    "from nbdev.export import notebook2script\n",
    "notebook2script()"
   ]
  },
  {
   "cell_type": "code",
   "execution_count": null,
   "metadata": {},
   "outputs": [],
   "source": []
  }
 ],
 "metadata": {
  "kernelspec": {
   "display_name": "Python 3",
   "language": "python",
   "name": "python3"
  }
 },
 "nbformat": 4,
 "nbformat_minor": 4
}
