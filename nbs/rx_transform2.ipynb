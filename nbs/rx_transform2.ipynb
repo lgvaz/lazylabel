{
 "cells": [
  {
   "cell_type": "markdown",
   "metadata": {},
   "source": [
    "Option to turn labelling on and off on tfmdlists  \n",
    "calling parallel on tls to get labels returns list of nones"
   ]
  },
  {
   "cell_type": "code",
   "execution_count": null,
   "metadata": {},
   "outputs": [],
   "source": [
    "from fastai2.basics import *\n",
    "from pigboat.basics import *"
   ]
  },
  {
   "cell_type": "code",
   "execution_count": null,
   "metadata": {},
   "outputs": [],
   "source": [
    "class AttrProxy(GetAttr):\n",
    "    def __init__(self, default): self.default = default"
   ]
  },
  {
   "cell_type": "code",
   "execution_count": null,
   "metadata": {},
   "outputs": [],
   "source": [
    "def _get_proxy(x):\n",
    "    if x.__class__.__module__ != 'builtins': raise ValueError('Use only with builtins')\n",
    "    name = 'Proxy' + x.__class__.__name__.capitalize()\n",
    "    return type(name, (x.__class__,), {})(x)"
   ]
  },
  {
   "cell_type": "code",
   "execution_count": null,
   "metadata": {},
   "outputs": [],
   "source": [
    "def _add_attr(obj, name, value):\n",
    "    try:                   \n",
    "        setattr(obj, name, getattr(obj,'labels',value))\n",
    "        return obj\n",
    "    # It's not possible to set attributes on builtin types, so we wrap with a proxy\n",
    "    except AttributeError: return _add_attr(_get_proxy(obj), name, value)"
   ]
  },
  {
   "cell_type": "code",
   "execution_count": null,
   "metadata": {},
   "outputs": [],
   "source": [
    "def _maintain_labels(old, new):\n",
    "    if hasattr(old, 'labels'): new = _add_attr(new, 'labels', old.labels)\n",
    "    return new"
   ]
  },
  {
   "cell_type": "code",
   "execution_count": null,
   "metadata": {},
   "outputs": [],
   "source": [
    "def maintain_labels(f):\n",
    "    def _inner(fn, x, **kwargs):\n",
    "        return _maintain_labels(x, f(fn, x, **kwargs))\n",
    "    return _inner"
   ]
  },
  {
   "cell_type": "code",
   "execution_count": null,
   "metadata": {},
   "outputs": [],
   "source": [
    "# figure out delegates\n",
    "_old_init = Pipeline.__init__\n",
    "@patch\n",
    "def __init__(self:Pipeline, *args, **kwargs):\n",
    "    _old_init(self, *args, **kwargs)\n",
    "    for o in self.fs: o._do_call = maintain_labels(o._do_call)"
   ]
  },
  {
   "cell_type": "code",
   "execution_count": null,
   "metadata": {},
   "outputs": [],
   "source": [
    "# Can confirm function was called without doing \"res is not x\"?\n",
    "@typedispatch\n",
    "def subscribe(tfm):\n",
    "    old_call = tfm.__call__\n",
    "    def _inner(f):\n",
    "        def _call(self, x, **kwargs):\n",
    "            res = old_call(self, x, **kwargs)\n",
    "            res = _maintain_labels(x, res)\n",
    "            if res is not x: res = f(res)\n",
    "            return res\n",
    "        tfm.__call__ = _call\n",
    "        return f\n",
    "    return _inner"
   ]
  },
  {
   "cell_type": "code",
   "execution_count": null,
   "metadata": {},
   "outputs": [],
   "source": [
    "class Labeller:\n",
    "    def __init__(self, abstain='abstain'): self.abstain = abstain\n",
    "        \n",
    "    def __call__(self, tfm):\n",
    "        def _inner(f):\n",
    "            return subscribe(tfm)(self._add_label(f))\n",
    "        return _inner\n",
    "    \n",
    "    def _add_label(self, f):\n",
    "        def _inner(x):\n",
    "            label = ifnone(f(x), self.abstain)\n",
    "            x = _add_attr(x, 'labels', [])\n",
    "            x.labels.append(label)\n",
    "            return x\n",
    "        return _inner"
   ]
  },
  {
   "cell_type": "code",
   "execution_count": null,
   "metadata": {},
   "outputs": [],
   "source": [
    "def labeller(tfm):\n",
    "    def _inner(f):\n",
    "        return subscribe(tfm)(_add_label(f))\n",
    "    return _inner"
   ]
  },
  {
   "cell_type": "code",
   "execution_count": null,
   "metadata": {},
   "outputs": [],
   "source": [
    "# Does not work with wrapper style\n",
    "# @Transform\n",
    "# def neg(x:Tensor): return -x\n",
    "# @Transform\n",
    "# def add_greeting(x:str): return 'hello ' + x"
   ]
  },
  {
   "cell_type": "code",
   "execution_count": null,
   "metadata": {},
   "outputs": [],
   "source": [
    "class Neg(Transform):\n",
    "    def encodes(self, x:Tensor): return -x"
   ]
  },
  {
   "cell_type": "code",
   "execution_count": null,
   "metadata": {},
   "outputs": [],
   "source": [
    "def func(x): return x+3"
   ]
  },
  {
   "cell_type": "code",
   "execution_count": null,
   "metadata": {},
   "outputs": [],
   "source": [
    "# @labeller(neg)\n",
    "# def labeller_cat1(x): return CAT1\n",
    "# @labeller(neg)\n",
    "# def labeller_cat2(x): return CAT2"
   ]
  },
  {
   "cell_type": "code",
   "execution_count": null,
   "metadata": {},
   "outputs": [],
   "source": [
    "# @labeller(add_greeting)\n",
    "# def labeller_greeting(x): return CAT1"
   ]
  },
  {
   "cell_type": "code",
   "execution_count": null,
   "metadata": {},
   "outputs": [],
   "source": [
    "CAT1,CAT2 = 'cat1','cat2'"
   ]
  },
  {
   "cell_type": "code",
   "execution_count": null,
   "metadata": {},
   "outputs": [],
   "source": [
    "# @labeller(Neg)\n",
    "# def func1(x): return CAT2"
   ]
  },
  {
   "cell_type": "code",
   "execution_count": null,
   "metadata": {},
   "outputs": [],
   "source": [
    "# x = tensor(2)\n",
    "# tfms = Pipeline([Neg])\n",
    "# res = tfms(x)"
   ]
  },
  {
   "cell_type": "code",
   "execution_count": null,
   "metadata": {},
   "outputs": [],
   "source": [
    "# res.labels"
   ]
  },
  {
   "cell_type": "code",
   "execution_count": null,
   "metadata": {},
   "outputs": [],
   "source": [
    "# @Transform\n",
    "# def str2int(x:MyStr): return MyInt(float(x))\n",
    "# @Transform\n",
    "# def int2tensor(x:MyInt): return tensor(x)"
   ]
  },
  {
   "cell_type": "code",
   "execution_count": null,
   "metadata": {},
   "outputs": [],
   "source": [
    "# @labeller(str2int)\n",
    "# def func1(x): return 'str2int'\n",
    "# @labeller(int2tensor)\n",
    "# def func2(x):\n",
    "#     if x>2: return 'int2tensor'"
   ]
  },
  {
   "cell_type": "code",
   "execution_count": null,
   "metadata": {},
   "outputs": [],
   "source": [
    "# pipe = Pipeline([str2int, int2tensor])"
   ]
  },
  {
   "cell_type": "code",
   "execution_count": null,
   "metadata": {},
   "outputs": [],
   "source": [
    "# res = pipe(MyStr('1.2'))\n",
    "# res.labels"
   ]
  },
  {
   "cell_type": "markdown",
   "metadata": {},
   "source": [
    "## IMDB tests"
   ]
  },
  {
   "cell_type": "code",
   "execution_count": null,
   "metadata": {},
   "outputs": [],
   "source": [
    "from fastai2.text.all import *"
   ]
  },
  {
   "cell_type": "code",
   "execution_count": null,
   "metadata": {},
   "outputs": [],
   "source": [
    "source = untar_data(URLs.IMDB_SAMPLE)"
   ]
  },
  {
   "cell_type": "code",
   "execution_count": null,
   "metadata": {},
   "outputs": [],
   "source": [
    "df = pd.read_csv(source/'texts.csv')"
   ]
  },
  {
   "cell_type": "code",
   "execution_count": null,
   "metadata": {},
   "outputs": [],
   "source": [
    "splits = ColSplitter('is_valid')(df)"
   ]
  },
  {
   "cell_type": "code",
   "execution_count": null,
   "metadata": {},
   "outputs": [],
   "source": [
    "df['original'] = df['text']"
   ]
  },
  {
   "cell_type": "code",
   "execution_count": null,
   "metadata": {},
   "outputs": [],
   "source": [
    "col_reader = mk_transform(ColReader('original'))\n",
    "tkzer = Tokenizer.from_df('text')\n",
    "nmzer = Numericalize()"
   ]
  },
  {
   "cell_type": "code",
   "execution_count": null,
   "metadata": {},
   "outputs": [],
   "source": [
    "ABSTAIN,POS,NEG = 'abstain','positive','negative'"
   ]
  },
  {
   "cell_type": "code",
   "execution_count": null,
   "metadata": {},
   "outputs": [],
   "source": [
    "class Noop(Transform):\n",
    "    def encodes(self, x): return x.copy()"
   ]
  },
  {
   "cell_type": "code",
   "execution_count": null,
   "metadata": {},
   "outputs": [],
   "source": [
    "labeller = Labeller()"
   ]
  },
  {
   "cell_type": "code",
   "execution_count": null,
   "metadata": {},
   "outputs": [],
   "source": [
    "@labeller(Tokenizer)\n",
    "def test(x):\n",
    "    return POS"
   ]
  },
  {
   "cell_type": "code",
   "execution_count": null,
   "metadata": {},
   "outputs": [],
   "source": [
    "@labeller(ColReader)\n",
    "def liked(x):\n",
    "    return NEG"
   ]
  },
  {
   "cell_type": "code",
   "execution_count": null,
   "metadata": {},
   "outputs": [],
   "source": [
    "@labeller(Noop)\n",
    "def nothing(x): return 'nada'"
   ]
  },
  {
   "cell_type": "code",
   "execution_count": null,
   "metadata": {},
   "outputs": [],
   "source": [
    "source2 = untar_data(URLs.IMDB)"
   ]
  },
  {
   "cell_type": "code",
   "execution_count": null,
   "metadata": {},
   "outputs": [],
   "source": [
    "folders = ['test', 'train', 'unsup']\n",
    "fns = get_text_files(source2, folders=folders)"
   ]
  },
  {
   "cell_type": "code",
   "execution_count": null,
   "metadata": {},
   "outputs": [],
   "source": [
    "# tls = TfmdLists(fns, tfms=[Tokenizer.from_folder(source2), Numericalize])"
   ]
  },
  {
   "cell_type": "code",
   "execution_count": null,
   "metadata": {},
   "outputs": [],
   "source": [
    "vocab = [ABSTAIN,POS,NEG]"
   ]
  },
  {
   "cell_type": "code",
   "execution_count": null,
   "metadata": {},
   "outputs": [
    {
     "data": {
      "text/html": [],
      "text/plain": [
       "<IPython.core.display.HTML object>"
      ]
     },
     "metadata": {},
     "output_type": "display_data"
    }
   ],
   "source": [
    "# dset = Datasets(df, tfms=[[ColReader('original'), Tokenizer.from_df('text'), Numericalize()]])\n",
    "tls = TfmdLists(df, tfms=[ColReader('original'), Tokenizer.from_df('text'), Numericalize(), CategorizeTaskLabels(vocab=vocab)])"
   ]
  },
  {
   "cell_type": "code",
   "execution_count": null,
   "metadata": {},
   "outputs": [],
   "source": [
    "splits = ColSplitter('is_valid')(df)"
   ]
  },
  {
   "cell_type": "code",
   "execution_count": null,
   "metadata": {},
   "outputs": [
    {
     "data": {
      "text/html": [
       "\n",
       "    <div>\n",
       "        <style>\n",
       "            /* Turns off some styling */\n",
       "            progress {\n",
       "                /* gets rid of default border in Firefox and Opera. */\n",
       "                border: none;\n",
       "                /* Needs to be in here for Safari polyfill so background images work as expected. */\n",
       "                background-size: auto;\n",
       "            }\n",
       "            .progress-bar-interrupted, .progress-bar-interrupted::-webkit-progress-bar {\n",
       "                background: #F44336;\n",
       "            }\n",
       "        </style>\n",
       "      <progress value='1000' class='' max='1000', style='width:300px; height:20px; vertical-align: middle;'></progress>\n",
       "      100.00% [1000/1000 00:04<00:00]\n",
       "    </div>\n",
       "    "
      ],
      "text/plain": [
       "<IPython.core.display.HTML object>"
      ]
     },
     "metadata": {},
     "output_type": "display_data"
    }
   ],
   "source": [
    "# TODO: Patch method to TfmdLists to cache stuff\n",
    "task_labels = TfmdLists([o.labels for o in progress_bar(tls)], [], splits=splits)"
   ]
  },
  {
   "cell_type": "code",
   "execution_count": null,
   "metadata": {},
   "outputs": [],
   "source": [
    "true_labels = TfmdLists(df, [ColReader('label'), Categorize(vocab=vocab)], splits=splits)"
   ]
  },
  {
   "cell_type": "code",
   "execution_count": null,
   "metadata": {},
   "outputs": [],
   "source": [
    "dset_train = Datasets(tls=[task_labels]).train\n",
    "dset_valid = Datasets(tls=[task_labels, true_labels]).valid"
   ]
  },
  {
   "cell_type": "code",
   "execution_count": null,
   "metadata": {},
   "outputs": [],
   "source": [
    "dls = DataLoaders.from_dsets(dset_train,dset_valid)"
   ]
  },
  {
   "cell_type": "code",
   "execution_count": null,
   "metadata": {},
   "outputs": [],
   "source": [
    "def acc(inp,targ): return (inp==targ).float().mean()"
   ]
  },
  {
   "cell_type": "code",
   "execution_count": null,
   "metadata": {},
   "outputs": [],
   "source": [
    "m = MajorityLabelVoter()\n",
    "learn = Learner(dls, m, loss_func=lambda *_: tensor(0.), metrics=acc)"
   ]
  },
  {
   "cell_type": "code",
   "execution_count": null,
   "metadata": {},
   "outputs": [
    {
     "data": {
      "text/html": [],
      "text/plain": [
       "<IPython.core.display.HTML object>"
      ]
     },
     "metadata": {},
     "output_type": "display_data"
    },
    {
     "data": {
      "text/plain": [
       "(#2) [0.0,0.5350000262260437]"
      ]
     },
     "execution_count": null,
     "metadata": {},
     "output_type": "execute_result"
    }
   ],
   "source": [
    "learn.validate()"
   ]
  }
 ],
 "metadata": {
  "kernelspec": {
   "display_name": "Python 3",
   "language": "python",
   "name": "python3"
  }
 },
 "nbformat": 4,
 "nbformat_minor": 4
}
