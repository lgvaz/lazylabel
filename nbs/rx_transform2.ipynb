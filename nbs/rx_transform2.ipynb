{
 "cells": [
  {
   "cell_type": "code",
   "execution_count": null,
   "metadata": {},
   "outputs": [],
   "source": [
    "# def subscribe(tfm):\n",
    "#     old_call = tfm._call\n",
    "#     def _inner(f):\n",
    "#         def _call(self, fn, x, **kwargs):\n",
    "#             res = old_call(self, fn, x, **kwargs)\n",
    "#             if res is not x: f(res)\n",
    "#             return res\n",
    "#         tfm._call = _call\n",
    "#         return f\n",
    "#     return _inner"
   ]
  },
  {
   "cell_type": "markdown",
   "metadata": {},
   "source": [
    "* Modify typedispatch to accept classes type?"
   ]
  },
  {
   "cell_type": "markdown",
   "metadata": {},
   "source": [
    "Create subclass for string  \n",
    "Subscribe on class instead of instance  \n",
    "Use type dispatch to subscribe non transform and functions\n",
    "  * Needs to patch on variable type, that will be passed by subscribe  \n",
    "      * subscribe(Tokenizer)"
   ]
  },
  {
   "cell_type": "code",
   "execution_count": null,
   "metadata": {},
   "outputs": [],
   "source": [
    "from fastai2.basics import *"
   ]
  },
  {
   "cell_type": "code",
   "execution_count": null,
   "metadata": {},
   "outputs": [],
   "source": [
    "class AttrProxy(GetAttr):\n",
    "    def __init__(self, default): self.default = default"
   ]
  },
  {
   "cell_type": "code",
   "execution_count": null,
   "metadata": {},
   "outputs": [],
   "source": [
    "def _get_proxy(x):\n",
    "    if x.__class__.__module__ != 'builtins': raise ValueError('Use only with builtins')\n",
    "    name = 'Proxy' + x.__class__.__name__.capitalize()\n",
    "    return type(name, (x.__class__,), {})(x)"
   ]
  },
  {
   "cell_type": "code",
   "execution_count": null,
   "metadata": {},
   "outputs": [],
   "source": [
    "# class MyStr(str): pass\n",
    "# class MyInt(int): pass"
   ]
  },
  {
   "cell_type": "code",
   "execution_count": null,
   "metadata": {},
   "outputs": [],
   "source": [
    "def _maintain_labels(old, new):\n",
    "    if hasattr(old, 'labels'): new.labels = old.labels"
   ]
  },
  {
   "cell_type": "code",
   "execution_count": null,
   "metadata": {},
   "outputs": [],
   "source": [
    "_old_call = Transform._call\n",
    "@patch\n",
    "def _call(self:Transform, fn, x, **kwargs):\n",
    "    res = _old_call(self, fn, x, **kwargs)\n",
    "    _maintain_labels(x, res)\n",
    "    return res"
   ]
  },
  {
   "cell_type": "code",
   "execution_count": null,
   "metadata": {},
   "outputs": [],
   "source": [
    "def _add_attr(obj, name, value):\n",
    "    try:                   setattr(obj, name, getattr(obj,'labels',[])); return obj\n",
    "    # It's not possible to set attributes on builtin types, so we wrap with a proxy\n",
    "    except AttributeError: return _add_attr(_get_proxy(obj), name, value)"
   ]
  },
  {
   "cell_type": "code",
   "execution_count": null,
   "metadata": {},
   "outputs": [],
   "source": [
    "def _add_label(f):\n",
    "    def _inner(x):\n",
    "        label = f(x)\n",
    "        x = _add_attr(x, 'labels', [])\n",
    "        x.labels.append(label)\n",
    "        return x\n",
    "    return _inner"
   ]
  },
  {
   "cell_type": "code",
   "execution_count": null,
   "metadata": {},
   "outputs": [],
   "source": [
    "# @typedispatch\n",
    "# def subscribe(f):\n",
    "#     old_call = f.__call__\n",
    "#     def _inner(f_):\n",
    "#         def _call(x, **kwargs):\n",
    "#             res = old_call(x, **kwargs)\n",
    "#             _maintain_labels(x, res) # Little difference\n",
    "#             if res is not x: f_(res) # I may also want to handle this case differently\n",
    "#             return res\n",
    "#         f.__call__ = _call\n",
    "#         return f_\n",
    "#     return _inner"
   ]
  },
  {
   "cell_type": "code",
   "execution_count": null,
   "metadata": {},
   "outputs": [],
   "source": [
    "@typedispatch\n",
    "def subscribe(tfm):\n",
    "    old_call = tfm.__call__\n",
    "    def _inner(f):\n",
    "        def _call(self, x, **kwargs):\n",
    "            res = old_call(self, x, **kwargs)\n",
    "            _maintain_labels(x, res)\n",
    "            if res is not x: res = f(res)\n",
    "            return res\n",
    "        tfm.__call__ = _call\n",
    "        return f\n",
    "    return _inner"
   ]
  },
  {
   "cell_type": "code",
   "execution_count": null,
   "metadata": {},
   "outputs": [],
   "source": [
    "def labeller(tfm):\n",
    "    def _inner(f):\n",
    "        return subscribe(tfm)(_add_label(f))\n",
    "    return _inner"
   ]
  },
  {
   "cell_type": "code",
   "execution_count": null,
   "metadata": {},
   "outputs": [],
   "source": [
    "# Does not work with wrapper style\n",
    "# @Transform\n",
    "# def neg(x:Tensor): return -x\n",
    "# @Transform\n",
    "# def add_greeting(x:str): return 'hello ' + x"
   ]
  },
  {
   "cell_type": "code",
   "execution_count": null,
   "metadata": {},
   "outputs": [],
   "source": [
    "class Neg(Transform):\n",
    "    def encodes(self, x:Tensor): return -x"
   ]
  },
  {
   "cell_type": "code",
   "execution_count": null,
   "metadata": {},
   "outputs": [],
   "source": [
    "def func(x): return x+3"
   ]
  },
  {
   "cell_type": "code",
   "execution_count": null,
   "metadata": {},
   "outputs": [],
   "source": [
    "# @labeller(neg)\n",
    "# def labeller_cat1(x): return CAT1\n",
    "# @labeller(neg)\n",
    "# def labeller_cat2(x): return CAT2"
   ]
  },
  {
   "cell_type": "code",
   "execution_count": null,
   "metadata": {},
   "outputs": [],
   "source": [
    "# @labeller(add_greeting)\n",
    "# def labeller_greeting(x): return CAT1"
   ]
  },
  {
   "cell_type": "code",
   "execution_count": null,
   "metadata": {},
   "outputs": [],
   "source": [
    "CAT1,CAT2 = 'cat1','cat2'"
   ]
  },
  {
   "cell_type": "code",
   "execution_count": null,
   "metadata": {},
   "outputs": [],
   "source": [
    "@labeller(Neg)\n",
    "def func1(x): return CAT2"
   ]
  },
  {
   "cell_type": "code",
   "execution_count": null,
   "metadata": {},
   "outputs": [],
   "source": [
    "# x = tensor(2)\n",
    "# tfms = Pipeline([Neg])\n",
    "# res = tfms(x)"
   ]
  },
  {
   "cell_type": "code",
   "execution_count": null,
   "metadata": {},
   "outputs": [],
   "source": [
    "# res.labels"
   ]
  },
  {
   "cell_type": "code",
   "execution_count": null,
   "metadata": {},
   "outputs": [],
   "source": [
    "# @Transform\n",
    "# def str2int(x:MyStr): return MyInt(float(x))\n",
    "# @Transform\n",
    "# def int2tensor(x:MyInt): return tensor(x)"
   ]
  },
  {
   "cell_type": "code",
   "execution_count": null,
   "metadata": {},
   "outputs": [],
   "source": [
    "# @labeller(str2int)\n",
    "# def func1(x): return 'str2int'\n",
    "# @labeller(int2tensor)\n",
    "# def func2(x):\n",
    "#     if x>2: return 'int2tensor'"
   ]
  },
  {
   "cell_type": "code",
   "execution_count": null,
   "metadata": {},
   "outputs": [],
   "source": [
    "# pipe = Pipeline([str2int, int2tensor])"
   ]
  },
  {
   "cell_type": "code",
   "execution_count": null,
   "metadata": {},
   "outputs": [],
   "source": [
    "# res = pipe(MyStr('1.2'))\n",
    "# res.labels"
   ]
  },
  {
   "cell_type": "markdown",
   "metadata": {},
   "source": [
    "## IMDB tests"
   ]
  },
  {
   "cell_type": "code",
   "execution_count": null,
   "metadata": {},
   "outputs": [],
   "source": [
    "from fastai2.text.all import *"
   ]
  },
  {
   "cell_type": "code",
   "execution_count": null,
   "metadata": {},
   "outputs": [],
   "source": [
    "source = untar_data(URLs.IMDB_SAMPLE)"
   ]
  },
  {
   "cell_type": "code",
   "execution_count": null,
   "metadata": {},
   "outputs": [],
   "source": [
    "df = pd.read_csv(source/'texts.csv')"
   ]
  },
  {
   "cell_type": "code",
   "execution_count": null,
   "metadata": {},
   "outputs": [],
   "source": [
    "splits = ColSplitter('is_valid')(df)"
   ]
  },
  {
   "cell_type": "code",
   "execution_count": null,
   "metadata": {},
   "outputs": [],
   "source": [
    "df['original'] = df['text']"
   ]
  },
  {
   "cell_type": "code",
   "execution_count": null,
   "metadata": {},
   "outputs": [],
   "source": [
    "col_reader = mk_transform(ColReader('original'))\n",
    "tkzer = Tokenizer.from_df('text')\n",
    "nmzer = Numericalize()"
   ]
  },
  {
   "cell_type": "code",
   "execution_count": null,
   "metadata": {},
   "outputs": [],
   "source": [
    "POS,NEG = 'positive','negative'"
   ]
  },
  {
   "cell_type": "code",
   "execution_count": null,
   "metadata": {},
   "outputs": [],
   "source": [
    "@labeller(Tokenizer)\n",
    "def test(x):\n",
    "    print('tokenizer')\n",
    "    return POS"
   ]
  },
  {
   "cell_type": "code",
   "execution_count": null,
   "metadata": {},
   "outputs": [],
   "source": [
    "@labeller(ColReader)\n",
    "def liked(x):\n",
    "    print('col')\n",
    "    return NEG"
   ]
  },
  {
   "cell_type": "code",
   "execution_count": null,
   "metadata": {},
   "outputs": [
    {
     "data": {
      "text/html": [],
      "text/plain": [
       "<IPython.core.display.HTML object>"
      ]
     },
     "metadata": {},
     "output_type": "display_data"
    },
    {
     "name": "stdout",
     "output_type": "stream",
     "text": [
      "col\n",
      "tokenizer\n"
     ]
    }
   ],
   "source": [
    "dset = Datasets(df, tfms=[[ColReader('original'), Tokenizer.from_df('text'), Numericalize()]])"
   ]
  },
  {
   "cell_type": "code",
   "execution_count": null,
   "metadata": {},
   "outputs": [
    {
     "name": "stdout",
     "output_type": "stream",
     "text": [
      "col\n",
      "tokenizer\n"
     ]
    }
   ],
   "source": [
    "res = dset[0][0]"
   ]
  },
  {
   "cell_type": "code",
   "execution_count": null,
   "metadata": {},
   "outputs": [
    {
     "data": {
      "text/plain": [
       "['negative', 'positive']"
      ]
     },
     "execution_count": null,
     "metadata": {},
     "output_type": "execute_result"
    }
   ],
   "source": [
    "res.labels"
   ]
  },
  {
   "cell_type": "code",
   "execution_count": null,
   "metadata": {},
   "outputs": [],
   "source": []
  }
 ],
 "metadata": {
  "kernelspec": {
   "display_name": "Python 3",
   "language": "python",
   "name": "python3"
  }
 },
 "nbformat": 4,
 "nbformat_minor": 4
}
