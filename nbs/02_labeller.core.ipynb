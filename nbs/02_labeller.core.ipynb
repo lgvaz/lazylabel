{
 "cells": [
  {
   "cell_type": "code",
   "execution_count": null,
   "metadata": {},
   "outputs": [],
   "source": [
    "#default_exp labeller.core"
   ]
  },
  {
   "cell_type": "code",
   "execution_count": null,
   "metadata": {},
   "outputs": [],
   "source": [
    "#export\n",
    "from fastai2.basics import *\n",
    "from lazylabel.basics import *\n",
    "from functools import wraps"
   ]
  },
  {
   "cell_type": "markdown",
   "metadata": {},
   "source": [
    "# Labeller\n",
    "> `Labeller` wraps `subscribe` and saves the returned value of wrapped functions in a attribute called `labels` in the original object. "
   ]
  },
  {
   "cell_type": "code",
   "execution_count": null,
   "metadata": {},
   "outputs": [],
   "source": [
    "#export\n",
    "class UniqueList(L):\n",
    "    def append(self, o):\n",
    "        if o not in self.items: super().append(o)"
   ]
  },
  {
   "cell_type": "code",
   "execution_count": null,
   "metadata": {},
   "outputs": [],
   "source": [
    "#export\n",
    "class Labeller:\n",
    "    def __init__(self):\n",
    "        self.lfs_order = UniqueList()\n",
    "        self.subs = L()\n",
    "        \n",
    "    def __call__(self, tfm):\n",
    "        def _inner(f): return self.register_func(tfm, f)\n",
    "        return _inner\n",
    "    \n",
    "    def register_func(self, tfm, f):\n",
    "        self.lfs_order.clear()\n",
    "        sub = subscribe(tfm, self.lfs_order)\n",
    "        self.subs.append(sub)\n",
    "        return sub(self._add_label(f))\n",
    "    \n",
    "    def register_funcs(self, tfm, fs):\n",
    "        for f in L(fs): self.register_func(tfm, f)\n",
    "    \n",
    "    def reset(self):\n",
    "        for sub in self.subs: sub.cancel()\n",
    "        self.subs.clear()\n",
    "        self.lfs_order.clear()\n",
    "    \n",
    "    def listen(self, v):\n",
    "        for sub in self.subs: sub.listen = v\n",
    "    \n",
    "    def _add_label(self, f):\n",
    "        @wraps(f)\n",
    "        def _inner(x):\n",
    "            label = f(x)\n",
    "            x = add_attr(x, 'labels', [])\n",
    "            x.labels.append(label)\n",
    "            return x\n",
    "        return _inner"
   ]
  },
  {
   "cell_type": "code",
   "execution_count": null,
   "metadata": {},
   "outputs": [],
   "source": [
    "#export\n",
    "class Labeller:\n",
    "    def __init__(self): self.subs = L()\n",
    "        \n",
    "    def __call__(self, tfm):\n",
    "        def _inner(f): return self.register_func(tfm, f)\n",
    "        return _inner\n",
    "    \n",
    "    def register_func(self, tfm, f, *pre):\n",
    "        sub = tfm.listen(*pre)(self._add_label(f))\n",
    "        self.subs.append(sub)\n",
    "        return sub\n",
    "    \n",
    "    def register_funcs(self, tfm, fs):\n",
    "        for f in L(fs): self.register_func(tfm, f)\n",
    "    \n",
    "    def _add_label(self, f):\n",
    "        @wraps(f)\n",
    "        def _inner(x): x.labels.append(f(x))\n",
    "        return _inner"
   ]
  },
  {
   "cell_type": "markdown",
   "metadata": {},
   "source": [
    "Tests labeller with arbitrary transforms"
   ]
  },
  {
   "cell_type": "code",
   "execution_count": null,
   "metadata": {},
   "outputs": [],
   "source": [
    "ABSTAIN,CAT1,CAT2,CAT3 = 'abstain','neg1','neg2','intdiv1'\n",
    "vocab = [ABSTAIN,CAT1,CAT2]"
   ]
  },
  {
   "cell_type": "code",
   "execution_count": null,
   "metadata": {},
   "outputs": [],
   "source": [
    "@Transform\n",
    "def neg(x:Tensor): return -x\n",
    "class IntDiv(Transform):\n",
    "    def encodes(self, x:int): return x//2"
   ]
  },
  {
   "cell_type": "code",
   "execution_count": null,
   "metadata": {},
   "outputs": [],
   "source": [
    "labeller = Labeller()\n",
    "int_div = IntDiv()"
   ]
  },
  {
   "cell_type": "code",
   "execution_count": null,
   "metadata": {},
   "outputs": [],
   "source": [
    "def labeller_cat1(x): return CAT1\n",
    "def labeller_cat2(x): return CAT2\n",
    "labeller.register_funcs(neg, [labeller_cat1, labeller_cat2])"
   ]
  },
  {
   "cell_type": "code",
   "execution_count": null,
   "metadata": {},
   "outputs": [],
   "source": [
    "@labeller(int_div)\n",
    "def labeller_cat3(x): return CAT3"
   ]
  },
  {
   "cell_type": "code",
   "execution_count": null,
   "metadata": {},
   "outputs": [],
   "source": [
    "pipe = Pipeline(neg)\n",
    "test_eq(pipe(tensor(2)).labels, [CAT1, CAT2])\n",
    "# test_eq(labeller.lfs_order, ['labeller_cat1', 'labeller_cat2'])"
   ]
  },
  {
   "cell_type": "code",
   "execution_count": null,
   "metadata": {},
   "outputs": [],
   "source": [
    "test_eq(pipe(2).labels, [])"
   ]
  },
  {
   "cell_type": "markdown",
   "metadata": {},
   "source": [
    "Labelling functions should only be applied based on type dispatch of the transforms."
   ]
  },
  {
   "cell_type": "code",
   "execution_count": null,
   "metadata": {},
   "outputs": [],
   "source": [
    "pipe = Pipeline([neg, int_div])\n",
    "test_eq(pipe(2).labels, [CAT3])\n",
    "# test_eq(labeller.lfs_order, ['labeller_cat3']) # TODO: failing, old funcs still in the list"
   ]
  },
  {
   "cell_type": "markdown",
   "metadata": {},
   "source": [
    "Reset subscriptions"
   ]
  },
  {
   "cell_type": "code",
   "execution_count": null,
   "metadata": {},
   "outputs": [],
   "source": [
    "@patch\n",
    "def reset(self:Labeller):\n",
    "    for sub in self.subs: sub.cancel()\n",
    "    self.subs.clear()"
   ]
  },
  {
   "cell_type": "code",
   "execution_count": null,
   "metadata": {},
   "outputs": [],
   "source": [
    "labeller.reset()\n",
    "test_eq(pipe(tensor(2)).labels, [])"
   ]
  },
  {
   "cell_type": "markdown",
   "metadata": {},
   "source": [
    "# Find"
   ]
  },
  {
   "cell_type": "markdown",
   "metadata": {},
   "source": [
    "Find samples with specific labels"
   ]
  },
  {
   "cell_type": "code",
   "execution_count": null,
   "metadata": {},
   "outputs": [],
   "source": [
    "#export\n",
    "@patch\n",
    "def _find(self:Labeller, dl, lfs_idxs, lbl_idxs, reduction=operator.and_):\n",
    "    matches,total = [],0\n",
    "    old_shuffle, dl.shuffle = dl.shuffle, False\n",
    "    for b in dl:\n",
    "        xb,yb = split_batch(dl, b)\n",
    "        masks = [xb[:,i]==x for i,x in zip(lfs_idxs,lbl_idxs)]\n",
    "        mask = reduce(reduction, masks)\n",
    "        idxs = np.array(mask2idxs(mask))\n",
    "        matches.extend(idxs+total)\n",
    "        total += find_bs(xb)\n",
    "    dl.shuffle = old_shuffle\n",
    "    return matches"
   ]
  },
  {
   "cell_type": "code",
   "execution_count": null,
   "metadata": {},
   "outputs": [],
   "source": [
    "#export\n",
    "@patch\n",
    "def find(self:Labeller, dl, vocab, lfs, lbls, reduction=operator.and_):\n",
    "    vocab = CategoryMap(vocab)\n",
    "    lfs_idxs = [self.lfs_order.index(lf) for lf in lfs]\n",
    "    lbl_idxs = [vocab.o2i[lbl] for lbl in lbls]\n",
    "    return self._find(dl, lfs_idxs, lbl_idxs, reduction)"
   ]
  },
  {
   "cell_type": "code",
   "execution_count": null,
   "metadata": {},
   "outputs": [],
   "source": [
    "x = tensor([[0, 0], [0, 1], [0, 2], [1, 0], [0, 2], [1, 0], [1, 2], [0, 0]])\n",
    "dset = Datasets(x)\n",
    "dls = DataLoaders.from_dsets(dset, bs=2, drop_last=False)"
   ]
  },
  {
   "cell_type": "code",
   "execution_count": null,
   "metadata": {},
   "outputs": [],
   "source": [
    "labeller = Labeller()\n",
    "labeller.lfs_order = [0,1]"
   ]
  },
  {
   "cell_type": "code",
   "execution_count": null,
   "metadata": {},
   "outputs": [],
   "source": [
    "Categorize??"
   ]
  },
  {
   "cell_type": "code",
   "execution_count": null,
   "metadata": {},
   "outputs": [
    {
     "data": {
      "text/plain": [
       "1"
      ]
     },
     "execution_count": null,
     "metadata": {},
     "output_type": "execute_result"
    }
   ],
   "source": [
    "Categorize(vocab).vocab[1]"
   ]
  },
  {
   "cell_type": "code",
   "execution_count": null,
   "metadata": {},
   "outputs": [
    {
     "name": "stderr",
     "output_type": "stream",
     "text": [
      "Traceback (most recent call last):\n",
      "Traceback (most recent call last):\n",
      "  File \"/home/lgvaz/anaconda3/envs/dl/lib/python3.7/multiprocessing/queues.py\", line 236, in _feed\n",
      "    obj = _ForkingPickler.dumps(obj)\n",
      "  File \"/home/lgvaz/anaconda3/envs/dl/lib/python3.7/multiprocessing/queues.py\", line 236, in _feed\n",
      "    obj = _ForkingPickler.dumps(obj)\n",
      "  File \"/home/lgvaz/anaconda3/envs/dl/lib/python3.7/multiprocessing/reduction.py\", line 51, in dumps\n",
      "    cls(buf, protocol).dump(obj)\n",
      "_pickle.PicklingError: Can't pickle <class 'lazylabel.core.ProxyTuple'>: attribute lookup ProxyTuple on lazylabel.core failed\n",
      "  File \"/home/lgvaz/anaconda3/envs/dl/lib/python3.7/multiprocessing/reduction.py\", line 51, in dumps\n",
      "    cls(buf, protocol).dump(obj)\n",
      "_pickle.PicklingError: Can't pickle <class 'lazylabel.core.ProxyTuple'>: attribute lookup ProxyTuple on lazylabel.core failed\n",
      "Traceback (most recent call last):\n",
      "  File \"/home/lgvaz/anaconda3/envs/dl/lib/python3.7/multiprocessing/queues.py\", line 236, in _feed\n",
      "    obj = _ForkingPickler.dumps(obj)\n",
      "  File \"/home/lgvaz/anaconda3/envs/dl/lib/python3.7/multiprocessing/reduction.py\", line 51, in dumps\n",
      "    cls(buf, protocol).dump(obj)\n",
      "_pickle.PicklingError: Can't pickle <class 'lazylabel.core.ProxyTuple'>: attribute lookup ProxyTuple on lazylabel.core failed\n",
      "Traceback (most recent call last):\n",
      "  File \"/home/lgvaz/anaconda3/envs/dl/lib/python3.7/multiprocessing/queues.py\", line 236, in _feed\n",
      "    obj = _ForkingPickler.dumps(obj)\n",
      "  File \"/home/lgvaz/anaconda3/envs/dl/lib/python3.7/multiprocessing/reduction.py\", line 51, in dumps\n",
      "    cls(buf, protocol).dump(obj)\n",
      "_pickle.PicklingError: Can't pickle <class 'lazylabel.core.ProxyTuple'>: attribute lookup ProxyTuple on lazylabel.core failed\n"
     ]
    },
    {
     "ename": "AssertionError",
     "evalue": "==:\n[]\n[6]",
     "output_type": "error",
     "traceback": [
      "\u001b[0;31m---------------------------------------------------------------------------\u001b[0m",
      "\u001b[0;31mAssertionError\u001b[0m                            Traceback (most recent call last)",
      "\u001b[0;32m<ipython-input-21-5ea9e0102d02>\u001b[0m in \u001b[0;36m<module>\u001b[0;34m\u001b[0m\n\u001b[1;32m      1\u001b[0m \u001b[0mvocab\u001b[0m \u001b[0;34m=\u001b[0m \u001b[0;34m[\u001b[0m\u001b[0;36m0\u001b[0m\u001b[0;34m,\u001b[0m\u001b[0;36m1\u001b[0m\u001b[0;34m,\u001b[0m\u001b[0;36m2\u001b[0m\u001b[0;34m]\u001b[0m\u001b[0;34m\u001b[0m\u001b[0;34m\u001b[0m\u001b[0m\n\u001b[1;32m      2\u001b[0m \u001b[0midxs\u001b[0m \u001b[0;34m=\u001b[0m \u001b[0mlabeller\u001b[0m\u001b[0;34m.\u001b[0m\u001b[0mfind\u001b[0m\u001b[0;34m(\u001b[0m\u001b[0mdls\u001b[0m\u001b[0;34m.\u001b[0m\u001b[0mtrain\u001b[0m\u001b[0;34m,\u001b[0m \u001b[0mvocab\u001b[0m\u001b[0;34m=\u001b[0m\u001b[0mvocab\u001b[0m\u001b[0;34m,\u001b[0m \u001b[0mlfs\u001b[0m\u001b[0;34m=\u001b[0m\u001b[0;34m[\u001b[0m\u001b[0;36m0\u001b[0m\u001b[0;34m,\u001b[0m\u001b[0;36m1\u001b[0m\u001b[0;34m]\u001b[0m\u001b[0;34m,\u001b[0m \u001b[0mlbls\u001b[0m\u001b[0;34m=\u001b[0m\u001b[0;34m[\u001b[0m\u001b[0;36m1\u001b[0m\u001b[0;34m,\u001b[0m\u001b[0;36m2\u001b[0m\u001b[0;34m]\u001b[0m\u001b[0;34m)\u001b[0m\u001b[0;34m\u001b[0m\u001b[0;34m\u001b[0m\u001b[0m\n\u001b[0;32m----> 3\u001b[0;31m \u001b[0mtest_eq\u001b[0m\u001b[0;34m(\u001b[0m\u001b[0midxs\u001b[0m\u001b[0;34m,\u001b[0m \u001b[0;34m[\u001b[0m\u001b[0;36m6\u001b[0m\u001b[0;34m]\u001b[0m\u001b[0;34m)\u001b[0m\u001b[0;34m\u001b[0m\u001b[0;34m\u001b[0m\u001b[0m\n\u001b[0m",
      "\u001b[0;32m~/git/fastcore/fastcore/test.py\u001b[0m in \u001b[0;36mtest_eq\u001b[0;34m(a, b)\u001b[0m\n\u001b[1;32m     30\u001b[0m \u001b[0;32mdef\u001b[0m \u001b[0mtest_eq\u001b[0m\u001b[0;34m(\u001b[0m\u001b[0ma\u001b[0m\u001b[0;34m,\u001b[0m\u001b[0mb\u001b[0m\u001b[0;34m)\u001b[0m\u001b[0;34m:\u001b[0m\u001b[0;34m\u001b[0m\u001b[0;34m\u001b[0m\u001b[0m\n\u001b[1;32m     31\u001b[0m     \u001b[0;34m\"`test` that `a==b`\"\u001b[0m\u001b[0;34m\u001b[0m\u001b[0;34m\u001b[0m\u001b[0m\n\u001b[0;32m---> 32\u001b[0;31m     \u001b[0mtest\u001b[0m\u001b[0;34m(\u001b[0m\u001b[0ma\u001b[0m\u001b[0;34m,\u001b[0m\u001b[0mb\u001b[0m\u001b[0;34m,\u001b[0m\u001b[0mequals\u001b[0m\u001b[0;34m,\u001b[0m \u001b[0;34m'=='\u001b[0m\u001b[0;34m)\u001b[0m\u001b[0;34m\u001b[0m\u001b[0;34m\u001b[0m\u001b[0m\n\u001b[0m\u001b[1;32m     33\u001b[0m \u001b[0;34m\u001b[0m\u001b[0m\n\u001b[1;32m     34\u001b[0m \u001b[0;31m# Cell\u001b[0m\u001b[0;34m\u001b[0m\u001b[0;34m\u001b[0m\u001b[0;34m\u001b[0m\u001b[0m\n",
      "\u001b[0;32m~/git/fastcore/fastcore/test.py\u001b[0m in \u001b[0;36mtest\u001b[0;34m(a, b, cmp, cname)\u001b[0m\n\u001b[1;32m     20\u001b[0m     \u001b[0;34m\"`assert` that `cmp(a,b)`; display inputs and `cname or cmp.__name__` if it fails\"\u001b[0m\u001b[0;34m\u001b[0m\u001b[0;34m\u001b[0m\u001b[0m\n\u001b[1;32m     21\u001b[0m     \u001b[0;32mif\u001b[0m \u001b[0mcname\u001b[0m \u001b[0;32mis\u001b[0m \u001b[0;32mNone\u001b[0m\u001b[0;34m:\u001b[0m \u001b[0mcname\u001b[0m\u001b[0;34m=\u001b[0m\u001b[0mcmp\u001b[0m\u001b[0;34m.\u001b[0m\u001b[0m__name__\u001b[0m\u001b[0;34m\u001b[0m\u001b[0;34m\u001b[0m\u001b[0m\n\u001b[0;32m---> 22\u001b[0;31m     \u001b[0;32massert\u001b[0m \u001b[0mcmp\u001b[0m\u001b[0;34m(\u001b[0m\u001b[0ma\u001b[0m\u001b[0;34m,\u001b[0m\u001b[0mb\u001b[0m\u001b[0;34m)\u001b[0m\u001b[0;34m,\u001b[0m\u001b[0;34mf\"{cname}:\\n{a}\\n{b}\"\u001b[0m\u001b[0;34m\u001b[0m\u001b[0;34m\u001b[0m\u001b[0m\n\u001b[0m\u001b[1;32m     23\u001b[0m \u001b[0;34m\u001b[0m\u001b[0m\n\u001b[1;32m     24\u001b[0m \u001b[0;31m# Cell\u001b[0m\u001b[0;34m\u001b[0m\u001b[0;34m\u001b[0m\u001b[0;34m\u001b[0m\u001b[0m\n",
      "\u001b[0;31mAssertionError\u001b[0m: ==:\n[]\n[6]"
     ]
    }
   ],
   "source": [
    "vocab = [0,1,2]\n",
    "idxs = labeller.find(dls.train, vocab=vocab, lfs=[0,1], lbls=[1,2])\n",
    "test_eq(idxs, [6])"
   ]
  },
  {
   "cell_type": "markdown",
   "metadata": {},
   "source": [
    "## Tasks labels helper"
   ]
  },
  {
   "cell_type": "markdown",
   "metadata": {},
   "source": [
    "Extract the `labels` from a `TfmdLists`."
   ]
  },
  {
   "cell_type": "code",
   "execution_count": null,
   "metadata": {},
   "outputs": [],
   "source": [
    "#export\n",
    "def tasks_labels(tls, vocab, splits=None, lazy=False):\n",
    "    tasks = TfmdLists(tls, [AttrGetter('labels'), MultiCategorize(vocab)], splits=splits)\n",
    "    if not lazy: tasks.cache()\n",
    "    return tasks"
   ]
  },
  {
   "cell_type": "markdown",
   "metadata": {},
   "source": [
    "## Export -"
   ]
  },
  {
   "cell_type": "code",
   "execution_count": null,
   "metadata": {},
   "outputs": [
    {
     "name": "stdout",
     "output_type": "stream",
     "text": [
      "Converted 00_core.ipynb.\n",
      "Converted 02_labeller.core.ipynb.\n",
      "Converted 02a_labeller.metrics.ipynb.\n",
      "Converted 03_model.majority_label_voter.ipynb.\n",
      "Converted 05_text.core.ipynb.\n",
      "Converted 06_text.labellers.ipynb.\n",
      "Converted index.ipynb.\n"
     ]
    }
   ],
   "source": [
    "from nbdev.export import notebook2script\n",
    "notebook2script()"
   ]
  }
 ],
 "metadata": {
  "kernelspec": {
   "display_name": "Python 3",
   "language": "python",
   "name": "python3"
  }
 },
 "nbformat": 4,
 "nbformat_minor": 4
}
