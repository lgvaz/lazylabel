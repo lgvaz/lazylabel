{
 "cells": [
  {
   "cell_type": "code",
   "execution_count": null,
   "metadata": {},
   "outputs": [],
   "source": [
    "#default_exp labeller.core"
   ]
  },
  {
   "cell_type": "code",
   "execution_count": null,
   "metadata": {},
   "outputs": [],
   "source": [
    "#export\n",
    "from fastai2.basics import *\n",
    "from pigboat.basics import *\n",
    "from functools import wraps"
   ]
  },
  {
   "cell_type": "markdown",
   "metadata": {},
   "source": [
    "# Labeller\n",
    "> `Labeller` wraps `subscribe` and saves the returned value of wrapped functions in a attribute called `labels` in the original object. "
   ]
  },
  {
   "cell_type": "code",
   "execution_count": null,
   "metadata": {},
   "outputs": [],
   "source": [
    "#export\n",
    "class UniqueList(L):\n",
    "    def append(self, o):\n",
    "        if o not in self.items: super().append(o)"
   ]
  },
  {
   "cell_type": "code",
   "execution_count": null,
   "metadata": {},
   "outputs": [],
   "source": [
    "#export\n",
    "class Labeller:\n",
    "    def __init__(self, vocab):\n",
    "        self.lfs_order,self.vocab = UniqueList(),CategoryMap(vocab)\n",
    "        self.subs = L()\n",
    "        \n",
    "    def __call__(self, tfm):\n",
    "        def _inner(f): return self.register_func(tfm, f)\n",
    "        return _inner\n",
    "    \n",
    "    def register_func(self, tfm, f):\n",
    "        self.lfs_order.clear()\n",
    "        sub = subscribe(tfm, self.lfs_order)\n",
    "        self.subs.append(sub)\n",
    "        return sub(self._add_label(f))\n",
    "    \n",
    "    def register_funcs(self, tfm, fs):\n",
    "        for f in L(fs): self.register_func(tfm, f)\n",
    "    \n",
    "    def reset(self):\n",
    "        for sub in self.subs: sub.cancel()\n",
    "        self.subs.clear()\n",
    "        self.lfs_order.clear()\n",
    "    \n",
    "    def listen(self, v):\n",
    "        for sub in self.subs: sub.listen = v\n",
    "    \n",
    "    def _add_label(self, f):\n",
    "        @wraps(f)\n",
    "        def _inner(x):\n",
    "            label = f(x)\n",
    "            x = add_attr(x, 'labels', [])\n",
    "            x.labels.append(label)\n",
    "            return x\n",
    "        return _inner"
   ]
  },
  {
   "cell_type": "markdown",
   "metadata": {},
   "source": [
    "Tests labeller with arbitrary transforms"
   ]
  },
  {
   "cell_type": "code",
   "execution_count": null,
   "metadata": {},
   "outputs": [],
   "source": [
    "ABSTAIN,CAT1,CAT2 = 'abstain','cat1','cat2'\n",
    "vocab = [ABSTAIN,CAT1,CAT2]"
   ]
  },
  {
   "cell_type": "code",
   "execution_count": null,
   "metadata": {},
   "outputs": [],
   "source": [
    "@Transform\n",
    "def neg(x:Tensor): return -x\n",
    "class IntDiv(Transform):\n",
    "    def encodes(self, x:int): return x//2"
   ]
  },
  {
   "cell_type": "code",
   "execution_count": null,
   "metadata": {},
   "outputs": [],
   "source": [
    "labeller = Labeller(vocab)\n",
    "int_div = IntDiv()"
   ]
  },
  {
   "cell_type": "code",
   "execution_count": null,
   "metadata": {},
   "outputs": [],
   "source": [
    "def labeller_cat1(x): return CAT1\n",
    "def labeller_cat2(x): return CAT2\n",
    "labeller.register_funcs(neg, [labeller_cat1, labeller_cat2])"
   ]
  },
  {
   "cell_type": "code",
   "execution_count": null,
   "metadata": {},
   "outputs": [],
   "source": [
    "@labeller(int_div)\n",
    "def labeller_cat3(x): return CAT1"
   ]
  },
  {
   "cell_type": "code",
   "execution_count": null,
   "metadata": {},
   "outputs": [],
   "source": [
    "pipe = Pipeline(neg)\n",
    "test_eq(pipe(tensor(2)).labels, ['cat1', 'cat2'])\n",
    "test_eq(labeller.lfs_order, ['labeller_cat1', 'labeller_cat2'])"
   ]
  },
  {
   "cell_type": "code",
   "execution_count": null,
   "metadata": {},
   "outputs": [],
   "source": [
    "labeller.listen(False)\n",
    "test_fail(lambda: pipe(tensor(2)).labels, ['cat1', 'cat2'], \"'Tensor' object has no attribute 'labels'\")"
   ]
  },
  {
   "cell_type": "code",
   "execution_count": null,
   "metadata": {},
   "outputs": [],
   "source": [
    "labeller.listen(True)\n",
    "pipe = Pipeline([neg, int_div])\n",
    "test_eq(pipe(2).labels, ['cat1'])\n",
    "# test_eq(labeller.lfs_order, ['labeller_cat3']) # TODO: failing, old funcs still in the list"
   ]
  },
  {
   "cell_type": "code",
   "execution_count": null,
   "metadata": {},
   "outputs": [],
   "source": [
    "labeller.reset()\n",
    "pipe = Pipeline([neg, int_div])\n",
    "test_fail(lambda: pipe(tensor(2)).labels, \"'Tensor' object has no attribute 'labels'\")"
   ]
  },
  {
   "cell_type": "markdown",
   "metadata": {},
   "source": [
    "# Find"
   ]
  },
  {
   "cell_type": "markdown",
   "metadata": {},
   "source": [
    "Find samples with specific labels"
   ]
  },
  {
   "cell_type": "code",
   "execution_count": null,
   "metadata": {},
   "outputs": [],
   "source": [
    "#export\n",
    "@patch\n",
    "def _find(self:Labeller, dl, lfs_idxs, lbl_idxs, reduction=operator.and_):\n",
    "    matches,total = [],0\n",
    "    old_shuffle, dl.shuffle = dl.shuffle, False\n",
    "    for b in dl:\n",
    "        xb,yb = split_batch(dl, b)\n",
    "        masks = [xb[:,i]==x for i,x in zip(lfs_idxs,lbl_idxs)]\n",
    "        mask = reduce(reduction, masks)\n",
    "        idxs = np.array(mask2idxs(mask))\n",
    "        matches.extend(idxs+total)\n",
    "        total += find_bs(xb)\n",
    "    dl.shuffle = old_shuffle\n",
    "    return matches"
   ]
  },
  {
   "cell_type": "code",
   "execution_count": null,
   "metadata": {},
   "outputs": [],
   "source": [
    "#export\n",
    "@patch\n",
    "def find(self:Labeller, dl, lfs, lbls, reduction=operator.and_):\n",
    "    lfs_idxs = [self.lfs_order.index(lf) for lf in lfs]\n",
    "    lbl_idxs = [self.vocab.o2i[lbl] for lbl in lbls]\n",
    "    return self._find(dl, lfs_idxs, lbl_idxs, reduction)"
   ]
  },
  {
   "cell_type": "code",
   "execution_count": null,
   "metadata": {},
   "outputs": [],
   "source": [
    "x = tensor([[0, 0], [0, 1], [0, 2], [1, 0], [0, 2], [1, 0], [1, 2], [0, 0]])\n",
    "dset = Datasets(x)\n",
    "dls = DataLoaders.from_dsets(dset, bs=2, drop_last=False)"
   ]
  },
  {
   "cell_type": "code",
   "execution_count": null,
   "metadata": {},
   "outputs": [],
   "source": [
    "labeller = Labeller(vocab=[0,1,2])\n",
    "labeller.lfs_order = [0,1]"
   ]
  },
  {
   "cell_type": "code",
   "execution_count": null,
   "metadata": {},
   "outputs": [],
   "source": [
    "idxs = labeller.find(dls.train, lfs=[0,1], lbls=[1,2])\n",
    "test_eq(idxs, [6])"
   ]
  },
  {
   "cell_type": "markdown",
   "metadata": {},
   "source": [
    "## Tasks labels helper"
   ]
  },
  {
   "cell_type": "markdown",
   "metadata": {},
   "source": [
    "Extract the `labels` from a `TfmdLists`."
   ]
  },
  {
   "cell_type": "code",
   "execution_count": null,
   "metadata": {},
   "outputs": [],
   "source": [
    "#export\n",
    "def tasks_labels(tls, vocab, splits=None, lazy=False):\n",
    "    tasks = TfmdLists(tls, [AttrGetter('labels'), MultiCategorize(vocab)], splits=splits)\n",
    "    if not lazy: tasks.cache()\n",
    "    return tasks"
   ]
  },
  {
   "cell_type": "markdown",
   "metadata": {},
   "source": [
    "## Export -"
   ]
  },
  {
   "cell_type": "code",
   "execution_count": null,
   "metadata": {},
   "outputs": [
    {
     "name": "stdout",
     "output_type": "stream",
     "text": [
      "Converted 00_core.ipynb.\n",
      "Converted 02_labeller.core.ipynb.\n",
      "Converted 02a_labeller.metrics.ipynb.\n",
      "Converted 03_model.majority_label_voter.ipynb.\n",
      "Converted 05_text.core.ipynb.\n",
      "Converted 06_text.labellers.ipynb.\n",
      "Converted index.ipynb.\n"
     ]
    }
   ],
   "source": [
    "from nbdev.export import notebook2script\n",
    "notebook2script()"
   ]
  }
 ],
 "metadata": {
  "kernelspec": {
   "display_name": "Python 3",
   "language": "python",
   "name": "python3"
  }
 },
 "nbformat": 4,
 "nbformat_minor": 4
}
