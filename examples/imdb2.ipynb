{
 "cells": [
  {
   "cell_type": "code",
   "execution_count": 18,
   "metadata": {},
   "outputs": [],
   "source": [
    "from lazylabel.text.all import *\n",
    "from fastai2.text.all import *\n",
    "from fastai2.tabular.all import *\n",
    "from textblob import TextBlob"
   ]
  },
  {
   "cell_type": "code",
   "execution_count": 80,
   "metadata": {},
   "outputs": [],
   "source": [
    "pd.options.display.max_colwidth = 9999"
   ]
  },
  {
   "cell_type": "code",
   "execution_count": 2,
   "metadata": {},
   "outputs": [],
   "source": [
    "source = untar_data(URLs.IMDB_SAMPLE)"
   ]
  },
  {
   "cell_type": "code",
   "execution_count": 3,
   "metadata": {},
   "outputs": [
    {
     "data": {
      "text/plain": [
       "(#1) [Path('/home/lgvaz/.fastai/data/imdb_sample/texts.csv')]"
      ]
     },
     "execution_count": 3,
     "metadata": {},
     "output_type": "execute_result"
    }
   ],
   "source": [
    "source.ls()"
   ]
  },
  {
   "cell_type": "code",
   "execution_count": 4,
   "metadata": {},
   "outputs": [
    {
     "data": {
      "text/html": [
       "<div>\n",
       "<style scoped>\n",
       "    .dataframe tbody tr th:only-of-type {\n",
       "        vertical-align: middle;\n",
       "    }\n",
       "\n",
       "    .dataframe tbody tr th {\n",
       "        vertical-align: top;\n",
       "    }\n",
       "\n",
       "    .dataframe thead th {\n",
       "        text-align: right;\n",
       "    }\n",
       "</style>\n",
       "<table border=\"1\" class=\"dataframe\">\n",
       "  <thead>\n",
       "    <tr style=\"text-align: right;\">\n",
       "      <th></th>\n",
       "      <th>label</th>\n",
       "      <th>text</th>\n",
       "      <th>is_valid</th>\n",
       "    </tr>\n",
       "  </thead>\n",
       "  <tbody>\n",
       "    <tr>\n",
       "      <th>0</th>\n",
       "      <td>negative</td>\n",
       "      <td>Un-bleeping-believable! Meg Ryan doesn't even look her usual pert lovable self in this, which normally makes me forgive her shallow ticky acting schtick. Hard to believe she was the producer on this dog. Plus Kevin Kline: what kind of suicide trip has his career been on? Whoosh... Banzai!!! Finally this was directed by the guy who did Big Chill? Must be a replay of Jonestown - hollywood style. Wooofff!</td>\n",
       "      <td>False</td>\n",
       "    </tr>\n",
       "  </tbody>\n",
       "</table>\n",
       "</div>"
      ],
      "text/plain": [
       "      label  \\\n",
       "0  negative   \n",
       "\n",
       "                                                                                                                                                                                                                                                                                                                                                                                                                    text  \\\n",
       "0  Un-bleeping-believable! Meg Ryan doesn't even look her usual pert lovable self in this, which normally makes me forgive her shallow ticky acting schtick. Hard to believe she was the producer on this dog. Plus Kevin Kline: what kind of suicide trip has his career been on? Whoosh... Banzai!!! Finally this was directed by the guy who did Big Chill? Must be a replay of Jonestown - hollywood style. Wooofff!   \n",
       "\n",
       "   is_valid  \n",
       "0     False  "
      ]
     },
     "execution_count": 4,
     "metadata": {},
     "output_type": "execute_result"
    }
   ],
   "source": [
    "df = pd.read_csv(source/'texts.csv')\n",
    "df.head(1)"
   ]
  },
  {
   "cell_type": "code",
   "execution_count": 5,
   "metadata": {},
   "outputs": [],
   "source": [
    "df['original'] = df['text']"
   ]
  },
  {
   "cell_type": "markdown",
   "metadata": {},
   "source": [
    "## Create labellers"
   ]
  },
  {
   "cell_type": "code",
   "execution_count": 6,
   "metadata": {},
   "outputs": [],
   "source": [
    "ABSTAIN,POS,NEG = 'abstain','positive','negative'\n",
    "vocab = CategoryMap([ABSTAIN,POS,NEG])"
   ]
  },
  {
   "cell_type": "code",
   "execution_count": 9,
   "metadata": {},
   "outputs": [],
   "source": [
    "splits = ColSplitter('is_valid')(df)"
   ]
  },
  {
   "cell_type": "code",
   "execution_count": 13,
   "metadata": {},
   "outputs": [
    {
     "data": {
      "text/html": [],
      "text/plain": [
       "<IPython.core.display.HTML object>"
      ]
     },
     "metadata": {},
     "output_type": "display_data"
    },
    {
     "name": "stdout",
     "output_type": "stream",
     "text": [
      "xxbos xxmaj un - xxunk - believable ! xxmaj meg xxmaj ryan does n't even look her usual xxunk lovable self in this , which normally makes me forgive her shallow xxunk acting xxunk . xxmaj hard to believe she was the producer on this dog . xxmaj plus xxmaj kevin xxmaj kline : what kind of suicide trip has his career been on ? xxmaj xxunk … xxmaj xxunk xxrep 3 ! xxmaj finally this was directed by the guy who did xxmaj big xxmaj xxunk ? xxmaj must be a replay of xxmaj jonestown - hollywood style . w xxrep 3 o xxrep 3 f !\n"
     ]
    }
   ],
   "source": [
    "cder,tkzer,nmzer = map(mk_transform, [ColReader('original'), Tokenizer.from_df('text'), Numericalize])\n",
    "x_tls = TfmdLists(df, [cder,tkzer,nmzer], splits=splits)\n",
    "show_at(x_tls, 0)"
   ]
  },
  {
   "cell_type": "code",
   "execution_count": 15,
   "metadata": {},
   "outputs": [
    {
     "name": "stdout",
     "output_type": "stream",
     "text": [
      "negative\n"
     ]
    }
   ],
   "source": [
    "y_tls = TfmdLists(df, [ColReader('label'), Categorize(vocab)], splits=splits)\n",
    "show_at(y_tls, 0)"
   ]
  },
  {
   "cell_type": "code",
   "execution_count": 16,
   "metadata": {},
   "outputs": [],
   "source": [
    "dset = Datasets(tls=[x_tls, y_tls])"
   ]
  },
  {
   "cell_type": "code",
   "execution_count": 30,
   "metadata": {},
   "outputs": [],
   "source": [
    "labeller = Labeller()"
   ]
  },
  {
   "cell_type": "code",
   "execution_count": 83,
   "metadata": {},
   "outputs": [],
   "source": [
    "def keyword_match(ws, label):\n",
    "    ws = L(ws)\n",
    "    def _inner(x):\n",
    "        for w in ws:\n",
    "            if w in x: return label\n",
    "        return ABSTAIN\n",
    "    _inner.__name__ = f'kw_{ws[0]}'\n",
    "    labeller.register_func(tkzer, _inner)"
   ]
  },
  {
   "cell_type": "code",
   "execution_count": 54,
   "metadata": {},
   "outputs": [],
   "source": [
    "@labeller(cder, TextBlob)\n",
    "def tb_polarity(x, tb):\n",
    "    if tb.polarity > .2:  return POS\n",
    "    if tb.polarity < .1: return NEG\n",
    "    return ABSTAIN"
   ]
  },
  {
   "cell_type": "code",
   "execution_count": 115,
   "metadata": {},
   "outputs": [],
   "source": [
    "labeller.reset()"
   ]
  },
  {
   "cell_type": "code",
   "execution_count": 86,
   "metadata": {},
   "outputs": [],
   "source": [
    "keyword_match(['hate', 'hated'], NEG)"
   ]
  },
  {
   "cell_type": "code",
   "execution_count": 107,
   "metadata": {},
   "outputs": [],
   "source": [
    "keyword_match(['loved'], POS)"
   ]
  },
  {
   "cell_type": "code",
   "execution_count": 116,
   "metadata": {},
   "outputs": [],
   "source": [
    "keyword_match(['heck'], POS)"
   ]
  },
  {
   "cell_type": "code",
   "execution_count": 117,
   "metadata": {},
   "outputs": [
    {
     "data": {
      "text/html": [
       "\n",
       "    <div>\n",
       "        <style>\n",
       "            /* Turns off some styling */\n",
       "            progress {\n",
       "                /* gets rid of default border in Firefox and Opera. */\n",
       "                border: none;\n",
       "                /* Needs to be in here for Safari polyfill so background images work as expected. */\n",
       "                background-size: auto;\n",
       "            }\n",
       "            .progress-bar-interrupted, .progress-bar-interrupted::-webkit-progress-bar {\n",
       "                background: #F44336;\n",
       "            }\n",
       "        </style>\n",
       "      <progress value='1000' class='' max='1000', style='width:300px; height:20px; vertical-align: middle;'></progress>\n",
       "      100.00% [1000/1000 00:04<00:00]\n",
       "    </div>\n",
       "    "
      ],
      "text/plain": [
       "<IPython.core.display.HTML object>"
      ]
     },
     "metadata": {},
     "output_type": "display_data"
    },
    {
     "data": {
      "text/html": [
       "<div>\n",
       "<style scoped>\n",
       "    .dataframe tbody tr th:only-of-type {\n",
       "        vertical-align: middle;\n",
       "    }\n",
       "\n",
       "    .dataframe tbody tr th {\n",
       "        vertical-align: top;\n",
       "    }\n",
       "\n",
       "    .dataframe thead th {\n",
       "        text-align: right;\n",
       "    }\n",
       "</style>\n",
       "<table border=\"1\" class=\"dataframe\">\n",
       "  <thead>\n",
       "    <tr style=\"text-align: right;\">\n",
       "      <th></th>\n",
       "      <th>Coverage</th>\n",
       "      <th>Polarity</th>\n",
       "      <th>Accuracy</th>\n",
       "      <th>Correct</th>\n",
       "      <th>Incorrect</th>\n",
       "    </tr>\n",
       "  </thead>\n",
       "  <tbody>\n",
       "    <tr>\n",
       "      <th>kw_heck</th>\n",
       "      <td>1.17% (9)</td>\n",
       "      <td>1</td>\n",
       "      <td>0.444444</td>\n",
       "      <td>4</td>\n",
       "      <td>5</td>\n",
       "    </tr>\n",
       "  </tbody>\n",
       "</table>\n",
       "</div>"
      ],
      "text/plain": [
       "          Coverage  Polarity  Accuracy  Correct  Incorrect\n",
       "kw_heck  1.17% (9)         1  0.444444        4          5"
      ]
     },
     "execution_count": 117,
     "metadata": {},
     "output_type": "execute_result"
    }
   ],
   "source": [
    "tasks = tasks_labels(labeller, x_tls, vocab)\n",
    "dset = Datasets(tls=[tasks, y_tls])\n",
    "dls = dset.dataloaders()\n",
    "labeller.summary(dls.train)"
   ]
  },
  {
   "cell_type": "code",
   "execution_count": 109,
   "metadata": {},
   "outputs": [],
   "source": [
    "idxs = labeller.find(dls.train, vocab, ['kw_heck'], [POS])"
   ]
  },
  {
   "cell_type": "code",
   "execution_count": 113,
   "metadata": {},
   "outputs": [
    {
     "data": {
      "text/html": [
       "<div>\n",
       "<style scoped>\n",
       "    .dataframe tbody tr th:only-of-type {\n",
       "        vertical-align: middle;\n",
       "    }\n",
       "\n",
       "    .dataframe tbody tr th {\n",
       "        vertical-align: top;\n",
       "    }\n",
       "\n",
       "    .dataframe thead th {\n",
       "        text-align: right;\n",
       "    }\n",
       "</style>\n",
       "<table border=\"1\" class=\"dataframe\">\n",
       "  <thead>\n",
       "    <tr style=\"text-align: right;\">\n",
       "      <th></th>\n",
       "      <th>text</th>\n",
       "      <th>label</th>\n",
       "    </tr>\n",
       "  </thead>\n",
       "  <tbody>\n",
       "    <tr>\n",
       "      <th>200</th>\n",
       "      <td>I loved the first \"Azumi\" movie. I've seen Ms. Ueto in a variety of her TV appearances and I've seen my fair share of samurai and ninja flicks. I have to say that this movie was much weaker than I'd expected.&lt;br /&gt;&lt;br /&gt;Given the movie's cast and set up in \"Azumi\", they should have been able to do a much better job with this movie, but instead it was slow, plodding in parts, and sprinkled with very poor, unconvincing, and wooden acting.&lt;br /&gt;&lt;br /&gt;When they bothered to reference the first movie, they did so in a manner that was pretty loose and weak. In \"Azumi\", the title character is the best of a group of superior killers. In \"Azumi 2\" she seems somehow diminished and less-impressive.&lt;br /&gt;&lt;br /&gt;That's not to say it was a total loss. There were a few decent fight scenes and some over-the-top characters. Unfortunately, the movie suffers overall from the simple fact that Shusuke Kaneko and Yoshiaki Kawajiri are not Ryuhei Kitamura and Isao Kiriyama. The latter two truly captured the \"manga\" feel in their screenplay whereas the former never quite \"got it.\"</td>\n",
       "      <td>negative</td>\n",
       "    </tr>\n",
       "    <tr>\n",
       "      <th>398</th>\n",
       "      <td>A friend once asked me to read a screenplay of his that had been optioned by a movie studio. To say it was one of the most inept and insipid scripts I'd ever read would be a bold understatement. Yet I never told him this. Why? Because in a world where films like \"While She Was Out\" can be green-lighted and attract an Oscar- winning star like Kim Basinger, a screenplay lacking in character, content and common sense is no guarantee that it won't sell.&lt;br /&gt;&lt;br /&gt;As so many other reviewers have pointed out, \"While She Was Out\" is a dreadfully under-written Woman-in-Peril film that has abused housewife Basinger hunted by four unlikely hoods on Christmas Eve. Every gripe is legitimate, from the weak dialog and bad acting to the jaw-dropping lapses of logic, but Basinger is such an interesting actress and the premise is not without promise. Here are a couple of things that struck me:&lt;br /&gt;&lt;br /&gt;1) I don't care how much we are supposed to think her husband is a jerk, the house IS a mess with toys. Since when did it become child abuse to make kids pick up after themselves?&lt;br /&gt;&lt;br /&gt;2) Racially diverse gangs are rare everywhere except Hollywood, where they are usually the only racially balanced groups on screen.&lt;br /&gt;&lt;br /&gt;3) Sure the film is stupid. But so are the countless \"thrillers\" I've sat through where the women are portrayed as wailing, helpless victims of male sadism. Stupid or not, I found it refreshing to see a woman getting the best of her tormentors.&lt;br /&gt;&lt;br /&gt;4) I LOVED the ending! &lt;br /&gt;&lt;br /&gt;5) Though an earlier reviewer coined this phrase, I really DO think this film should be retitled \"The Red Toolbox of Doom.\"</td>\n",
       "      <td>negative</td>\n",
       "    </tr>\n",
       "    <tr>\n",
       "      <th>600</th>\n",
       "      <td>15 years ago, Power Rangers was one of the shows that swept the nations, especially that of the youth. When I was a 3-year-old kid living in the Philippines, I would watch this show every Friday on ABS-CBN (Channel 2 over there). When the movie came out in 1995, it was all shock and awe to me when I watched it with my dad and 2 uncles. My grandparents even sent me a \"Balikbayan\" box full of Power Rangers stuff (including the easy-to-build Megazord figure and the stuffed toys of the Rangers). I even played the video games, and loved only one of them (\"MMPR: Fighting Edition\"), which was REALLY sad. Anyway, it was the show that set a stepping stone on my interest on robot series (especially anime mech series like \"Gundam\") Now that I'm 18, I'd like to think this show is pretty cheesy to me now. To prove this, I took a trip down memory lane by buying a 2-set DVD collection with \"MMPR: The Movie\" and \"Turbo: A Power Rangers Movie\" and watched both of them. I was like, \"Ugh. How awful. Just another junk in the attic for me.\" For all of you people of my generation, this is NOT a show that you'd want to watch over and over again. I'm not saying to leave it behind for the rest of your life, but occasionally is not a bad thing now, is it? Instead of \"Power Rangers\", I'd recommend something like \"Mobile Fighter G Gundam\" (HIGHLY RECOMMENDED), \"Ninja Senshi Tobikage\" (aka Ninja Robots), or even the ORIGINAL Sentai shows that were the basis of \"Power Rangers.\"</td>\n",
       "      <td>negative</td>\n",
       "    </tr>\n",
       "    <tr>\n",
       "      <th>350</th>\n",
       "      <td>The story and the characters were some of the best I've ever seen. the graphics were good for the PS and the cut scenes and voice overs were amazing. I beat the game at least 3 times and loved every second of it. I felt the problems the protagonist faced were believable and realistic and i believe it deserves a sequel. or at least a remake. If they remade it for the ps3 i would buy the system for just that game and maybe mgs4 its amazing also the idea and execution of the dragoon system is enough to warrant a rental and on top of that ad the inventive although sometimes cheating(stupid buster wand) combat addition system and the plot makes this game a definite buy.</td>\n",
       "      <td>positive</td>\n",
       "    </tr>\n",
       "    <tr>\n",
       "      <th>205</th>\n",
       "      <td>hg is normally exploitive, and it's never really bothered me before--i loved \"bloodfeast 2\", but i really don't like pseudo sciences or playing on heuristics. the whole movie is based on a man with esp caused by an electrical accident and a witch. i'm not opposed to witches, and i liked \"carrie\" (the novel and the movie) but this one bothered me. i think it's because of the main character developing esp from an electric line. also the university professor wasting his time studying esp cases. i wasn't alive in the 60s to know first hand whether or not esp was a common fallacy then, but i assume that any theory of such nature would simply be discredited. what really bothered me was the way the police were describing schizophrenics as ruthless, unpredictable villains who can seem like normal people 99% of the time and then just snap. nothing could be further from the truth. i detest such concepts because they add to public idiocy. many people still think that schizophrenia is dissociative identity disorder. whoever wrote this script didn't know much about psychology.&lt;br /&gt;&lt;br /&gt;there were some decent concepts to the movie. i liked the way the witch used men; it was a nice change. i liked how she could make herself attractive, but didn't when she was around her forced lovers. i found it interesting how her second lover also burned his face. had the script been touched up for a few weeks before production and not focused solely on making its audience dumber, this may have been a decent movie.</td>\n",
       "      <td>negative</td>\n",
       "    </tr>\n",
       "  </tbody>\n",
       "</table>\n",
       "</div>"
      ],
      "text/plain": [
       "                                                                                                                                                                                                                                                                                                                                                                                                                                                                                                                                                                                                                                                                                                                                                                                                                                                                                                                                                                                                                                                                                                                                                                                                                                                                                                                                                                                                                                                                                                                                                                                                                                                                                                                   text  \\\n",
       "200                                                                                                                                                                                                                                                                                                                                                                                                                                                                                                                                                                                                     I loved the first \"Azumi\" movie. I've seen Ms. Ueto in a variety of her TV appearances and I've seen my fair share of samurai and ninja flicks. I have to say that this movie was much weaker than I'd expected.<br /><br />Given the movie's cast and set up in \"Azumi\", they should have been able to do a much better job with this movie, but instead it was slow, plodding in parts, and sprinkled with very poor, unconvincing, and wooden acting.<br /><br />When they bothered to reference the first movie, they did so in a manner that was pretty loose and weak. In \"Azumi\", the title character is the best of a group of superior killers. In \"Azumi 2\" she seems somehow diminished and less-impressive.<br /><br />That's not to say it was a total loss. There were a few decent fight scenes and some over-the-top characters. Unfortunately, the movie suffers overall from the simple fact that Shusuke Kaneko and Yoshiaki Kawajiri are not Ryuhei Kitamura and Isao Kiriyama. The latter two truly captured the \"manga\" feel in their screenplay whereas the former never quite \"got it.\"   \n",
       "398  A friend once asked me to read a screenplay of his that had been optioned by a movie studio. To say it was one of the most inept and insipid scripts I'd ever read would be a bold understatement. Yet I never told him this. Why? Because in a world where films like \"While She Was Out\" can be green-lighted and attract an Oscar- winning star like Kim Basinger, a screenplay lacking in character, content and common sense is no guarantee that it won't sell.<br /><br />As so many other reviewers have pointed out, \"While She Was Out\" is a dreadfully under-written Woman-in-Peril film that has abused housewife Basinger hunted by four unlikely hoods on Christmas Eve. Every gripe is legitimate, from the weak dialog and bad acting to the jaw-dropping lapses of logic, but Basinger is such an interesting actress and the premise is not without promise. Here are a couple of things that struck me:<br /><br />1) I don't care how much we are supposed to think her husband is a jerk, the house IS a mess with toys. Since when did it become child abuse to make kids pick up after themselves?<br /><br />2) Racially diverse gangs are rare everywhere except Hollywood, where they are usually the only racially balanced groups on screen.<br /><br />3) Sure the film is stupid. But so are the countless \"thrillers\" I've sat through where the women are portrayed as wailing, helpless victims of male sadism. Stupid or not, I found it refreshing to see a woman getting the best of her tormentors.<br /><br />4) I LOVED the ending! <br /><br />5) Though an earlier reviewer coined this phrase, I really DO think this film should be retitled \"The Red Toolbox of Doom.\"   \n",
       "600                                                                                                                                                                                    15 years ago, Power Rangers was one of the shows that swept the nations, especially that of the youth. When I was a 3-year-old kid living in the Philippines, I would watch this show every Friday on ABS-CBN (Channel 2 over there). When the movie came out in 1995, it was all shock and awe to me when I watched it with my dad and 2 uncles. My grandparents even sent me a \"Balikbayan\" box full of Power Rangers stuff (including the easy-to-build Megazord figure and the stuffed toys of the Rangers). I even played the video games, and loved only one of them (\"MMPR: Fighting Edition\"), which was REALLY sad. Anyway, it was the show that set a stepping stone on my interest on robot series (especially anime mech series like \"Gundam\") Now that I'm 18, I'd like to think this show is pretty cheesy to me now. To prove this, I took a trip down memory lane by buying a 2-set DVD collection with \"MMPR: The Movie\" and \"Turbo: A Power Rangers Movie\" and watched both of them. I was like, \"Ugh. How awful. Just another junk in the attic for me.\" For all of you people of my generation, this is NOT a show that you'd want to watch over and over again. I'm not saying to leave it behind for the rest of your life, but occasionally is not a bad thing now, is it? Instead of \"Power Rangers\", I'd recommend something like \"Mobile Fighter G Gundam\" (HIGHLY RECOMMENDED), \"Ninja Senshi Tobikage\" (aka Ninja Robots), or even the ORIGINAL Sentai shows that were the basis of \"Power Rangers.\"   \n",
       "350                                                                                                                                                                                                                                                                                                                                                                                                                                                                                                                                                                                                                                                                                                                                                                                                                                                                                                                                                                                                                   The story and the characters were some of the best I've ever seen. the graphics were good for the PS and the cut scenes and voice overs were amazing. I beat the game at least 3 times and loved every second of it. I felt the problems the protagonist faced were believable and realistic and i believe it deserves a sequel. or at least a remake. If they remade it for the ps3 i would buy the system for just that game and maybe mgs4 its amazing also the idea and execution of the dragoon system is enough to warrant a rental and on top of that ad the inventive although sometimes cheating(stupid buster wand) combat addition system and the plot makes this game a definite buy.   \n",
       "205                                                                                                                                            hg is normally exploitive, and it's never really bothered me before--i loved \"bloodfeast 2\", but i really don't like pseudo sciences or playing on heuristics. the whole movie is based on a man with esp caused by an electrical accident and a witch. i'm not opposed to witches, and i liked \"carrie\" (the novel and the movie) but this one bothered me. i think it's because of the main character developing esp from an electric line. also the university professor wasting his time studying esp cases. i wasn't alive in the 60s to know first hand whether or not esp was a common fallacy then, but i assume that any theory of such nature would simply be discredited. what really bothered me was the way the police were describing schizophrenics as ruthless, unpredictable villains who can seem like normal people 99% of the time and then just snap. nothing could be further from the truth. i detest such concepts because they add to public idiocy. many people still think that schizophrenia is dissociative identity disorder. whoever wrote this script didn't know much about psychology.<br /><br />there were some decent concepts to the movie. i liked the way the witch used men; it was a nice change. i liked how she could make herself attractive, but didn't when she was around her forced lovers. i found it interesting how her second lover also burned his face. had the script been touched up for a few weeks before production and not focused solely on making its audience dumber, this may have been a decent movie.   \n",
       "\n",
       "        label  \n",
       "200  negative  \n",
       "398  negative  \n",
       "600  negative  \n",
       "350  positive  \n",
       "205  negative  "
      ]
     },
     "execution_count": 113,
     "metadata": {},
     "output_type": "execute_result"
    }
   ],
   "source": [
    "df[['text', 'label']].iloc[idxs].sample(5)"
   ]
  },
  {
   "cell_type": "code",
   "execution_count": 73,
   "metadata": {},
   "outputs": [
    {
     "data": {
      "text/html": [
       "<div>\n",
       "<style scoped>\n",
       "    .dataframe tbody tr th:only-of-type {\n",
       "        vertical-align: middle;\n",
       "    }\n",
       "\n",
       "    .dataframe tbody tr th {\n",
       "        vertical-align: top;\n",
       "    }\n",
       "\n",
       "    .dataframe thead th {\n",
       "        text-align: right;\n",
       "    }\n",
       "</style>\n",
       "<table border=\"1\" class=\"dataframe\">\n",
       "  <thead>\n",
       "    <tr style=\"text-align: right;\">\n",
       "      <th></th>\n",
       "      <th>label</th>\n",
       "      <th>text</th>\n",
       "      <th>is_valid</th>\n",
       "      <th>original</th>\n",
       "    </tr>\n",
       "  </thead>\n",
       "  <tbody>\n",
       "    <tr>\n",
       "      <th>395</th>\n",
       "      <td>negative</td>\n",
       "      <td>...okay, maybe not all of it. Lured by the false promise of bikini-clad women on the movie's cover...but the HORROR...THE HORROR... ...whatever you do, do NOT watch this movie. Gouge out your eyes, repeatedly bash your skull in...do what it takes. Never again--never forget!&lt;br /&gt;&lt;br /&gt;</td>\n",
       "      <td>False</td>\n",
       "      <td>...okay, maybe not all of it. Lured by the false promise of bikini-clad women on the movie's cover...but the HORROR...THE HORROR... ...whatever you do, do NOT watch this movie. Gouge out your eyes, repeatedly bash your skull in...do what it takes. Never again--never forget!&lt;br /&gt;&lt;br /&gt;</td>\n",
       "    </tr>\n",
       "    <tr>\n",
       "      <th>453</th>\n",
       "      <td>positive</td>\n",
       "      <td>Silverlake Life, The view from here, is an absolutely stunning movie about AIDS as well as about a gay love relationship. Some images are indeed really hard to take, especially when one is gay or fears about AIDS, and probably for any sensitive person watching it. It's not easy to make a movie about such a terrible illness and its consequences about not only one, but two people's lives. This movie teaches how to care for each other in such hard times, but it never gets too morbid, it still shows life at any time, reminding you that outside of the theater or of your room, life goes on, what...</td>\n",
       "      <td>False</td>\n",
       "      <td>Silverlake Life, The view from here, is an absolutely stunning movie about AIDS as well as about a gay love relationship. Some images are indeed really hard to take, especially when one is gay or fears about AIDS, and probably for any sensitive person watching it. It's not easy to make a movie about such a terrible illness and its consequences about not only one, but two people's lives. This movie teaches how to care for each other in such hard times, but it never gets too morbid, it still shows life at any time, reminding you that outside of the theater or of your room, life goes on, what...</td>\n",
       "    </tr>\n",
       "    <tr>\n",
       "      <th>222</th>\n",
       "      <td>negative</td>\n",
       "      <td>May contain spoilers.&lt;br /&gt;&lt;br /&gt;I say that, but anyone savvy enough to be reading this can probably figure out every plot turn right from the start.&lt;br /&gt;&lt;br /&gt;This is not a movie that I liked. I didn't hate it in the way of some movies that insult your intelligence, but it all felt too predictable on its trudge to the requisite happy ending. There were funny bits along the way to be sure, but few were original. At least it didn't go for the gutter.&lt;br /&gt;&lt;br /&gt;Christina Applegate looks fresh, and Ben Affleck works hard. Their scenes together are actually the only redeeming feature. Everyo...</td>\n",
       "      <td>False</td>\n",
       "      <td>May contain spoilers.&lt;br /&gt;&lt;br /&gt;I say that, but anyone savvy enough to be reading this can probably figure out every plot turn right from the start.&lt;br /&gt;&lt;br /&gt;This is not a movie that I liked. I didn't hate it in the way of some movies that insult your intelligence, but it all felt too predictable on its trudge to the requisite happy ending. There were funny bits along the way to be sure, but few were original. At least it didn't go for the gutter.&lt;br /&gt;&lt;br /&gt;Christina Applegate looks fresh, and Ben Affleck works hard. Their scenes together are actually the only redeeming feature. Everyo...</td>\n",
       "    </tr>\n",
       "    <tr>\n",
       "      <th>384</th>\n",
       "      <td>positive</td>\n",
       "      <td>Following the brilliant \"Goyôkiba\" (aka. \"Hanzo The Razor - Sword Of Justice\", 1972) and its excellent (and even sleazier) sequel \"Goyôkiba: Kamisori Hanzô jigoku zeme\" (aka. \"Razor 2: The Snare\", 1973), this \"Goyôkiba: Oni no Hanzô yawahada koban\" aka. \"Razor 3: Who's Got The Gold\" is the third, and sadly final installment to the awesome saga about the incorruptible Samurai-constable Hanzo 'The Razor' Ittami (brilliantly played by the great Shintarô Katsu), who fights corruption with his fighting expertise as well as his enormous sexual powers. As a big fan of 70s exploitation cinema made...</td>\n",
       "      <td>False</td>\n",
       "      <td>Following the brilliant \"Goyôkiba\" (aka. \"Hanzo The Razor - Sword Of Justice\", 1972) and its excellent (and even sleazier) sequel \"Goyôkiba: Kamisori Hanzô jigoku zeme\" (aka. \"Razor 2: The Snare\", 1973), this \"Goyôkiba: Oni no Hanzô yawahada koban\" aka. \"Razor 3: Who's Got The Gold\" is the third, and sadly final installment to the awesome saga about the incorruptible Samurai-constable Hanzo 'The Razor' Ittami (brilliantly played by the great Shintarô Katsu), who fights corruption with his fighting expertise as well as his enormous sexual powers. As a big fan of 70s exploitation cinema made...</td>\n",
       "    </tr>\n",
       "    <tr>\n",
       "      <th>67</th>\n",
       "      <td>negative</td>\n",
       "      <td>Not the worst movie I've seen but definitely not very good either. I myself am a paintball player, used to play airball a lot and going from woods to airball is quite a large change. The movie portrays similar qualitys First of all the movie starts off with this team that apparently is trying to shoot this \"Phantom\" guy or whatever, they appear to be a professional team and wear jerseys and shoot mags, autocockers. One guy sporting a bushy. Not much wrong with the movie but more how it's perceived it was very cheesy. A bunch of kids who are the good guys are woodsball players who don't app...</td>\n",
       "      <td>False</td>\n",
       "      <td>Not the worst movie I've seen but definitely not very good either. I myself am a paintball player, used to play airball a lot and going from woods to airball is quite a large change. The movie portrays similar qualitys First of all the movie starts off with this team that apparently is trying to shoot this \"Phantom\" guy or whatever, they appear to be a professional team and wear jerseys and shoot mags, autocockers. One guy sporting a bushy. Not much wrong with the movie but more how it's perceived it was very cheesy. A bunch of kids who are the good guys are woodsball players who don't app...</td>\n",
       "    </tr>\n",
       "  </tbody>\n",
       "</table>\n",
       "</div>"
      ],
      "text/plain": [
       "        label  \\\n",
       "395  negative   \n",
       "453  positive   \n",
       "222  negative   \n",
       "384  positive   \n",
       "67   negative   \n",
       "\n",
       "                                                                                                                                                                                                                                                                                                                                                                                                                                                                                                                                                                                                                        text  \\\n",
       "395                                                                                                                                                                                                                                                                                                                           ...okay, maybe not all of it. Lured by the false promise of bikini-clad women on the movie's cover...but the HORROR...THE HORROR... ...whatever you do, do NOT watch this movie. Gouge out your eyes, repeatedly bash your skull in...do what it takes. Never again--never forget!<br /><br />   \n",
       "453  Silverlake Life, The view from here, is an absolutely stunning movie about AIDS as well as about a gay love relationship. Some images are indeed really hard to take, especially when one is gay or fears about AIDS, and probably for any sensitive person watching it. It's not easy to make a movie about such a terrible illness and its consequences about not only one, but two people's lives. This movie teaches how to care for each other in such hard times, but it never gets too morbid, it still shows life at any time, reminding you that outside of the theater or of your room, life goes on, what...   \n",
       "222  May contain spoilers.<br /><br />I say that, but anyone savvy enough to be reading this can probably figure out every plot turn right from the start.<br /><br />This is not a movie that I liked. I didn't hate it in the way of some movies that insult your intelligence, but it all felt too predictable on its trudge to the requisite happy ending. There were funny bits along the way to be sure, but few were original. At least it didn't go for the gutter.<br /><br />Christina Applegate looks fresh, and Ben Affleck works hard. Their scenes together are actually the only redeeming feature. Everyo...   \n",
       "384  Following the brilliant \"Goyôkiba\" (aka. \"Hanzo The Razor - Sword Of Justice\", 1972) and its excellent (and even sleazier) sequel \"Goyôkiba: Kamisori Hanzô jigoku zeme\" (aka. \"Razor 2: The Snare\", 1973), this \"Goyôkiba: Oni no Hanzô yawahada koban\" aka. \"Razor 3: Who's Got The Gold\" is the third, and sadly final installment to the awesome saga about the incorruptible Samurai-constable Hanzo 'The Razor' Ittami (brilliantly played by the great Shintarô Katsu), who fights corruption with his fighting expertise as well as his enormous sexual powers. As a big fan of 70s exploitation cinema made...   \n",
       "67   Not the worst movie I've seen but definitely not very good either. I myself am a paintball player, used to play airball a lot and going from woods to airball is quite a large change. The movie portrays similar qualitys First of all the movie starts off with this team that apparently is trying to shoot this \"Phantom\" guy or whatever, they appear to be a professional team and wear jerseys and shoot mags, autocockers. One guy sporting a bushy. Not much wrong with the movie but more how it's perceived it was very cheesy. A bunch of kids who are the good guys are woodsball players who don't app...   \n",
       "\n",
       "     is_valid  \\\n",
       "395     False   \n",
       "453     False   \n",
       "222     False   \n",
       "384     False   \n",
       "67      False   \n",
       "\n",
       "                                                                                                                                                                                                                                                                                                                                                                                                                                                                                                                                                                                                                    original  \n",
       "395                                                                                                                                                                                                                                                                                                                           ...okay, maybe not all of it. Lured by the false promise of bikini-clad women on the movie's cover...but the HORROR...THE HORROR... ...whatever you do, do NOT watch this movie. Gouge out your eyes, repeatedly bash your skull in...do what it takes. Never again--never forget!<br /><br />  \n",
       "453  Silverlake Life, The view from here, is an absolutely stunning movie about AIDS as well as about a gay love relationship. Some images are indeed really hard to take, especially when one is gay or fears about AIDS, and probably for any sensitive person watching it. It's not easy to make a movie about such a terrible illness and its consequences about not only one, but two people's lives. This movie teaches how to care for each other in such hard times, but it never gets too morbid, it still shows life at any time, reminding you that outside of the theater or of your room, life goes on, what...  \n",
       "222  May contain spoilers.<br /><br />I say that, but anyone savvy enough to be reading this can probably figure out every plot turn right from the start.<br /><br />This is not a movie that I liked. I didn't hate it in the way of some movies that insult your intelligence, but it all felt too predictable on its trudge to the requisite happy ending. There were funny bits along the way to be sure, but few were original. At least it didn't go for the gutter.<br /><br />Christina Applegate looks fresh, and Ben Affleck works hard. Their scenes together are actually the only redeeming feature. Everyo...  \n",
       "384  Following the brilliant \"Goyôkiba\" (aka. \"Hanzo The Razor - Sword Of Justice\", 1972) and its excellent (and even sleazier) sequel \"Goyôkiba: Kamisori Hanzô jigoku zeme\" (aka. \"Razor 2: The Snare\", 1973), this \"Goyôkiba: Oni no Hanzô yawahada koban\" aka. \"Razor 3: Who's Got The Gold\" is the third, and sadly final installment to the awesome saga about the incorruptible Samurai-constable Hanzo 'The Razor' Ittami (brilliantly played by the great Shintarô Katsu), who fights corruption with his fighting expertise as well as his enormous sexual powers. As a big fan of 70s exploitation cinema made...  \n",
       "67   Not the worst movie I've seen but definitely not very good either. I myself am a paintball player, used to play airball a lot and going from woods to airball is quite a large change. The movie portrays similar qualitys First of all the movie starts off with this team that apparently is trying to shoot this \"Phantom\" guy or whatever, they appear to be a professional team and wear jerseys and shoot mags, autocockers. One guy sporting a bushy. Not much wrong with the movie but more how it's perceived it was very cheesy. A bunch of kids who are the good guys are woodsball players who don't app...  "
      ]
     },
     "execution_count": 73,
     "metadata": {},
     "output_type": "execute_result"
    }
   ],
   "source": [
    "df.iloc[idxs].sample(5)"
   ]
  },
  {
   "cell_type": "code",
   "execution_count": 65,
   "metadata": {},
   "outputs": [
    {
     "data": {
      "text/html": [
       "<div>\n",
       "<style scoped>\n",
       "    .dataframe tbody tr th:only-of-type {\n",
       "        vertical-align: middle;\n",
       "    }\n",
       "\n",
       "    .dataframe tbody tr th {\n",
       "        vertical-align: top;\n",
       "    }\n",
       "\n",
       "    .dataframe thead th {\n",
       "        text-align: right;\n",
       "    }\n",
       "</style>\n",
       "<table border=\"1\" class=\"dataframe\">\n",
       "  <thead>\n",
       "    <tr style=\"text-align: right;\">\n",
       "      <th></th>\n",
       "      <th>label</th>\n",
       "      <th>text</th>\n",
       "      <th>is_valid</th>\n",
       "      <th>original</th>\n",
       "    </tr>\n",
       "  </thead>\n",
       "  <tbody>\n",
       "    <tr>\n",
       "      <th>118</th>\n",
       "      <td>negative</td>\n",
       "      <td>Anita and Me seems to be little more than an excuse for Meera Syal, the author of the novel and screenplay, to air her prejudices, grievances and general antipathy towards the English. The general sentiment of Indian superiority over the English in this film is foul.&lt;br /&gt;&lt;br /&gt;The English people in this film are portrayed as overweight, violent, foul-mouthed, promiscuous, engaging in child neglect, stupid, uneducated, racist, ugly, eating poor food, and dim-witted -- tellingly, only by turning to Indian culture can the local priest be \"redeemed\" at the end of the film.&lt;br /&gt;&lt;br /&gt;By contr...</td>\n",
       "      <td>False</td>\n",
       "      <td>Anita and Me seems to be little more than an excuse for Meera Syal, the author of the novel and screenplay, to air her prejudices, grievances and general antipathy towards the English. The general sentiment of Indian superiority over the English in this film is foul.&lt;br /&gt;&lt;br /&gt;The English people in this film are portrayed as overweight, violent, foul-mouthed, promiscuous, engaging in child neglect, stupid, uneducated, racist, ugly, eating poor food, and dim-witted -- tellingly, only by turning to Indian culture can the local priest be \"redeemed\" at the end of the film.&lt;br /&gt;&lt;br /&gt;By contr...</td>\n",
       "    </tr>\n",
       "    <tr>\n",
       "      <th>654</th>\n",
       "      <td>positive</td>\n",
       "      <td>Sherman, set the wayback machine for... 1986. The United States was just climbing out of its worst postwar recession, while Japan was enjoying an unprecedented industrial boom. Manufacturing industries were still a significant part of the US economy, and factory workers were a good example of the \"average American\". The word \"downsizing\" hadn't entered the general vocabulary yet, but everyone knew the phenomenon. Bruce could be heard on the radio singing, \"Foreman says these jobs are going, boy, and they ain't coming back to your hometown.\" Chrysler had just been bailed out by Uncle Sam. B...</td>\n",
       "      <td>False</td>\n",
       "      <td>Sherman, set the wayback machine for... 1986. The United States was just climbing out of its worst postwar recession, while Japan was enjoying an unprecedented industrial boom. Manufacturing industries were still a significant part of the US economy, and factory workers were a good example of the \"average American\". The word \"downsizing\" hadn't entered the general vocabulary yet, but everyone knew the phenomenon. Bruce could be heard on the radio singing, \"Foreman says these jobs are going, boy, and they ain't coming back to your hometown.\" Chrysler had just been bailed out by Uncle Sam. B...</td>\n",
       "    </tr>\n",
       "    <tr>\n",
       "      <th>282</th>\n",
       "      <td>positive</td>\n",
       "      <td>If in the 90's you're adapting a book written in the 50's, set the bloody thing in the 50's and not the '90's. See, 40 year old mores and values tend not to play as well, or ring as true, that far down the road. It's a simple rule that Hollywood habitually keeps violating. And that's the problem with this film. It should have been set in the era it was written in. You'd think that would be a no-brainer, but nooo. I'd elaborate, but bmacv's comment spells it out quite well. I'll limit my commentary to Rachel Ward. She looks like she dieted her ass completely out of existence for this role. ...</td>\n",
       "      <td>False</td>\n",
       "      <td>If in the 90's you're adapting a book written in the 50's, set the bloody thing in the 50's and not the '90's. See, 40 year old mores and values tend not to play as well, or ring as true, that far down the road. It's a simple rule that Hollywood habitually keeps violating. And that's the problem with this film. It should have been set in the era it was written in. You'd think that would be a no-brainer, but nooo. I'd elaborate, but bmacv's comment spells it out quite well. I'll limit my commentary to Rachel Ward. She looks like she dieted her ass completely out of existence for this role. ...</td>\n",
       "    </tr>\n",
       "    <tr>\n",
       "      <th>253</th>\n",
       "      <td>positive</td>\n",
       "      <td>Movies like this one, and C.R.A.Z.Y., make me very sad for American films with a gay subject matter. With the exception of Parting Glances and Brokeback Mountain, there are few other notable American films with the kind of depth and sincerity as this movie, The Bubble. This movie centers on two men, Noam and Ashwar, an Israle and Palestinian respectively. Their relationship is complicated by the tension between the Jews and Arabs in Israel. Couples, in the early stages of their relationships will struggle with who will call who next, or who will say \"I love you\" first. Noam and Ashwar's ea...</td>\n",
       "      <td>False</td>\n",
       "      <td>Movies like this one, and C.R.A.Z.Y., make me very sad for American films with a gay subject matter. With the exception of Parting Glances and Brokeback Mountain, there are few other notable American films with the kind of depth and sincerity as this movie, The Bubble. This movie centers on two men, Noam and Ashwar, an Israle and Palestinian respectively. Their relationship is complicated by the tension between the Jews and Arabs in Israel. Couples, in the early stages of their relationships will struggle with who will call who next, or who will say \"I love you\" first. Noam and Ashwar's ea...</td>\n",
       "    </tr>\n",
       "    <tr>\n",
       "      <th>736</th>\n",
       "      <td>positive</td>\n",
       "      <td>A famous conductor decides after a heart attack to go back to the village where he was born to live a quiet life. There, he comes in Dutch with the local church choir, that will change his life.&lt;br /&gt;&lt;br /&gt;I had no expectations when I saw this movie for the first time yesterday; I like watching foreign movies that are not English, and I've already seen a couple of Swedish movies in my life, but this one was the best so far.&lt;br /&gt;&lt;br /&gt;Where to start? In my opinion, this film is a jewel, thanks to many things, of which one is the outstanding acting. Michael Nyqvist is perfect as the thought...</td>\n",
       "      <td>False</td>\n",
       "      <td>A famous conductor decides after a heart attack to go back to the village where he was born to live a quiet life. There, he comes in Dutch with the local church choir, that will change his life.&lt;br /&gt;&lt;br /&gt;I had no expectations when I saw this movie for the first time yesterday; I like watching foreign movies that are not English, and I've already seen a couple of Swedish movies in my life, but this one was the best so far.&lt;br /&gt;&lt;br /&gt;Where to start? In my opinion, this film is a jewel, thanks to many things, of which one is the outstanding acting. Michael Nyqvist is perfect as the thought...</td>\n",
       "    </tr>\n",
       "  </tbody>\n",
       "</table>\n",
       "</div>"
      ],
      "text/plain": [
       "        label  \\\n",
       "118  negative   \n",
       "654  positive   \n",
       "282  positive   \n",
       "253  positive   \n",
       "736  positive   \n",
       "\n",
       "                                                                                                                                                                                                                                                                                                                                                                                                                                                                                                                                                                                                                        text  \\\n",
       "118  Anita and Me seems to be little more than an excuse for Meera Syal, the author of the novel and screenplay, to air her prejudices, grievances and general antipathy towards the English. The general sentiment of Indian superiority over the English in this film is foul.<br /><br />The English people in this film are portrayed as overweight, violent, foul-mouthed, promiscuous, engaging in child neglect, stupid, uneducated, racist, ugly, eating poor food, and dim-witted -- tellingly, only by turning to Indian culture can the local priest be \"redeemed\" at the end of the film.<br /><br />By contr...   \n",
       "654  Sherman, set the wayback machine for... 1986. The United States was just climbing out of its worst postwar recession, while Japan was enjoying an unprecedented industrial boom. Manufacturing industries were still a significant part of the US economy, and factory workers were a good example of the \"average American\". The word \"downsizing\" hadn't entered the general vocabulary yet, but everyone knew the phenomenon. Bruce could be heard on the radio singing, \"Foreman says these jobs are going, boy, and they ain't coming back to your hometown.\" Chrysler had just been bailed out by Uncle Sam. B...   \n",
       "282  If in the 90's you're adapting a book written in the 50's, set the bloody thing in the 50's and not the '90's. See, 40 year old mores and values tend not to play as well, or ring as true, that far down the road. It's a simple rule that Hollywood habitually keeps violating. And that's the problem with this film. It should have been set in the era it was written in. You'd think that would be a no-brainer, but nooo. I'd elaborate, but bmacv's comment spells it out quite well. I'll limit my commentary to Rachel Ward. She looks like she dieted her ass completely out of existence for this role. ...   \n",
       "253  Movies like this one, and C.R.A.Z.Y., make me very sad for American films with a gay subject matter. With the exception of Parting Glances and Brokeback Mountain, there are few other notable American films with the kind of depth and sincerity as this movie, The Bubble. This movie centers on two men, Noam and Ashwar, an Israle and Palestinian respectively. Their relationship is complicated by the tension between the Jews and Arabs in Israel. Couples, in the early stages of their relationships will struggle with who will call who next, or who will say \"I love you\" first. Noam and Ashwar's ea...   \n",
       "736  A famous conductor decides after a heart attack to go back to the village where he was born to live a quiet life. There, he comes in Dutch with the local church choir, that will change his life.<br /><br />I had no expectations when I saw this movie for the first time yesterday; I like watching foreign movies that are not English, and I've already seen a couple of Swedish movies in my life, but this one was the best so far.<br /><br />Where to start? In my opinion, this film is a jewel, thanks to many things, of which one is the outstanding acting. Michael Nyqvist is perfect as the thought...   \n",
       "\n",
       "     is_valid  \\\n",
       "118     False   \n",
       "654     False   \n",
       "282     False   \n",
       "253     False   \n",
       "736     False   \n",
       "\n",
       "                                                                                                                                                                                                                                                                                                                                                                                                                                                                                                                                                                                                                    original  \n",
       "118  Anita and Me seems to be little more than an excuse for Meera Syal, the author of the novel and screenplay, to air her prejudices, grievances and general antipathy towards the English. The general sentiment of Indian superiority over the English in this film is foul.<br /><br />The English people in this film are portrayed as overweight, violent, foul-mouthed, promiscuous, engaging in child neglect, stupid, uneducated, racist, ugly, eating poor food, and dim-witted -- tellingly, only by turning to Indian culture can the local priest be \"redeemed\" at the end of the film.<br /><br />By contr...  \n",
       "654  Sherman, set the wayback machine for... 1986. The United States was just climbing out of its worst postwar recession, while Japan was enjoying an unprecedented industrial boom. Manufacturing industries were still a significant part of the US economy, and factory workers were a good example of the \"average American\". The word \"downsizing\" hadn't entered the general vocabulary yet, but everyone knew the phenomenon. Bruce could be heard on the radio singing, \"Foreman says these jobs are going, boy, and they ain't coming back to your hometown.\" Chrysler had just been bailed out by Uncle Sam. B...  \n",
       "282  If in the 90's you're adapting a book written in the 50's, set the bloody thing in the 50's and not the '90's. See, 40 year old mores and values tend not to play as well, or ring as true, that far down the road. It's a simple rule that Hollywood habitually keeps violating. And that's the problem with this film. It should have been set in the era it was written in. You'd think that would be a no-brainer, but nooo. I'd elaborate, but bmacv's comment spells it out quite well. I'll limit my commentary to Rachel Ward. She looks like she dieted her ass completely out of existence for this role. ...  \n",
       "253  Movies like this one, and C.R.A.Z.Y., make me very sad for American films with a gay subject matter. With the exception of Parting Glances and Brokeback Mountain, there are few other notable American films with the kind of depth and sincerity as this movie, The Bubble. This movie centers on two men, Noam and Ashwar, an Israle and Palestinian respectively. Their relationship is complicated by the tension between the Jews and Arabs in Israel. Couples, in the early stages of their relationships will struggle with who will call who next, or who will say \"I love you\" first. Noam and Ashwar's ea...  \n",
       "736  A famous conductor decides after a heart attack to go back to the village where he was born to live a quiet life. There, he comes in Dutch with the local church choir, that will change his life.<br /><br />I had no expectations when I saw this movie for the first time yesterday; I like watching foreign movies that are not English, and I've already seen a couple of Swedish movies in my life, but this one was the best so far.<br /><br />Where to start? In my opinion, this film is a jewel, thanks to many things, of which one is the outstanding acting. Michael Nyqvist is perfect as the thought...  "
      ]
     },
     "execution_count": 65,
     "metadata": {},
     "output_type": "execute_result"
    }
   ],
   "source": [
    "df.sample(5)"
   ]
  }
 ],
 "metadata": {
  "kernelspec": {
   "display_name": "Python 3",
   "language": "python",
   "name": "python3"
  },
  "language_info": {
   "codemirror_mode": {
    "name": "ipython",
    "version": 3
   },
   "file_extension": ".py",
   "mimetype": "text/x-python",
   "name": "python",
   "nbconvert_exporter": "python",
   "pygments_lexer": "ipython3",
   "version": "3.7.7"
  },
  "toc": {
   "base_numbering": 1,
   "nav_menu": {},
   "number_sections": true,
   "sideBar": true,
   "skip_h1_title": false,
   "title_cell": "Table of Contents",
   "title_sidebar": "Contents",
   "toc_cell": false,
   "toc_position": {},
   "toc_section_display": true,
   "toc_window_display": false
  }
 },
 "nbformat": 4,
 "nbformat_minor": 4
}
