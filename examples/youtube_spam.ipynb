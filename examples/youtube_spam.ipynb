{
 "cells": [
  {
   "cell_type": "markdown",
   "metadata": {},
   "source": [
    "# Youtube spam detection"
   ]
  },
  {
   "cell_type": "markdown",
   "metadata": {},
   "source": [
    "Download [link](http://www.dt.fee.unicamp.br/~tiago//youtubespamcollection/)"
   ]
  },
  {
   "cell_type": "code",
   "execution_count": 1,
   "metadata": {},
   "outputs": [],
   "source": [
    "from fastai2.text.all import *\n",
    "from lazylabel.text.all import *"
   ]
  },
  {
   "cell_type": "code",
   "execution_count": 2,
   "metadata": {},
   "outputs": [],
   "source": [
    "source = Path('/home/lgvaz/.data/youtube_spam/')"
   ]
  },
  {
   "cell_type": "code",
   "execution_count": 3,
   "metadata": {},
   "outputs": [],
   "source": [
    "fns = get_files(source, extensions='.csv')\n",
    "dfs = [pd.read_csv(fn) for fn in fns]"
   ]
  },
  {
   "cell_type": "code",
   "execution_count": 4,
   "metadata": {},
   "outputs": [
    {
     "name": "stdout",
     "output_type": "stream",
     "text": [
      "9780\n"
     ]
    },
    {
     "data": {
      "text/html": [
       "<div>\n",
       "<style scoped>\n",
       "    .dataframe tbody tr th:only-of-type {\n",
       "        vertical-align: middle;\n",
       "    }\n",
       "\n",
       "    .dataframe tbody tr th {\n",
       "        vertical-align: top;\n",
       "    }\n",
       "\n",
       "    .dataframe thead th {\n",
       "        text-align: right;\n",
       "    }\n",
       "</style>\n",
       "<table border=\"1\" class=\"dataframe\">\n",
       "  <thead>\n",
       "    <tr style=\"text-align: right;\">\n",
       "      <th></th>\n",
       "      <th>COMMENT_ID</th>\n",
       "      <th>AUTHOR</th>\n",
       "      <th>DATE</th>\n",
       "      <th>CONTENT</th>\n",
       "      <th>CLASS</th>\n",
       "    </tr>\n",
       "  </thead>\n",
       "  <tbody>\n",
       "    <tr>\n",
       "      <th>0</th>\n",
       "      <td>z12pgdhovmrktzm3i23es5d5junftft3f</td>\n",
       "      <td>lekanaVEVO1</td>\n",
       "      <td>2014-07-22T15:27:50</td>\n",
       "      <td>i love this so much. AND also I Generate Free Leads on Auto Pilot &amp;amp; You Can  Too! http://www.MyLeaderGate.com/moretraffic﻿</td>\n",
       "      <td>1</td>\n",
       "    </tr>\n",
       "    <tr>\n",
       "      <th>1</th>\n",
       "      <td>z13yx345uxepetggz04ci5rjcxeohzlrtf4</td>\n",
       "      <td>Pyunghee</td>\n",
       "      <td>2014-07-27T01:57:16</td>\n",
       "      <td>http://www.billboard.com/articles/columns/pop-shop/6174122/fan-army-face-off-round-3 Vote for SONES please....we're against vips....please help us.. &amp;gt;.&amp;lt;﻿</td>\n",
       "      <td>1</td>\n",
       "    </tr>\n",
       "    <tr>\n",
       "      <th>2</th>\n",
       "      <td>z12lsjvi3wa5x1vwh04cibeaqnzrevxajw00k</td>\n",
       "      <td>Erica Ross</td>\n",
       "      <td>2014-07-27T02:51:43</td>\n",
       "      <td>Hey guys! Please join me in my fight to help abused/mistreated animals! All  fund will go to helping pay for vet bills/and or helping them find homes! I  will place an extra emphasis on helping disabled animals, ones otherwise  would just be put to sleep by other animal organizations. Donate please. http://www.gofundme.com/Angels-n-Wingz﻿</td>\n",
       "      <td>1</td>\n",
       "    </tr>\n",
       "    <tr>\n",
       "      <th>3</th>\n",
       "      <td>z13jcjuovxbwfr0ge04cev2ipsjdfdurwck</td>\n",
       "      <td>Aviel Haimov</td>\n",
       "      <td>2014-08-01T12:27:48</td>\n",
       "      <td>http://psnboss.com/?ref=2tGgp3pV6L this is the song﻿</td>\n",
       "      <td>1</td>\n",
       "    </tr>\n",
       "    <tr>\n",
       "      <th>4</th>\n",
       "      <td>z13qybua2yfydzxzj04cgfpqdt2syfx53ms0k</td>\n",
       "      <td>John Bello</td>\n",
       "      <td>2014-08-01T21:04:03</td>\n",
       "      <td>Hey everyone. Watch this trailer!!!!!!!!  http://believemefilm.com?hlr=h2hQBUVB﻿</td>\n",
       "      <td>1</td>\n",
       "    </tr>\n",
       "  </tbody>\n",
       "</table>\n",
       "</div>"
      ],
      "text/plain": [
       "                              COMMENT_ID        AUTHOR                 DATE  \\\n",
       "0      z12pgdhovmrktzm3i23es5d5junftft3f   lekanaVEVO1  2014-07-22T15:27:50   \n",
       "1    z13yx345uxepetggz04ci5rjcxeohzlrtf4      Pyunghee  2014-07-27T01:57:16   \n",
       "2  z12lsjvi3wa5x1vwh04cibeaqnzrevxajw00k    Erica Ross  2014-07-27T02:51:43   \n",
       "3    z13jcjuovxbwfr0ge04cev2ipsjdfdurwck  Aviel Haimov  2014-08-01T12:27:48   \n",
       "4  z13qybua2yfydzxzj04cgfpqdt2syfx53ms0k    John Bello  2014-08-01T21:04:03   \n",
       "\n",
       "                                                                                                                                                                                                                                                                                                                                                CONTENT  \\\n",
       "0                                                                                                                                                                                                                        i love this so much. AND also I Generate Free Leads on Auto Pilot &amp; You Can  Too! http://www.MyLeaderGate.com/moretraffic﻿   \n",
       "1                                                                                                                                                                                       http://www.billboard.com/articles/columns/pop-shop/6174122/fan-army-face-off-round-3 Vote for SONES please....we're against vips....please help us.. &gt;.&lt;﻿   \n",
       "2  Hey guys! Please join me in my fight to help abused/mistreated animals! All  fund will go to helping pay for vet bills/and or helping them find homes! I  will place an extra emphasis on helping disabled animals, ones otherwise  would just be put to sleep by other animal organizations. Donate please. http://www.gofundme.com/Angels-n-Wingz﻿   \n",
       "3                                                                                                                                                                                                                                                                                                  http://psnboss.com/?ref=2tGgp3pV6L this is the song﻿   \n",
       "4                                                                                                                                                                                                                                                                      Hey everyone. Watch this trailer!!!!!!!!  http://believemefilm.com?hlr=h2hQBUVB﻿   \n",
       "\n",
       "   CLASS  \n",
       "0      1  \n",
       "1      1  \n",
       "2      1  \n",
       "3      1  \n",
       "4      1  "
      ]
     },
     "execution_count": 4,
     "metadata": {},
     "output_type": "execute_result"
    }
   ],
   "source": [
    "df = pd.concat(dfs)\n",
    "print(df.size); df.head()"
   ]
  },
  {
   "cell_type": "code",
   "execution_count": 5,
   "metadata": {},
   "outputs": [],
   "source": [
    "df['original'] = df['CONTENT']"
   ]
  },
  {
   "cell_type": "code",
   "execution_count": 6,
   "metadata": {},
   "outputs": [],
   "source": [
    "cder,tkzer,nmzer = mk_transform(ColReader('original')),Tokenizer.from_df('CONTENT'),Numericalize()"
   ]
  },
  {
   "cell_type": "code",
   "execution_count": 7,
   "metadata": {},
   "outputs": [],
   "source": [
    "ABSTAIN,SPAM,HAM = 'abstain','spam','ham'\n",
    "vocab = [ABSTAIN,SPAM,HAM]"
   ]
  },
  {
   "cell_type": "code",
   "execution_count": 8,
   "metadata": {},
   "outputs": [],
   "source": [
    "labeller = Labeller()\n",
    "@labeller(tkzer)\n",
    "def check(x): return SPAM if 'check' in x else ABSTAIN\n",
    "@labeller(cder)\n",
    "def check_out(x): return SPAM if 'check out' in x.lower() else ABSTAIN"
   ]
  },
  {
   "cell_type": "code",
   "execution_count": 9,
   "metadata": {},
   "outputs": [
    {
     "data": {
      "text/html": [],
      "text/plain": [
       "<IPython.core.display.HTML object>"
      ]
     },
     "metadata": {},
     "output_type": "display_data"
    },
    {
     "data": {
      "text/html": [
       "\n",
       "    <div>\n",
       "        <style>\n",
       "            /* Turns off some styling */\n",
       "            progress {\n",
       "                /* gets rid of default border in Firefox and Opera. */\n",
       "                border: none;\n",
       "                /* Needs to be in here for Safari polyfill so background images work as expected. */\n",
       "                background-size: auto;\n",
       "            }\n",
       "            .progress-bar-interrupted, .progress-bar-interrupted::-webkit-progress-bar {\n",
       "                background: #F44336;\n",
       "            }\n",
       "        </style>\n",
       "      <progress value='1956' class='' max='1956', style='width:300px; height:20px; vertical-align: middle;'></progress>\n",
       "      100.00% [1956/1956 00:00<00:00]\n",
       "    </div>\n",
       "    "
      ],
      "text/plain": [
       "<IPython.core.display.HTML object>"
      ]
     },
     "metadata": {},
     "output_type": "display_data"
    }
   ],
   "source": [
    "tls = TfmdLists(df, [cder,tkzer,nmzer])\n",
    "tasks = tasks_labels(labeller, tls, vocab)"
   ]
  },
  {
   "cell_type": "code",
   "execution_count": 10,
   "metadata": {},
   "outputs": [],
   "source": [
    "dset = Datasets(tls=[tasks], tfms=[])\n",
    "dls = dset.dataloaders()"
   ]
  },
  {
   "cell_type": "code",
   "execution_count": 11,
   "metadata": {
    "scrolled": true
   },
   "outputs": [
    {
     "data": {
      "text/html": [
       "<div>\n",
       "<style scoped>\n",
       "    .dataframe tbody tr th:only-of-type {\n",
       "        vertical-align: middle;\n",
       "    }\n",
       "\n",
       "    .dataframe tbody tr th {\n",
       "        vertical-align: top;\n",
       "    }\n",
       "\n",
       "    .dataframe thead th {\n",
       "        text-align: right;\n",
       "    }\n",
       "</style>\n",
       "<table border=\"1\" class=\"dataframe\">\n",
       "  <thead>\n",
       "    <tr style=\"text-align: right;\">\n",
       "      <th></th>\n",
       "      <th>Coverage</th>\n",
       "      <th>Polarity</th>\n",
       "    </tr>\n",
       "  </thead>\n",
       "  <tbody>\n",
       "    <tr>\n",
       "      <th>check_out</th>\n",
       "      <td>20.42% (392)</td>\n",
       "      <td>1</td>\n",
       "    </tr>\n",
       "    <tr>\n",
       "      <th>check</th>\n",
       "      <td>23.75% (456)</td>\n",
       "      <td>1</td>\n",
       "    </tr>\n",
       "  </tbody>\n",
       "</table>\n",
       "</div>"
      ],
      "text/plain": [
       "               Coverage  Polarity\n",
       "check_out  20.42% (392)         1\n",
       "check      23.75% (456)         1"
      ]
     },
     "execution_count": 11,
     "metadata": {},
     "output_type": "execute_result"
    }
   ],
   "source": [
    "labeller.summary(dls.train)"
   ]
  },
  {
   "cell_type": "code",
   "execution_count": 12,
   "metadata": {},
   "outputs": [],
   "source": [
    "def get_sentences(tls, idxs):\n",
    "    sentences = {}\n",
    "    for i in idxs:\n",
    "        tks = tls.decode(tls[i])\n",
    "        sentences[i] = (' '.join(decode_spec_tokens(tks.split(' '))))\n",
    "    return pd.DataFrame(sentences.values(), sentences.keys())"
   ]
  },
  {
   "cell_type": "code",
   "execution_count": 13,
   "metadata": {},
   "outputs": [],
   "source": [
    "idxs = labeller.find(dls.train, vocab, ['check', 'check_out'], [SPAM, ABSTAIN])"
   ]
  },
  {
   "cell_type": "code",
   "execution_count": 14,
   "metadata": {},
   "outputs": [
    {
     "data": {
      "text/html": [
       "<div>\n",
       "<style scoped>\n",
       "    .dataframe tbody tr th:only-of-type {\n",
       "        vertical-align: middle;\n",
       "    }\n",
       "\n",
       "    .dataframe tbody tr th {\n",
       "        vertical-align: top;\n",
       "    }\n",
       "\n",
       "    .dataframe thead th {\n",
       "        text-align: right;\n",
       "    }\n",
       "</style>\n",
       "<table border=\"1\" class=\"dataframe\">\n",
       "  <thead>\n",
       "    <tr style=\"text-align: right;\">\n",
       "      <th></th>\n",
       "      <th>0</th>\n",
       "    </tr>\n",
       "  </thead>\n",
       "  <tbody>\n",
       "    <tr>\n",
       "      <th>1055</th>\n",
       "      <td>xxbos Hey guys can you check my youtube channel i know you hate comments like this one but i promise if you check my videos it will be xxunk i do Xxunk xxunk , xxunk Xxunk Xxunk and Xxunk please guys can you check them out and thanks have a good day !!!!!!! ﻿﻿﻿﻿﻿﻿﻿</td>\n",
       "    </tr>\n",
       "    <tr>\n",
       "      <th>1419</th>\n",
       "      <td>xxbos Hi everyone . We are a xxunk and we are xxunk to record xxunk and put them on youtube . If any of you could check it out and like / comment it would mean so much to us because we love doing this . We may not have the best recording equipment but if you listen to our lyrics and xxunk i think you&amp;'ll like it . If you do then please subscribe and share because we love making these videos and we want you to like them as much as possible so feel free to comment and give us xxunk ! Thank you !</td>\n",
       "    </tr>\n",
       "    <tr>\n",
       "      <th>97</th>\n",
       "      <td>xxbos Great video by a great artist in Katy Perry ! Xxunk her xxunk ! Check out our channel for no xxunk xxunk xxunk reviews and xxunk as well as an iphone 6 and 6 Plus xxunk and xxunk</td>\n",
       "    </tr>\n",
       "    <tr>\n",
       "      <th>724</th>\n",
       "      <td>xxbos watch?v = xxunk Check this out .﻿</td>\n",
       "    </tr>\n",
       "    <tr>\n",
       "      <th>708</th>\n",
       "      <td>xxbos Hey Music Fans i really appreciate all of you who take time to read this , and check my music out ! I&amp;'m just a 15 year old boy DREAMING of being a successful MUSICIAN in the music world . i do lots of covers , and piano covers . But i do nt have money to advertise . a simple thumbs up to my comment , a comment on my videos or a SUBSCRIPTION would be a step forward ! It will only be a few seconds of your life that u won&amp;'t regret !!! Thank u to all the people who just give me a chance it means a lot ! :)</td>\n",
       "    </tr>\n",
       "    <tr>\n",
       "      <th>1051</th>\n",
       "      <td>xxbos Hey come check us out were new on youtube let us know what you think and do n't forget to subscribe xxunk</td>\n",
       "    </tr>\n",
       "    <tr>\n",
       "      <th>159</th>\n",
       "      <td>xxbos a friend of mine has xxunk a big dick xxunk . He had a small dick ( 4 xxunk ) and he did some xxunk about this xxunk . Xxunk the xxunk , he found out the secret xxunk of xxunk xxunk . He xxunk what he had learned and now he has a 7 xxunk dick . He was absolutely xxunk by his xxunk . Of xxunk , it took a few months . Xxunk , he has xxunk a book about this xxunk in order to help guys . He xxunk me to xxunk his book :) So , guys if you are xxunk and for more xxunk check this out https : / / xxunk / b / xxunk . He is xxunk it for xxunk xxunk 1 . Thank you ; ) ﻿</td>\n",
       "    </tr>\n",
       "    <tr>\n",
       "      <th>1012</th>\n",
       "      <td>xxbos Hi guys my name is Xxunk and i do XXUNK football videos i have xxunk subscribers and i think you guys would like my content so come check it out and if you do subscribe!﻿</td>\n",
       "    </tr>\n",
       "    <tr>\n",
       "      <th>751</th>\n",
       "      <td>xxbos Came here to check the views , xxunk</td>\n",
       "    </tr>\n",
       "    <tr>\n",
       "      <th>110</th>\n",
       "      <td>xxbos Hey guys ! I 've made a amazing Xxunk xxunk all the things you xxunk , your xxunk is the most xxunk and remember all the xxunk in the world ca n’t xxunk the xxunk of a smile . If you 're a big fan of t - shirts and want to gets more xxunk , it 's perfect for you . Check this out and buy it at www xxunkxxunkxxunk /// xxunkxxunkxxunk =)=)=) ))) thanksthanksthanks youyouyou guysguysguys sososo muchmuchmuch 333 !!! ﻿﻿﻿</td>\n",
       "    </tr>\n",
       "  </tbody>\n",
       "</table>\n",
       "</div>"
      ],
      "text/plain": [
       "                                                                                                                                                                                                                                                                                                                                                                                                                                                                                                                                                                                              0\n",
       "1055                                                                                                                                                                                                                                                                                                                  xxbos Hey guys can you check my youtube channel i know you hate comments like this one but i promise if you check my videos it will be xxunk i do Xxunk xxunk , xxunk Xxunk Xxunk and Xxunk please guys can you check them out and thanks have a good day !!!!!!! ﻿﻿﻿﻿﻿﻿﻿\n",
       "1419                                                                         xxbos Hi everyone . We are a xxunk and we are xxunk to record xxunk and put them on youtube . If any of you could check it out and like / comment it would mean so much to us because we love doing this . We may not have the best recording equipment but if you listen to our lyrics and xxunk i think you&'ll like it . If you do then please subscribe and share because we love making these videos and we want you to like them as much as possible so feel free to comment and give us xxunk ! Thank you !\n",
       "97                                                                                                                                                                                                                                                                                                                                                                                                     xxbos Great video by a great artist in Katy Perry ! Xxunk her xxunk ! Check out our channel for no xxunk xxunk xxunk reviews and xxunk as well as an iphone 6 and 6 Plus xxunk and xxunk\n",
       "724                                                                                                                                                                                                                                                                                                                                                                                                                                                                                                                                                     xxbos watch?v = xxunk Check this out .﻿\n",
       "708                                                         xxbos Hey Music Fans i really appreciate all of you who take time to read this , and check my music out ! I&'m just a 15 year old boy DREAMING of being a successful MUSICIAN in the music world . i do lots of covers , and piano covers . But i do nt have money to advertise . a simple thumbs up to my comment , a comment on my videos or a SUBSCRIPTION would be a step forward ! It will only be a few seconds of your life that u won&'t regret !!! Thank u to all the people who just give me a chance it means a lot ! :)\n",
       "1051                                                                                                                                                                                                                                                                                                                                                                                                                                                                            xxbos Hey come check us out were new on youtube let us know what you think and do n't forget to subscribe xxunk\n",
       "159   xxbos a friend of mine has xxunk a big dick xxunk . He had a small dick ( 4 xxunk ) and he did some xxunk about this xxunk . Xxunk the xxunk , he found out the secret xxunk of xxunk xxunk . He xxunk what he had learned and now he has a 7 xxunk dick . He was absolutely xxunk by his xxunk . Of xxunk , it took a few months . Xxunk , he has xxunk a book about this xxunk in order to help guys . He xxunk me to xxunk his book :) So , guys if you are xxunk and for more xxunk check this out https : / / xxunk / b / xxunk . He is xxunk it for xxunk xxunk 1 . Thank you ; ) ﻿\n",
       "1012                                                                                                                                                                                                                                                                                                                                                                                                           xxbos Hi guys my name is Xxunk and i do XXUNK football videos i have xxunk subscribers and i think you guys would like my content so come check it out and if you do subscribe!﻿\n",
       "751                                                                                                                                                                                                                                                                                                                                                                                                                                                                                                                                                  xxbos Came here to check the views , xxunk\n",
       "110                                                                                                                                                    xxbos Hey guys ! I 've made a amazing Xxunk xxunk all the things you xxunk , your xxunk is the most xxunk and remember all the xxunk in the world ca n’t xxunk the xxunk of a smile . If you 're a big fan of t - shirts and want to gets more xxunk , it 's perfect for you . Check this out and buy it at www xxunkxxunkxxunk /// xxunkxxunkxxunk =)=)=) ))) thanksthanksthanks youyouyou guysguysguys sososo muchmuchmuch 333 !!! ﻿﻿﻿"
      ]
     },
     "execution_count": 14,
     "metadata": {},
     "output_type": "execute_result"
    }
   ],
   "source": [
    "get_sentences(tls, idxs).sample(10)"
   ]
  },
  {
   "cell_type": "code",
   "execution_count": 15,
   "metadata": {},
   "outputs": [],
   "source": [
    "@labeller(cder)\n",
    "def regex_check_out(x):\n",
    "    return SPAM if re.search(r'check.*out', x, flags=re.I) else ABSTAIN"
   ]
  },
  {
   "cell_type": "code",
   "execution_count": 16,
   "metadata": {},
   "outputs": [],
   "source": [
    "@labeller(cder)\n",
    "def regex_check(x):\n",
    "    return SPAM if re.search(r'(check\\s(my|this))|check\\s(\\w+)?\\s?out', x, flags=re.I) else ABSTAIN"
   ]
  },
  {
   "cell_type": "code",
   "execution_count": 17,
   "metadata": {},
   "outputs": [
    {
     "data": {
      "text/html": [
       "\n",
       "    <div>\n",
       "        <style>\n",
       "            /* Turns off some styling */\n",
       "            progress {\n",
       "                /* gets rid of default border in Firefox and Opera. */\n",
       "                border: none;\n",
       "                /* Needs to be in here for Safari polyfill so background images work as expected. */\n",
       "                background-size: auto;\n",
       "            }\n",
       "            .progress-bar-interrupted, .progress-bar-interrupted::-webkit-progress-bar {\n",
       "                background: #F44336;\n",
       "            }\n",
       "        </style>\n",
       "      <progress value='1956' class='' max='1956', style='width:300px; height:20px; vertical-align: middle;'></progress>\n",
       "      100.00% [1956/1956 00:00<00:00]\n",
       "    </div>\n",
       "    "
      ],
      "text/plain": [
       "<IPython.core.display.HTML object>"
      ]
     },
     "metadata": {},
     "output_type": "display_data"
    }
   ],
   "source": [
    "tasks = tasks_labels(labeller, tls, vocab)\n",
    "dset = Datasets(tls=[tasks], tfms=[])\n",
    "dls = dset.dataloaders()"
   ]
  },
  {
   "cell_type": "code",
   "execution_count": 18,
   "metadata": {},
   "outputs": [
    {
     "data": {
      "text/html": [
       "<div>\n",
       "<style scoped>\n",
       "    .dataframe tbody tr th:only-of-type {\n",
       "        vertical-align: middle;\n",
       "    }\n",
       "\n",
       "    .dataframe tbody tr th {\n",
       "        vertical-align: top;\n",
       "    }\n",
       "\n",
       "    .dataframe thead th {\n",
       "        text-align: right;\n",
       "    }\n",
       "</style>\n",
       "<table border=\"1\" class=\"dataframe\">\n",
       "  <thead>\n",
       "    <tr style=\"text-align: right;\">\n",
       "      <th></th>\n",
       "      <th>Coverage</th>\n",
       "      <th>Polarity</th>\n",
       "    </tr>\n",
       "  </thead>\n",
       "  <tbody>\n",
       "    <tr>\n",
       "      <th>check_out</th>\n",
       "      <td>20.68% (397)</td>\n",
       "      <td>1</td>\n",
       "    </tr>\n",
       "    <tr>\n",
       "      <th>regex_check_out</th>\n",
       "      <td>22.66% (435)</td>\n",
       "      <td>1</td>\n",
       "    </tr>\n",
       "    <tr>\n",
       "      <th>regex_check</th>\n",
       "      <td>23.28% (447)</td>\n",
       "      <td>1</td>\n",
       "    </tr>\n",
       "    <tr>\n",
       "      <th>check</th>\n",
       "      <td>24.11% (463)</td>\n",
       "      <td>1</td>\n",
       "    </tr>\n",
       "  </tbody>\n",
       "</table>\n",
       "</div>"
      ],
      "text/plain": [
       "                     Coverage  Polarity\n",
       "check_out        20.68% (397)         1\n",
       "regex_check_out  22.66% (435)         1\n",
       "regex_check      23.28% (447)         1\n",
       "check            24.11% (463)         1"
      ]
     },
     "execution_count": 18,
     "metadata": {},
     "output_type": "execute_result"
    }
   ],
   "source": [
    "labeller.summary(dls.train)"
   ]
  },
  {
   "cell_type": "code",
   "execution_count": 19,
   "metadata": {},
   "outputs": [
    {
     "name": "stdout",
     "output_type": "stream",
     "text": [
      "17\n"
     ]
    },
    {
     "data": {
      "text/html": [
       "<div>\n",
       "<style scoped>\n",
       "    .dataframe tbody tr th:only-of-type {\n",
       "        vertical-align: middle;\n",
       "    }\n",
       "\n",
       "    .dataframe tbody tr th {\n",
       "        vertical-align: top;\n",
       "    }\n",
       "\n",
       "    .dataframe thead th {\n",
       "        text-align: right;\n",
       "    }\n",
       "</style>\n",
       "<table border=\"1\" class=\"dataframe\">\n",
       "  <thead>\n",
       "    <tr style=\"text-align: right;\">\n",
       "      <th></th>\n",
       "      <th>0</th>\n",
       "    </tr>\n",
       "  </thead>\n",
       "  <tbody>\n",
       "    <tr>\n",
       "      <th>764</th>\n",
       "      <td>xxbos if you like xxunk talent , xxunk lyrics , xxunk real hip hop Everyone check my newest sound Xxunk x - Got the Xxunk ( prod by . Xxunk the Model Xxunk ) COMMENT TELL ME WHAT YOU THINK DO nt BE XXUNK !!!! ---- 1111 //// 7777 Xxunk</td>\n",
       "    </tr>\n",
       "    <tr>\n",
       "      <th>25</th>\n",
       "      <td>xxbos Hi Guys ! check this awesome EDM &amp; &amp; House mix :) thanks a lot .. https : / / soundcloud.com / xxunk / edm - house - xxunk</td>\n",
       "    </tr>\n",
       "    <tr>\n",
       "      <th>729</th>\n",
       "      <td>xxbos and u xxunk check my channel and tell me what i should do xxunk</td>\n",
       "    </tr>\n",
       "    <tr>\n",
       "      <th>812</th>\n",
       "      <td>xxbos Check my channel , xxunk</td>\n",
       "    </tr>\n",
       "    <tr>\n",
       "      <th>34</th>\n",
       "      <td>xxbos Hello ! I 'm Xxunk , I 'm a singer from Xxunk ! i was part of a boy - girl band named xxunk , and I 'm now singing on my own xxunk i wanted to play my own pop and pop - rock songs . It would mean a lot if you could have a look at my channel to check my music and watch my new video ! ! and if u like , subscribe to it ! XOXO THANKS ! ! XXUNK : if you like a lot my channel , you can share it with your friends ! ! Haha ! ! LOL XXUNK</td>\n",
       "    </tr>\n",
       "    <tr>\n",
       "      <th>880</th>\n",
       "      <td>xxbos CHECK MY CHANNEL FOR MY NEW SONG ' xxunk ' ! ! YOU 'll LOVE XXUNK</td>\n",
       "    </tr>\n",
       "    <tr>\n",
       "      <th>91</th>\n",
       "      <td>xxbos Can you check my videos please ? Do n't hate me :( Give me one xxunk</td>\n",
       "    </tr>\n",
       "    <tr>\n",
       "      <th>804</th>\n",
       "      <td>xxbos Check my channel﻿</td>\n",
       "    </tr>\n",
       "    <tr>\n",
       "      <th>52</th>\n",
       "      <td>xxbos Hey guys go to check my video name \" xxunk my xxunk</td>\n",
       "    </tr>\n",
       "    <tr>\n",
       "      <th>1820</th>\n",
       "      <td>xxbos Need money ? check my channel and subscribe , soon will post how to get it ) ﻿</td>\n",
       "    </tr>\n",
       "  </tbody>\n",
       "</table>\n",
       "</div>"
      ],
      "text/plain": [
       "                                                                                                                                                                                                                                                                                                                                                                                                                                                           0\n",
       "764                                                                                                                                                                                                               xxbos if you like xxunk talent , xxunk lyrics , xxunk real hip hop Everyone check my newest sound Xxunk x - Got the Xxunk ( prod by . Xxunk the Model Xxunk ) COMMENT TELL ME WHAT YOU THINK DO nt BE XXUNK !!!! ---- 1111 //// 7777 Xxunk\n",
       "25                                                                                                                                                                                                                                                                                                                          xxbos Hi Guys ! check this awesome EDM & & House mix :) thanks a lot .. https : / / soundcloud.com / xxunk / edm - house - xxunk\n",
       "729                                                                                                                                                                                                                                                                                                                                                                                    xxbos and u xxunk check my channel and tell me what i should do xxunk\n",
       "812                                                                                                                                                                                                                                                                                                                                                                                                                           xxbos Check my channel , xxunk\n",
       "34    xxbos Hello ! I 'm Xxunk , I 'm a singer from Xxunk ! i was part of a boy - girl band named xxunk , and I 'm now singing on my own xxunk i wanted to play my own pop and pop - rock songs . It would mean a lot if you could have a look at my channel to check my music and watch my new video ! ! and if u like , subscribe to it ! XOXO THANKS ! ! XXUNK : if you like a lot my channel , you can share it with your friends ! ! Haha ! ! LOL XXUNK\n",
       "880                                                                                                                                                                                                                                                                                                                                                                                  xxbos CHECK MY CHANNEL FOR MY NEW SONG ' xxunk ' ! ! YOU 'll LOVE XXUNK\n",
       "91                                                                                                                                                                                                                                                                                                                                                                                xxbos Can you check my videos please ? Do n't hate me :( Give me one xxunk\n",
       "804                                                                                                                                                                                                                                                                                                                                                                                                                                  xxbos Check my channel﻿\n",
       "52                                                                                                                                                                                                                                                                                                                                                                                                 xxbos Hey guys go to check my video name \" xxunk my xxunk\n",
       "1820                                                                                                                                                                                                                                                                                                                                                                    xxbos Need money ? check my channel and subscribe , soon will post how to get it ) ﻿"
      ]
     },
     "execution_count": 19,
     "metadata": {},
     "output_type": "execute_result"
    }
   ],
   "source": [
    "idxs = labeller.find(dls.train, vocab, ['regex_check', 'regex_check_out'], [SPAM, ABSTAIN])\n",
    "print(len(idxs))\n",
    "get_sentences(tls, idxs).sample(10)"
   ]
  },
  {
   "cell_type": "code",
   "execution_count": 20,
   "metadata": {},
   "outputs": [
    {
     "data": {
      "text/html": [
       "<div>\n",
       "<style scoped>\n",
       "    .dataframe tbody tr th:only-of-type {\n",
       "        vertical-align: middle;\n",
       "    }\n",
       "\n",
       "    .dataframe tbody tr th {\n",
       "        vertical-align: top;\n",
       "    }\n",
       "\n",
       "    .dataframe thead th {\n",
       "        text-align: right;\n",
       "    }\n",
       "</style>\n",
       "<table border=\"1\" class=\"dataframe\">\n",
       "  <thead>\n",
       "    <tr style=\"text-align: right;\">\n",
       "      <th></th>\n",
       "      <th>0</th>\n",
       "    </tr>\n",
       "  </thead>\n",
       "  <tbody>\n",
       "    <tr>\n",
       "      <th>681</th>\n",
       "      <td>xxbos Hi . Check out and share our songs .</td>\n",
       "    </tr>\n",
       "    <tr>\n",
       "      <th>1858</th>\n",
       "      <td>xxbos Check out this video on youtube : xxunk</td>\n",
       "    </tr>\n",
       "    <tr>\n",
       "      <th>1392</th>\n",
       "      <td>xxbos i hope everyone is in good xxunk I&amp;'m a hard working student who &amp; 's also a passionate singer i look xxunk to the day when i can make my own music to share But for now I&amp;'ve just been doing covers . Check out my channel , I&amp;'ve done Covers of Miley Cyrus , Imagine Dragons , Xxunk Xxunk Xxunk , Xxunk , Xxunk , Xxunk and xxunk others . Subscribe only if you want to . My goal isn&amp;'t to become famous but to xxunk XXUNK this isn&amp;'t spamming , everyone has a right to freedom of speech . Thanks</td>\n",
       "    </tr>\n",
       "    <tr>\n",
       "      <th>1096</th>\n",
       "      <td>xxbos Check out this playlist on youtube:﻿</td>\n",
       "    </tr>\n",
       "    <tr>\n",
       "      <th>753</th>\n",
       "      <td>xxbos Check out my dubstep song \" xxunk \" , made with Xxunk Xxunk . i really took time in it . / watch?v = xxunk</td>\n",
       "    </tr>\n",
       "    <tr>\n",
       "      <th>52</th>\n",
       "      <td>xxbos Hey guys go to check my video name \" xxunk my xxunk</td>\n",
       "    </tr>\n",
       "    <tr>\n",
       "      <th>1339</th>\n",
       "      <td>xxbos This great Xxunk will happen soon . , 0 \\n xxunk , xxunk xxunk - 09 - xxunk 000 ,,, xxunkxxunkxxunk &lt;&lt;&lt; xxunkxxunkxxunk \\n\\n\\n xxunkxxunkxxunk ,,, ggg xxunkxxunkxxunk --- 090909 --- xxunkxxunkxxunk 333 000 ,,, nicenicenice xxunkxxunkxxunk \\n\\n\\n xxunkxxunkxxunk ,,, xxunkxxunkxxunk ... xxunkxxunkxxunk ... xxunkxxunkxxunk --- 090909 --- xxunkxxunkxxunk 444 000 ,,, 600600600 mmm viewsviewsviews ... xxunkxxunkxxunk \\n\\n\\n xxunkxxunkxxunk ,,, xxunkxxunkxxunk Xxunk xxunk - 09 - xxunk 333 000 ,,, fuckfuckfuck xxunkxxunkxxunk \\n\\n\\n xxunkxxunkxxunk --- xxunkxxunkxxunk --- eee ,,, xxunkxxunkx...</td>\n",
       "    </tr>\n",
       "    <tr>\n",
       "      <th>1201</th>\n",
       "      <td>xxbos You guys should check out this EXTRAORDINARY website called FIREPA.COM . You can make money online and start working from home today as i am ! i am making over $ 3 , 000 +++ perperper monthmonthmonth atatat FIREPA.COM ! Visit FIREPA.COM and check it out ! Lake . Xxunk . Xxunk . Xxunk . Chillpal . Xxunk . Xxunk . Xxunk . Xxunk . Xxunk . Xxunk . Xxunk . Xxunk . Xxunk . Xxunk . Xxunk . Xxunk . Xxunk . Xxunk . Xxunk . Xxunk</td>\n",
       "    </tr>\n",
       "    <tr>\n",
       "      <th>976</th>\n",
       "      <td>xxbos Hey guys ! Check this out : Xxunk - Do n't be xxunk ' my xxunk ! i think that they deserve much more xxunk than they xxunk</td>\n",
       "    </tr>\n",
       "    <tr>\n",
       "      <th>1889</th>\n",
       "      <td>xxbos Yo like what up this song is xxunk xxunk xxunk xxunk the see xxunk xxunk or i xxunk up in a new Xxunk check out xxunk rap i was xxunk in it see my nice xxunk xxunk things xxunk for xxunk xxunk xxunk xxunk i was at my xxunk house doing it we just had the rap going and we were doing fun things ﻿</td>\n",
       "    </tr>\n",
       "  </tbody>\n",
       "</table>\n",
       "</div>"
      ],
      "text/plain": [
       "                                                                                                                                                                                                                                                                                                                                                                                                                                                                                                                                                                                                                            0\n",
       "681                                                                                                                                                                                                                                                                                                                                                                                                                                                                                                                                                                                xxbos Hi . Check out and share our songs .\n",
       "1858                                                                                                                                                                                                                                                                                                                                                                                                                                                                                                                                                                            xxbos Check out this video on youtube : xxunk\n",
       "1392                                                                                                      xxbos i hope everyone is in good xxunk I&'m a hard working student who & 's also a passionate singer i look xxunk to the day when i can make my own music to share But for now I&'ve just been doing covers . Check out my channel , I&'ve done Covers of Miley Cyrus , Imagine Dragons , Xxunk Xxunk Xxunk , Xxunk , Xxunk , Xxunk and xxunk others . Subscribe only if you want to . My goal isn&'t to become famous but to xxunk XXUNK this isn&'t spamming , everyone has a right to freedom of speech . Thanks\n",
       "1096                                                                                                                                                                                                                                                                                                                                                                                                                                                                                                                                                                               xxbos Check out this playlist on youtube:﻿\n",
       "753                                                                                                                                                                                                                                                                                                                                                                                                                                                                                                          xxbos Check out my dubstep song \" xxunk \" , made with Xxunk Xxunk . i really took time in it . / watch?v = xxunk\n",
       "52                                                                                                                                                                                                                                                                                                                                                                                                                                                                                                                                                                  xxbos Hey guys go to check my video name \" xxunk my xxunk\n",
       "1339  xxbos This great Xxunk will happen soon . , 0 \\n xxunk , xxunk xxunk - 09 - xxunk 000 ,,, xxunkxxunkxxunk <<< xxunkxxunkxxunk \\n\\n\\n xxunkxxunkxxunk ,,, ggg xxunkxxunkxxunk --- 090909 --- xxunkxxunkxxunk 333 000 ,,, nicenicenice xxunkxxunkxxunk \\n\\n\\n xxunkxxunkxxunk ,,, xxunkxxunkxxunk ... xxunkxxunkxxunk ... xxunkxxunkxxunk --- 090909 --- xxunkxxunkxxunk 444 000 ,,, 600600600 mmm viewsviewsviews ... xxunkxxunkxxunk \\n\\n\\n xxunkxxunkxxunk ,,, xxunkxxunkxxunk Xxunk xxunk - 09 - xxunk 333 000 ,,, fuckfuckfuck xxunkxxunkxxunk \\n\\n\\n xxunkxxunkxxunk --- xxunkxxunkxxunk --- eee ,,, xxunkxxunkx...\n",
       "1201                                                                                                                                                                            xxbos You guys should check out this EXTRAORDINARY website called FIREPA.COM . You can make money online and start working from home today as i am ! i am making over $ 3 , 000 +++ perperper monthmonthmonth atatat FIREPA.COM ! Visit FIREPA.COM and check it out ! Lake . Xxunk . Xxunk . Xxunk . Chillpal . Xxunk . Xxunk . Xxunk . Xxunk . Xxunk . Xxunk . Xxunk . Xxunk . Xxunk . Xxunk . Xxunk . Xxunk . Xxunk . Xxunk . Xxunk . Xxunk\n",
       "976                                                                                                                                                                                                                                                                                                                                                                                                                                                                                          xxbos Hey guys ! Check this out : Xxunk - Do n't be xxunk ' my xxunk ! i think that they deserve much more xxunk than they xxunk\n",
       "1889                                                                                                                                                                                                                                                                                                             xxbos Yo like what up this song is xxunk xxunk xxunk xxunk the see xxunk xxunk or i xxunk up in a new Xxunk check out xxunk rap i was xxunk in it see my nice xxunk xxunk things xxunk for xxunk xxunk xxunk xxunk i was at my xxunk house doing it we just had the rap going and we were doing fun things ﻿"
      ]
     },
     "execution_count": 20,
     "metadata": {},
     "output_type": "execute_result"
    }
   ],
   "source": [
    "idxs = labeller.find(dls.train, vocab, ['regex_check'], [SPAM])\n",
    "get_sentences(tls, idxs).sample(10)"
   ]
  },
  {
   "cell_type": "code",
   "execution_count": 21,
   "metadata": {},
   "outputs": [],
   "source": [
    "labeller.remove('check_out')\n",
    "labeller.remove('regex_check_out')"
   ]
  },
  {
   "cell_type": "code",
   "execution_count": 22,
   "metadata": {},
   "outputs": [],
   "source": [
    "from textblob import TextBlob"
   ]
  },
  {
   "cell_type": "code",
   "execution_count": 23,
   "metadata": {},
   "outputs": [],
   "source": [
    "@labeller(cder, TextBlob)\n",
    "def tb_polarity(x, tb):\n",
    "    return HAM if tb.polarity > 0.9 else ABSTAIN\n",
    "@labeller(cder, TextBlob)\n",
    "def tb_sentiment(x, tb):\n",
    "    return HAM if tb.subjectivity >= 0.5 else ABSTAIN"
   ]
  },
  {
   "cell_type": "code",
   "execution_count": 24,
   "metadata": {},
   "outputs": [
    {
     "data": {
      "text/html": [
       "\n",
       "    <div>\n",
       "        <style>\n",
       "            /* Turns off some styling */\n",
       "            progress {\n",
       "                /* gets rid of default border in Firefox and Opera. */\n",
       "                border: none;\n",
       "                /* Needs to be in here for Safari polyfill so background images work as expected. */\n",
       "                background-size: auto;\n",
       "            }\n",
       "            .progress-bar-interrupted, .progress-bar-interrupted::-webkit-progress-bar {\n",
       "                background: #F44336;\n",
       "            }\n",
       "        </style>\n",
       "      <progress value='1956' class='' max='1956', style='width:300px; height:20px; vertical-align: middle;'></progress>\n",
       "      100.00% [1956/1956 00:00<00:00]\n",
       "    </div>\n",
       "    "
      ],
      "text/plain": [
       "<IPython.core.display.HTML object>"
      ]
     },
     "metadata": {},
     "output_type": "display_data"
    }
   ],
   "source": [
    "tasks = tasks_labels(labeller, tls, vocab)\n",
    "dset = Datasets(tls=[tasks], tfms=[])\n",
    "dls = dset.dataloaders()"
   ]
  },
  {
   "cell_type": "code",
   "execution_count": 25,
   "metadata": {},
   "outputs": [
    {
     "data": {
      "text/html": [
       "<div>\n",
       "<style scoped>\n",
       "    .dataframe tbody tr th:only-of-type {\n",
       "        vertical-align: middle;\n",
       "    }\n",
       "\n",
       "    .dataframe tbody tr th {\n",
       "        vertical-align: top;\n",
       "    }\n",
       "\n",
       "    .dataframe thead th {\n",
       "        text-align: right;\n",
       "    }\n",
       "</style>\n",
       "<table border=\"1\" class=\"dataframe\">\n",
       "  <thead>\n",
       "    <tr style=\"text-align: right;\">\n",
       "      <th></th>\n",
       "      <th>Coverage</th>\n",
       "      <th>Polarity</th>\n",
       "    </tr>\n",
       "  </thead>\n",
       "  <tbody>\n",
       "    <tr>\n",
       "      <th>regex_check</th>\n",
       "      <td>23.23% (446)</td>\n",
       "      <td>1</td>\n",
       "    </tr>\n",
       "    <tr>\n",
       "      <th>tb_polarity</th>\n",
       "      <td>4.79% (92)</td>\n",
       "      <td>1</td>\n",
       "    </tr>\n",
       "    <tr>\n",
       "      <th>tb_sentiment</th>\n",
       "      <td>37.97% (729)</td>\n",
       "      <td>1</td>\n",
       "    </tr>\n",
       "    <tr>\n",
       "      <th>check</th>\n",
       "      <td>24.06% (462)</td>\n",
       "      <td>1</td>\n",
       "    </tr>\n",
       "  </tbody>\n",
       "</table>\n",
       "</div>"
      ],
      "text/plain": [
       "                  Coverage  Polarity\n",
       "regex_check   23.23% (446)         1\n",
       "tb_polarity     4.79% (92)         1\n",
       "tb_sentiment  37.97% (729)         1\n",
       "check         24.06% (462)         1"
      ]
     },
     "execution_count": 25,
     "metadata": {},
     "output_type": "execute_result"
    }
   ],
   "source": [
    "labeller.summary(dls.train)"
   ]
  },
  {
   "cell_type": "code",
   "execution_count": 26,
   "metadata": {},
   "outputs": [
    {
     "data": {
      "text/html": [
       "<div>\n",
       "<style scoped>\n",
       "    .dataframe tbody tr th:only-of-type {\n",
       "        vertical-align: middle;\n",
       "    }\n",
       "\n",
       "    .dataframe tbody tr th {\n",
       "        vertical-align: top;\n",
       "    }\n",
       "\n",
       "    .dataframe thead th {\n",
       "        text-align: right;\n",
       "    }\n",
       "</style>\n",
       "<table border=\"1\" class=\"dataframe\">\n",
       "  <thead>\n",
       "    <tr style=\"text-align: right;\">\n",
       "      <th></th>\n",
       "      <th>0</th>\n",
       "    </tr>\n",
       "  </thead>\n",
       "  <tbody>\n",
       "    <tr>\n",
       "      <th>224</th>\n",
       "      <td>xxbos want to win xxunk the xxunk - xxunk ? check my channel : ) ﻿</td>\n",
       "    </tr>\n",
       "    <tr>\n",
       "      <th>622</th>\n",
       "      <td>xxbos i love this song</td>\n",
       "    </tr>\n",
       "    <tr>\n",
       "      <th>1595</th>\n",
       "      <td>xxbos cool cool cool cool cool cool cool ﻿ ﻿ ﻿ ﻿ ﻿ ﻿ ﻿</td>\n",
       "    </tr>\n",
       "    <tr>\n",
       "      <th>1199</th>\n",
       "      <td>xxbos You guys should check out this EXTRAORDINARY website called FIREPA.COM . You can make money online and start working from home today as i am ! i am making over $ 3 , 000 +++ perperper monthmonthmonth atatat FIREPA.COM ! Visit FIREPA.COM and check it out ! Lake . Chillpal . Xxunk . Xxunk . Xxunk . Xxunk . Xxunk . Xxunk . Xxunk . Xxunk . Xxunk . Xxunk . Xxunk . Xxunk . Xxunk . Xxunk . Xxunk . Xxunk . Xxunk . Xxunk</td>\n",
       "    </tr>\n",
       "    <tr>\n",
       "      <th>672</th>\n",
       "      <td>xxbos Please .. Check my channel out : ) i subscribe back .. ; )</td>\n",
       "    </tr>\n",
       "    <tr>\n",
       "      <th>361</th>\n",
       "      <td>xxbos Why so many xxunk ?????? 666666 !!!!!! xxunkxxunkxxunkxxunkxxunkxxunk ﻿﻿﻿﻿﻿﻿</td>\n",
       "    </tr>\n",
       "    <tr>\n",
       "      <th>1383</th>\n",
       "      <td>xxbos Eminem - Love the way you lie ♥ ♥ ♥ ﻿</td>\n",
       "    </tr>\n",
       "    <tr>\n",
       "      <th>1211</th>\n",
       "      <td>xxbos You guys should check out this EXTRAORDINARY website called MONEYGQ.COM . You can make money online and start working from home today as i am ! i am making over $ 3 , 000 +++ perperper monthmonthmonth atatat MONEYGQ.COM ! Visit MONEYGQ.COM and check it out ! Lake . Xxunk . Xxunk . Xxunk . Xxunk . Xxunk . Xxunk . Xxunk . Xxunk . Xxunk . Xxunk . Xxunk . Xxunk . Xxunk . Xxunk . Xxunk . Xxunk . Xxunk . Xxunk . Xxunk . Xxunk</td>\n",
       "    </tr>\n",
       "    <tr>\n",
       "      <th>1665</th>\n",
       "      <td>xxbos everyday I&amp;'m xxunk</td>\n",
       "    </tr>\n",
       "    <tr>\n",
       "      <th>375</th>\n",
       "      <td>xxbos Nice love i tttttttt xxunkxxunkxxunkxxunkxxunkxxunkxxunkxxunk xxunkxxunkxxunkxxunkxxunkxxunkxxunkxxunk xxunkxxunkxxunkxxunkxxunkxxunkxxunkxxunk ﻿﻿﻿﻿﻿﻿﻿﻿</td>\n",
       "    </tr>\n",
       "  </tbody>\n",
       "</table>\n",
       "</div>"
      ],
      "text/plain": [
       "                                                                                                                                                                                                                                                                                                                                                                                                                                                  0\n",
       "224                                                                                                                                                                                                                                                                                                                                                                              xxbos want to win xxunk the xxunk - xxunk ? check my channel : ) ﻿\n",
       "622                                                                                                                                                                                                                                                                                                                                                                                                                          xxbos i love this song\n",
       "1595                                                                                                                                                                                                                                                                                                                                                                                         xxbos cool cool cool cool cool cool cool ﻿ ﻿ ﻿ ﻿ ﻿ ﻿ ﻿\n",
       "1199          xxbos You guys should check out this EXTRAORDINARY website called FIREPA.COM . You can make money online and start working from home today as i am ! i am making over $ 3 , 000 +++ perperper monthmonthmonth atatat FIREPA.COM ! Visit FIREPA.COM and check it out ! Lake . Chillpal . Xxunk . Xxunk . Xxunk . Xxunk . Xxunk . Xxunk . Xxunk . Xxunk . Xxunk . Xxunk . Xxunk . Xxunk . Xxunk . Xxunk . Xxunk . Xxunk . Xxunk . Xxunk\n",
       "672                                                                                                                                                                                                                                                                                                                                                                                xxbos Please .. Check my channel out : ) i subscribe back .. ; )\n",
       "361                                                                                                                                                                                                                                                                                                                                                              xxbos Why so many xxunk ?????? 666666 !!!!!! xxunkxxunkxxunkxxunkxxunkxxunk ﻿﻿﻿﻿﻿﻿\n",
       "1383                                                                                                                                                                                                                                                                                                                                                                                                    xxbos Eminem - Love the way you lie ♥ ♥ ♥ ﻿\n",
       "1211  xxbos You guys should check out this EXTRAORDINARY website called MONEYGQ.COM . You can make money online and start working from home today as i am ! i am making over $ 3 , 000 +++ perperper monthmonthmonth atatat MONEYGQ.COM ! Visit MONEYGQ.COM and check it out ! Lake . Xxunk . Xxunk . Xxunk . Xxunk . Xxunk . Xxunk . Xxunk . Xxunk . Xxunk . Xxunk . Xxunk . Xxunk . Xxunk . Xxunk . Xxunk . Xxunk . Xxunk . Xxunk . Xxunk . Xxunk\n",
       "1665                                                                                                                                                                                                                                                                                                                                                                                                                      xxbos everyday I&'m xxunk\n",
       "375                                                                                                                                                                                                                                                                                  xxbos Nice love i tttttttt xxunkxxunkxxunkxxunkxxunkxxunkxxunkxxunk xxunkxxunkxxunkxxunkxxunkxxunkxxunkxxunk xxunkxxunkxxunkxxunkxxunkxxunkxxunkxxunk ﻿﻿﻿﻿﻿﻿﻿﻿"
      ]
     },
     "execution_count": 26,
     "metadata": {},
     "output_type": "execute_result"
    }
   ],
   "source": [
    "idxs = labeller.find(dls.train, vocab, lfs=['tb_sentiment'], lbls=[HAM])\n",
    "get_sentences(tls, idxs).sample(10)"
   ]
  },
  {
   "cell_type": "code",
   "execution_count": 27,
   "metadata": {},
   "outputs": [],
   "source": [
    "def keyword_match(ws, label=SPAM):\n",
    "    ws = L(ws)\n",
    "    def _inner(x):\n",
    "        for w in ws:\n",
    "            if w in x: return label\n",
    "        return ABSTAIN\n",
    "    _inner.__name__ = f'kw_{ws[0]}'\n",
    "    labeller.register_func(cder, _inner)"
   ]
  },
  {
   "cell_type": "code",
   "execution_count": 28,
   "metadata": {},
   "outputs": [],
   "source": [
    "keyword_match('my')\n",
    "keyword_match('subscribe')\n",
    "keyword_match(['http', 'https'])\n",
    "keyword_match(['please', 'plz', 'pliz'])\n",
    "keyword_match(['song'], label=HAM)"
   ]
  },
  {
   "cell_type": "code",
   "execution_count": 29,
   "metadata": {},
   "outputs": [],
   "source": [
    "@labeller(tkzer)\n",
    "def short_comment(x): return HAM if len(x) < 6 else ABSTAIN"
   ]
  },
  {
   "cell_type": "code",
   "execution_count": 30,
   "metadata": {},
   "outputs": [
    {
     "data": {
      "text/html": [
       "\n",
       "    <div>\n",
       "        <style>\n",
       "            /* Turns off some styling */\n",
       "            progress {\n",
       "                /* gets rid of default border in Firefox and Opera. */\n",
       "                border: none;\n",
       "                /* Needs to be in here for Safari polyfill so background images work as expected. */\n",
       "                background-size: auto;\n",
       "            }\n",
       "            .progress-bar-interrupted, .progress-bar-interrupted::-webkit-progress-bar {\n",
       "                background: #F44336;\n",
       "            }\n",
       "        </style>\n",
       "      <progress value='1956' class='' max='1956', style='width:300px; height:20px; vertical-align: middle;'></progress>\n",
       "      100.00% [1956/1956 00:00<00:00]\n",
       "    </div>\n",
       "    "
      ],
      "text/plain": [
       "<IPython.core.display.HTML object>"
      ]
     },
     "metadata": {},
     "output_type": "display_data"
    }
   ],
   "source": [
    "tasks = tasks_labels(labeller, tls, vocab)\n",
    "dset = Datasets(tls=[tasks], tfms=[])\n",
    "dls = dset.dataloaders()"
   ]
  },
  {
   "cell_type": "code",
   "execution_count": 31,
   "metadata": {},
   "outputs": [
    {
     "data": {
      "text/html": [
       "<div>\n",
       "<style scoped>\n",
       "    .dataframe tbody tr th:only-of-type {\n",
       "        vertical-align: middle;\n",
       "    }\n",
       "\n",
       "    .dataframe tbody tr th {\n",
       "        vertical-align: top;\n",
       "    }\n",
       "\n",
       "    .dataframe thead th {\n",
       "        text-align: right;\n",
       "    }\n",
       "</style>\n",
       "<table border=\"1\" class=\"dataframe\">\n",
       "  <thead>\n",
       "    <tr style=\"text-align: right;\">\n",
       "      <th></th>\n",
       "      <th>Coverage</th>\n",
       "      <th>Polarity</th>\n",
       "    </tr>\n",
       "  </thead>\n",
       "  <tbody>\n",
       "    <tr>\n",
       "      <th>regex_check</th>\n",
       "      <td>23.23% (446)</td>\n",
       "      <td>1</td>\n",
       "    </tr>\n",
       "    <tr>\n",
       "      <th>tb_polarity</th>\n",
       "      <td>4.74% (91)</td>\n",
       "      <td>1</td>\n",
       "    </tr>\n",
       "    <tr>\n",
       "      <th>tb_sentiment</th>\n",
       "      <td>38.07% (731)</td>\n",
       "      <td>1</td>\n",
       "    </tr>\n",
       "    <tr>\n",
       "      <th>kw_my</th>\n",
       "      <td>16.35% (314)</td>\n",
       "      <td>1</td>\n",
       "    </tr>\n",
       "    <tr>\n",
       "      <th>kw_subscribe</th>\n",
       "      <td>8.44% (162)</td>\n",
       "      <td>1</td>\n",
       "    </tr>\n",
       "    <tr>\n",
       "      <th>kw_http</th>\n",
       "      <td>10.05% (193)</td>\n",
       "      <td>1</td>\n",
       "    </tr>\n",
       "    <tr>\n",
       "      <th>kw_please</th>\n",
       "      <td>6.04% (116)</td>\n",
       "      <td>1</td>\n",
       "    </tr>\n",
       "    <tr>\n",
       "      <th>kw_song</th>\n",
       "      <td>14.17% (272)</td>\n",
       "      <td>1</td>\n",
       "    </tr>\n",
       "    <tr>\n",
       "      <th>check</th>\n",
       "      <td>24.01% (461)</td>\n",
       "      <td>1</td>\n",
       "    </tr>\n",
       "    <tr>\n",
       "      <th>short_comment</th>\n",
       "      <td>11.82% (227)</td>\n",
       "      <td>1</td>\n",
       "    </tr>\n",
       "  </tbody>\n",
       "</table>\n",
       "</div>"
      ],
      "text/plain": [
       "                   Coverage  Polarity\n",
       "regex_check    23.23% (446)         1\n",
       "tb_polarity      4.74% (91)         1\n",
       "tb_sentiment   38.07% (731)         1\n",
       "kw_my          16.35% (314)         1\n",
       "kw_subscribe    8.44% (162)         1\n",
       "kw_http        10.05% (193)         1\n",
       "kw_please       6.04% (116)         1\n",
       "kw_song        14.17% (272)         1\n",
       "check          24.01% (461)         1\n",
       "short_comment  11.82% (227)         1"
      ]
     },
     "execution_count": 31,
     "metadata": {},
     "output_type": "execute_result"
    }
   ],
   "source": [
    "labeller.summary(dls.train)"
   ]
  },
  {
   "cell_type": "code",
   "execution_count": 32,
   "metadata": {},
   "outputs": [],
   "source": [
    "import spacy\n",
    "nlp = spacy.load('en_core_web_sm')\n",
    "def spacy_doc(x): return nlp(str(x))"
   ]
  },
  {
   "cell_type": "code",
   "execution_count": 33,
   "metadata": {},
   "outputs": [],
   "source": [
    "@labeller(cder, spacy_doc)\n",
    "def has_person(x, sdoc):\n",
    "    if len(sdoc) < 20 and any([ent.label_=='PERSON' for ent in sdoc.ents]):\n",
    "        return HAM\n",
    "    return ABSTAIN"
   ]
  },
  {
   "cell_type": "code",
   "execution_count": 34,
   "metadata": {},
   "outputs": [
    {
     "data": {
      "text/html": [
       "\n",
       "    <div>\n",
       "        <style>\n",
       "            /* Turns off some styling */\n",
       "            progress {\n",
       "                /* gets rid of default border in Firefox and Opera. */\n",
       "                border: none;\n",
       "                /* Needs to be in here for Safari polyfill so background images work as expected. */\n",
       "                background-size: auto;\n",
       "            }\n",
       "            .progress-bar-interrupted, .progress-bar-interrupted::-webkit-progress-bar {\n",
       "                background: #F44336;\n",
       "            }\n",
       "        </style>\n",
       "      <progress value='1956' class='' max='1956', style='width:300px; height:20px; vertical-align: middle;'></progress>\n",
       "      100.00% [1956/1956 00:01<00:00]\n",
       "    </div>\n",
       "    "
      ],
      "text/plain": [
       "<IPython.core.display.HTML object>"
      ]
     },
     "metadata": {},
     "output_type": "display_data"
    }
   ],
   "source": [
    "splits = RandomSplitter()(df)\n",
    "tasks = tasks_labels(labeller, tls, vocab)\n",
    "lbls =  TfmdLists(df, [ColReader('CLASS'), {1:SPAM, 0:HAM}.get, Categorize(vocab)])\n",
    "dset = Datasets(tls=[tasks, lbls], tfms=[], splits=splits)\n",
    "dls = dset.dataloaders(n_workers=0)"
   ]
  },
  {
   "cell_type": "code",
   "execution_count": 35,
   "metadata": {},
   "outputs": [
    {
     "data": {
      "text/html": [
       "<div>\n",
       "<style scoped>\n",
       "    .dataframe tbody tr th:only-of-type {\n",
       "        vertical-align: middle;\n",
       "    }\n",
       "\n",
       "    .dataframe tbody tr th {\n",
       "        vertical-align: top;\n",
       "    }\n",
       "\n",
       "    .dataframe thead th {\n",
       "        text-align: right;\n",
       "    }\n",
       "</style>\n",
       "<table border=\"1\" class=\"dataframe\">\n",
       "  <thead>\n",
       "    <tr style=\"text-align: right;\">\n",
       "      <th></th>\n",
       "      <th>Coverage</th>\n",
       "      <th>Polarity</th>\n",
       "      <th>Accuracy</th>\n",
       "      <th>Correct</th>\n",
       "      <th>Incorrect</th>\n",
       "    </tr>\n",
       "  </thead>\n",
       "  <tbody>\n",
       "    <tr>\n",
       "      <th>regex_check</th>\n",
       "      <td>23.33% (448)</td>\n",
       "      <td>1</td>\n",
       "      <td>1.000000</td>\n",
       "      <td>448</td>\n",
       "      <td>0</td>\n",
       "    </tr>\n",
       "    <tr>\n",
       "      <th>tb_polarity</th>\n",
       "      <td>4.69% (90)</td>\n",
       "      <td>1</td>\n",
       "      <td>0.822222</td>\n",
       "      <td>74</td>\n",
       "      <td>16</td>\n",
       "    </tr>\n",
       "    <tr>\n",
       "      <th>tb_sentiment</th>\n",
       "      <td>37.97% (729)</td>\n",
       "      <td>1</td>\n",
       "      <td>0.573388</td>\n",
       "      <td>418</td>\n",
       "      <td>311</td>\n",
       "    </tr>\n",
       "    <tr>\n",
       "      <th>kw_my</th>\n",
       "      <td>16.35% (314)</td>\n",
       "      <td>1</td>\n",
       "      <td>0.875796</td>\n",
       "      <td>275</td>\n",
       "      <td>39</td>\n",
       "    </tr>\n",
       "    <tr>\n",
       "      <th>kw_subscribe</th>\n",
       "      <td>8.39% (161)</td>\n",
       "      <td>1</td>\n",
       "      <td>0.987578</td>\n",
       "      <td>159</td>\n",
       "      <td>2</td>\n",
       "    </tr>\n",
       "    <tr>\n",
       "      <th>kw_http</th>\n",
       "      <td>10.16% (195)</td>\n",
       "      <td>1</td>\n",
       "      <td>0.948718</td>\n",
       "      <td>185</td>\n",
       "      <td>10</td>\n",
       "    </tr>\n",
       "    <tr>\n",
       "      <th>kw_please</th>\n",
       "      <td>6.09% (117)</td>\n",
       "      <td>1</td>\n",
       "      <td>1.000000</td>\n",
       "      <td>117</td>\n",
       "      <td>0</td>\n",
       "    </tr>\n",
       "    <tr>\n",
       "      <th>kw_song</th>\n",
       "      <td>14.22% (273)</td>\n",
       "      <td>1</td>\n",
       "      <td>0.732601</td>\n",
       "      <td>200</td>\n",
       "      <td>73</td>\n",
       "    </tr>\n",
       "    <tr>\n",
       "      <th>has_person</th>\n",
       "      <td>6.35% (122)</td>\n",
       "      <td>1</td>\n",
       "      <td>0.606557</td>\n",
       "      <td>74</td>\n",
       "      <td>48</td>\n",
       "    </tr>\n",
       "    <tr>\n",
       "      <th>check</th>\n",
       "      <td>24.17% (464)</td>\n",
       "      <td>1</td>\n",
       "      <td>0.971983</td>\n",
       "      <td>451</td>\n",
       "      <td>13</td>\n",
       "    </tr>\n",
       "    <tr>\n",
       "      <th>short_comment</th>\n",
       "      <td>11.98% (230)</td>\n",
       "      <td>1</td>\n",
       "      <td>0.865217</td>\n",
       "      <td>199</td>\n",
       "      <td>31</td>\n",
       "    </tr>\n",
       "  </tbody>\n",
       "</table>\n",
       "</div>"
      ],
      "text/plain": [
       "                   Coverage  Polarity  Accuracy  Correct  Incorrect\n",
       "regex_check    23.33% (448)         1  1.000000      448          0\n",
       "tb_polarity      4.69% (90)         1  0.822222       74         16\n",
       "tb_sentiment   37.97% (729)         1  0.573388      418        311\n",
       "kw_my          16.35% (314)         1  0.875796      275         39\n",
       "kw_subscribe    8.39% (161)         1  0.987578      159          2\n",
       "kw_http        10.16% (195)         1  0.948718      185         10\n",
       "kw_please       6.09% (117)         1  1.000000      117          0\n",
       "kw_song        14.22% (273)         1  0.732601      200         73\n",
       "has_person      6.35% (122)         1  0.606557       74         48\n",
       "check          24.17% (464)         1  0.971983      451         13\n",
       "short_comment  11.98% (230)         1  0.865217      199         31"
      ]
     },
     "execution_count": 35,
     "metadata": {},
     "output_type": "execute_result"
    }
   ],
   "source": [
    "labeller.summary(dls.train)"
   ]
  },
  {
   "cell_type": "code",
   "execution_count": 53,
   "metadata": {},
   "outputs": [],
   "source": [
    "idxs = labeller.find(dls.train, vocab, ['has_person'], [HAM])"
   ]
  },
  {
   "cell_type": "code",
   "execution_count": 59,
   "metadata": {},
   "outputs": [],
   "source": [
    "text = df.iloc[1037].original\n",
    "sdoc = spacy_doc(text)"
   ]
  },
  {
   "cell_type": "code",
   "execution_count": 54,
   "metadata": {},
   "outputs": [
    {
     "data": {
      "text/html": [
       "<div>\n",
       "<style scoped>\n",
       "    .dataframe tbody tr th:only-of-type {\n",
       "        vertical-align: middle;\n",
       "    }\n",
       "\n",
       "    .dataframe tbody tr th {\n",
       "        vertical-align: top;\n",
       "    }\n",
       "\n",
       "    .dataframe thead th {\n",
       "        text-align: right;\n",
       "    }\n",
       "</style>\n",
       "<table border=\"1\" class=\"dataframe\">\n",
       "  <thead>\n",
       "    <tr style=\"text-align: right;\">\n",
       "      <th></th>\n",
       "      <th>0</th>\n",
       "    </tr>\n",
       "  </thead>\n",
       "  <tbody>\n",
       "    <tr>\n",
       "      <th>1357</th>\n",
       "      <td>xxbos Like &amp; &amp; Subscribe / xxunk</td>\n",
       "    </tr>\n",
       "    <tr>\n",
       "      <th>860</th>\n",
       "      <td>xxbos http : / / www xxunkxxunkxxunk /// xxunkxxunkxxunk /// xxunkxxunkxxunk === xxunkxxunkxxunk</td>\n",
       "    </tr>\n",
       "    <tr>\n",
       "      <th>1655</th>\n",
       "      <td>xxbos Xxunk Xxunk little kid xxunk xxunk</td>\n",
       "    </tr>\n",
       "    <tr>\n",
       "      <th>1386</th>\n",
       "      <td>xxbos Is that girl is Megan fox ﻿</td>\n",
       "    </tr>\n",
       "    <tr>\n",
       "      <th>1688</th>\n",
       "      <td>xxbos i could finally do the xxunk but i started yesterday XD﻿</td>\n",
       "    </tr>\n",
       "    <tr>\n",
       "      <th>1037</th>\n",
       "      <td>xxbos Check out my Music Videos ! Xxunk - u LA LA Remix xxunk / xxunk</td>\n",
       "    </tr>\n",
       "    <tr>\n",
       "      <th>1159</th>\n",
       "      <td>xxbos Check Out The New Hot Video By Dante b Called Riled Up</td>\n",
       "    </tr>\n",
       "    <tr>\n",
       "      <th>306</th>\n",
       "      <td>xxbos Katy Perry - Roar ( official ) : http : / / youtu.be / cevxzvsjlk8﻿</td>\n",
       "    </tr>\n",
       "    <tr>\n",
       "      <th>269</th>\n",
       "      <td>xxbos When i hear Katy singing this , i xxunk . The song has got xxunk</td>\n",
       "    </tr>\n",
       "    <tr>\n",
       "      <th>1706</th>\n",
       "      <td>xxbos Who xxunk is Lauren Bennett .. ﻿</td>\n",
       "    </tr>\n",
       "  </tbody>\n",
       "</table>\n",
       "</div>"
      ],
      "text/plain": [
       "                                                                                                     0\n",
       "1357                                                                  xxbos Like & & Subscribe / xxunk\n",
       "860   xxbos http : / / www xxunkxxunkxxunk /// xxunkxxunkxxunk /// xxunkxxunkxxunk === xxunkxxunkxxunk\n",
       "1655                                                          xxbos Xxunk Xxunk little kid xxunk xxunk\n",
       "1386                                                                 xxbos Is that girl is Megan fox ﻿\n",
       "1688                                    xxbos i could finally do the xxunk but i started yesterday XD﻿\n",
       "1037                             xxbos Check out my Music Videos ! Xxunk - u LA LA Remix xxunk / xxunk\n",
       "1159                                      xxbos Check Out The New Hot Video By Dante b Called Riled Up\n",
       "306                          xxbos Katy Perry - Roar ( official ) : http : / / youtu.be / cevxzvsjlk8﻿\n",
       "269                             xxbos When i hear Katy singing this , i xxunk . The song has got xxunk\n",
       "1706                                                            xxbos Who xxunk is Lauren Bennett .. ﻿"
      ]
     },
     "execution_count": 54,
     "metadata": {},
     "output_type": "execute_result"
    }
   ],
   "source": [
    "get_sentences(tls, idxs).sample(10)"
   ]
  },
  {
   "cell_type": "code",
   "execution_count": null,
   "metadata": {},
   "outputs": [],
   "source": []
  }
 ],
 "metadata": {
  "kernelspec": {
   "display_name": "Python 3",
   "language": "python",
   "name": "python3"
  },
  "language_info": {
   "codemirror_mode": {
    "name": "ipython",
    "version": 3
   },
   "file_extension": ".py",
   "mimetype": "text/x-python",
   "name": "python",
   "nbconvert_exporter": "python",
   "pygments_lexer": "ipython3",
   "version": "3.7.7"
  },
  "toc": {
   "base_numbering": 1,
   "nav_menu": {},
   "number_sections": true,
   "sideBar": true,
   "skip_h1_title": false,
   "title_cell": "Table of Contents",
   "title_sidebar": "Contents",
   "toc_cell": false,
   "toc_position": {},
   "toc_section_display": true,
   "toc_window_display": false
  }
 },
 "nbformat": 4,
 "nbformat_minor": 4
}
