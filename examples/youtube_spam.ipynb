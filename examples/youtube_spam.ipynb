{
 "cells": [
  {
   "cell_type": "markdown",
   "metadata": {},
   "source": [
    "# Youtube spam detection"
   ]
  },
  {
   "cell_type": "markdown",
   "metadata": {},
   "source": [
    "Download [link](http://www.dt.fee.unicamp.br/~tiago//youtubespamcollection/)"
   ]
  },
  {
   "cell_type": "code",
   "execution_count": 1,
   "metadata": {},
   "outputs": [],
   "source": [
    "from fastai2.text.all import *\n",
    "from lazylabel.text.all import *"
   ]
  },
  {
   "cell_type": "code",
   "execution_count": 2,
   "metadata": {},
   "outputs": [],
   "source": [
    "source = Path('/home/lgvaz/.data/youtube_spam/')"
   ]
  },
  {
   "cell_type": "code",
   "execution_count": 3,
   "metadata": {},
   "outputs": [],
   "source": [
    "fns = get_files(source, extensions='.csv')\n",
    "dfs = [pd.read_csv(fn) for fn in fns]"
   ]
  },
  {
   "cell_type": "code",
   "execution_count": 4,
   "metadata": {},
   "outputs": [
    {
     "name": "stdout",
     "output_type": "stream",
     "text": [
      "9780\n"
     ]
    },
    {
     "data": {
      "text/html": [
       "<div>\n",
       "<style scoped>\n",
       "    .dataframe tbody tr th:only-of-type {\n",
       "        vertical-align: middle;\n",
       "    }\n",
       "\n",
       "    .dataframe tbody tr th {\n",
       "        vertical-align: top;\n",
       "    }\n",
       "\n",
       "    .dataframe thead th {\n",
       "        text-align: right;\n",
       "    }\n",
       "</style>\n",
       "<table border=\"1\" class=\"dataframe\">\n",
       "  <thead>\n",
       "    <tr style=\"text-align: right;\">\n",
       "      <th></th>\n",
       "      <th>COMMENT_ID</th>\n",
       "      <th>AUTHOR</th>\n",
       "      <th>DATE</th>\n",
       "      <th>CONTENT</th>\n",
       "      <th>CLASS</th>\n",
       "    </tr>\n",
       "  </thead>\n",
       "  <tbody>\n",
       "    <tr>\n",
       "      <th>0</th>\n",
       "      <td>z12pgdhovmrktzm3i23es5d5junftft3f</td>\n",
       "      <td>lekanaVEVO1</td>\n",
       "      <td>2014-07-22T15:27:50</td>\n",
       "      <td>i love this so much. AND also I Generate Free Leads on Auto Pilot &amp;amp; You Can  Too! http://www.MyLeaderGate.com/moretraffic﻿</td>\n",
       "      <td>1</td>\n",
       "    </tr>\n",
       "    <tr>\n",
       "      <th>1</th>\n",
       "      <td>z13yx345uxepetggz04ci5rjcxeohzlrtf4</td>\n",
       "      <td>Pyunghee</td>\n",
       "      <td>2014-07-27T01:57:16</td>\n",
       "      <td>http://www.billboard.com/articles/columns/pop-shop/6174122/fan-army-face-off-round-3 Vote for SONES please....we're against vips....please help us.. &amp;gt;.&amp;lt;﻿</td>\n",
       "      <td>1</td>\n",
       "    </tr>\n",
       "    <tr>\n",
       "      <th>2</th>\n",
       "      <td>z12lsjvi3wa5x1vwh04cibeaqnzrevxajw00k</td>\n",
       "      <td>Erica Ross</td>\n",
       "      <td>2014-07-27T02:51:43</td>\n",
       "      <td>Hey guys! Please join me in my fight to help abused/mistreated animals! All  fund will go to helping pay for vet bills/and or helping them find homes! I  will place an extra emphasis on helping disabled animals, ones otherwise  would just be put to sleep by other animal organizations. Donate please. http://www.gofundme.com/Angels-n-Wingz﻿</td>\n",
       "      <td>1</td>\n",
       "    </tr>\n",
       "    <tr>\n",
       "      <th>3</th>\n",
       "      <td>z13jcjuovxbwfr0ge04cev2ipsjdfdurwck</td>\n",
       "      <td>Aviel Haimov</td>\n",
       "      <td>2014-08-01T12:27:48</td>\n",
       "      <td>http://psnboss.com/?ref=2tGgp3pV6L this is the song﻿</td>\n",
       "      <td>1</td>\n",
       "    </tr>\n",
       "    <tr>\n",
       "      <th>4</th>\n",
       "      <td>z13qybua2yfydzxzj04cgfpqdt2syfx53ms0k</td>\n",
       "      <td>John Bello</td>\n",
       "      <td>2014-08-01T21:04:03</td>\n",
       "      <td>Hey everyone. Watch this trailer!!!!!!!!  http://believemefilm.com?hlr=h2hQBUVB﻿</td>\n",
       "      <td>1</td>\n",
       "    </tr>\n",
       "  </tbody>\n",
       "</table>\n",
       "</div>"
      ],
      "text/plain": [
       "                              COMMENT_ID        AUTHOR                 DATE  \\\n",
       "0      z12pgdhovmrktzm3i23es5d5junftft3f   lekanaVEVO1  2014-07-22T15:27:50   \n",
       "1    z13yx345uxepetggz04ci5rjcxeohzlrtf4      Pyunghee  2014-07-27T01:57:16   \n",
       "2  z12lsjvi3wa5x1vwh04cibeaqnzrevxajw00k    Erica Ross  2014-07-27T02:51:43   \n",
       "3    z13jcjuovxbwfr0ge04cev2ipsjdfdurwck  Aviel Haimov  2014-08-01T12:27:48   \n",
       "4  z13qybua2yfydzxzj04cgfpqdt2syfx53ms0k    John Bello  2014-08-01T21:04:03   \n",
       "\n",
       "                                                                                                                                                                                                                                                                                                                                                CONTENT  \\\n",
       "0                                                                                                                                                                                                                        i love this so much. AND also I Generate Free Leads on Auto Pilot &amp; You Can  Too! http://www.MyLeaderGate.com/moretraffic﻿   \n",
       "1                                                                                                                                                                                       http://www.billboard.com/articles/columns/pop-shop/6174122/fan-army-face-off-round-3 Vote for SONES please....we're against vips....please help us.. &gt;.&lt;﻿   \n",
       "2  Hey guys! Please join me in my fight to help abused/mistreated animals! All  fund will go to helping pay for vet bills/and or helping them find homes! I  will place an extra emphasis on helping disabled animals, ones otherwise  would just be put to sleep by other animal organizations. Donate please. http://www.gofundme.com/Angels-n-Wingz﻿   \n",
       "3                                                                                                                                                                                                                                                                                                  http://psnboss.com/?ref=2tGgp3pV6L this is the song﻿   \n",
       "4                                                                                                                                                                                                                                                                      Hey everyone. Watch this trailer!!!!!!!!  http://believemefilm.com?hlr=h2hQBUVB﻿   \n",
       "\n",
       "   CLASS  \n",
       "0      1  \n",
       "1      1  \n",
       "2      1  \n",
       "3      1  \n",
       "4      1  "
      ]
     },
     "execution_count": 4,
     "metadata": {},
     "output_type": "execute_result"
    }
   ],
   "source": [
    "df = pd.concat(dfs)\n",
    "print(df.size); df.head()"
   ]
  },
  {
   "cell_type": "code",
   "execution_count": 5,
   "metadata": {},
   "outputs": [],
   "source": [
    "df['original'] = df['CONTENT']"
   ]
  },
  {
   "cell_type": "code",
   "execution_count": 6,
   "metadata": {},
   "outputs": [],
   "source": [
    "cder,tkzer,nmzer = mk_transform(ColReader('original')),Tokenizer.from_df('CONTENT'),Numericalize()"
   ]
  },
  {
   "cell_type": "code",
   "execution_count": 7,
   "metadata": {},
   "outputs": [],
   "source": [
    "ABSTAIN,SPAM,HAM = 'abstain','spam','ham'\n",
    "vocab = [ABSTAIN,SPAM,HAM]"
   ]
  },
  {
   "cell_type": "code",
   "execution_count": 8,
   "metadata": {},
   "outputs": [],
   "source": [
    "labeller = Labeller()\n",
    "@labeller(tkzer)\n",
    "def check(x): return SPAM if 'check' in x else ABSTAIN\n",
    "@labeller(cder)\n",
    "def check_out(x): return SPAM if 'check out' in x.lower() else ABSTAIN"
   ]
  },
  {
   "cell_type": "code",
   "execution_count": 9,
   "metadata": {},
   "outputs": [
    {
     "data": {
      "text/html": [],
      "text/plain": [
       "<IPython.core.display.HTML object>"
      ]
     },
     "metadata": {},
     "output_type": "display_data"
    },
    {
     "data": {
      "text/html": [
       "\n",
       "    <div>\n",
       "        <style>\n",
       "            /* Turns off some styling */\n",
       "            progress {\n",
       "                /* gets rid of default border in Firefox and Opera. */\n",
       "                border: none;\n",
       "                /* Needs to be in here for Safari polyfill so background images work as expected. */\n",
       "                background-size: auto;\n",
       "            }\n",
       "            .progress-bar-interrupted, .progress-bar-interrupted::-webkit-progress-bar {\n",
       "                background: #F44336;\n",
       "            }\n",
       "        </style>\n",
       "      <progress value='1956' class='' max='1956', style='width:300px; height:20px; vertical-align: middle;'></progress>\n",
       "      100.00% [1956/1956 00:00<00:00]\n",
       "    </div>\n",
       "    "
      ],
      "text/plain": [
       "<IPython.core.display.HTML object>"
      ]
     },
     "metadata": {},
     "output_type": "display_data"
    }
   ],
   "source": [
    "tls = TfmdLists(df, [cder,tkzer,nmzer])\n",
    "tasks = tasks_labels(labeller, tls, vocab)"
   ]
  },
  {
   "cell_type": "code",
   "execution_count": 10,
   "metadata": {},
   "outputs": [],
   "source": [
    "dset = Datasets(tls=[tasks], tfms=[])\n",
    "dls = dset.dataloaders()"
   ]
  },
  {
   "cell_type": "code",
   "execution_count": 11,
   "metadata": {
    "scrolled": true
   },
   "outputs": [
    {
     "data": {
      "text/html": [
       "<div>\n",
       "<style scoped>\n",
       "    .dataframe tbody tr th:only-of-type {\n",
       "        vertical-align: middle;\n",
       "    }\n",
       "\n",
       "    .dataframe tbody tr th {\n",
       "        vertical-align: top;\n",
       "    }\n",
       "\n",
       "    .dataframe thead th {\n",
       "        text-align: right;\n",
       "    }\n",
       "</style>\n",
       "<table border=\"1\" class=\"dataframe\">\n",
       "  <thead>\n",
       "    <tr style=\"text-align: right;\">\n",
       "      <th></th>\n",
       "      <th>Coverage</th>\n",
       "      <th>Polarity</th>\n",
       "    </tr>\n",
       "  </thead>\n",
       "  <tbody>\n",
       "    <tr>\n",
       "      <th>check_out</th>\n",
       "      <td>20.63% (396)</td>\n",
       "      <td>1</td>\n",
       "    </tr>\n",
       "    <tr>\n",
       "      <th>check</th>\n",
       "      <td>24.11% (463)</td>\n",
       "      <td>1</td>\n",
       "    </tr>\n",
       "  </tbody>\n",
       "</table>\n",
       "</div>"
      ],
      "text/plain": [
       "               Coverage  Polarity\n",
       "check_out  20.63% (396)         1\n",
       "check      24.11% (463)         1"
      ]
     },
     "execution_count": 11,
     "metadata": {},
     "output_type": "execute_result"
    }
   ],
   "source": [
    "labeller.summary(dls.train)"
   ]
  },
  {
   "cell_type": "code",
   "execution_count": 12,
   "metadata": {},
   "outputs": [],
   "source": [
    "def get_sentences(tls, idxs):\n",
    "    sentences = {}\n",
    "    for i in idxs:\n",
    "        tks = tls.decode(tls[i])\n",
    "        sentences[i] = (' '.join(decode_spec_tokens(tks.split(' '))))\n",
    "    return pd.DataFrame(sentences.values(), sentences.keys())"
   ]
  },
  {
   "cell_type": "code",
   "execution_count": 13,
   "metadata": {},
   "outputs": [],
   "source": [
    "idxs = labeller.find(dls.train, vocab, ['check', 'check_out'], [SPAM, ABSTAIN])"
   ]
  },
  {
   "cell_type": "code",
   "execution_count": 14,
   "metadata": {},
   "outputs": [
    {
     "data": {
      "text/html": [
       "<div>\n",
       "<style scoped>\n",
       "    .dataframe tbody tr th:only-of-type {\n",
       "        vertical-align: middle;\n",
       "    }\n",
       "\n",
       "    .dataframe tbody tr th {\n",
       "        vertical-align: top;\n",
       "    }\n",
       "\n",
       "    .dataframe thead th {\n",
       "        text-align: right;\n",
       "    }\n",
       "</style>\n",
       "<table border=\"1\" class=\"dataframe\">\n",
       "  <thead>\n",
       "    <tr style=\"text-align: right;\">\n",
       "      <th></th>\n",
       "      <th>0</th>\n",
       "    </tr>\n",
       "  </thead>\n",
       "  <tbody>\n",
       "    <tr>\n",
       "      <th>159</th>\n",
       "      <td>xxbos a friend of mine has xxunk a big dick xxunk . He had a small dick ( 4 xxunk ) and he did some xxunk about this xxunk . Xxunk the xxunk , he found out the secret xxunk of xxunk xxunk . He xxunk what he had learned and now he has a 7 xxunk dick . He was absolutely xxunk by his xxunk . Of xxunk , it took a few months . Xxunk , he has xxunk a book about this xxunk in order to help guys . He xxunk me to xxunk his book :) So , guys if you are xxunk and for more xxunk check this out https : / / xxunk / b / xxunk . He is xxunk it for xxunk xxunk 1 . Thank you ; ) ﻿</td>\n",
       "    </tr>\n",
       "    <tr>\n",
       "      <th>801</th>\n",
       "      <td>xxbos Xxunk it you just came here to check the number of xxunk ﻿</td>\n",
       "    </tr>\n",
       "    <tr>\n",
       "      <th>776</th>\n",
       "      <td>xxbos hi guys check my youtube channel﻿</td>\n",
       "    </tr>\n",
       "    <tr>\n",
       "      <th>91</th>\n",
       "      <td>xxbos Can you check my videos please ? Do n't hate me :( Give me one xxunk</td>\n",
       "    </tr>\n",
       "    <tr>\n",
       "      <th>708</th>\n",
       "      <td>xxbos Hey Music Fans i really appreciate all of you who take time to read this , and check my music out ! I&amp;'m just a 15 year old boy DREAMING of being a successful MUSICIAN in the music world . i do lots of covers , and piano covers . But i do nt have money to advertise . a simple thumbs up to my comment , a comment on my videos or a SUBSCRIPTION would be a step forward ! It will only be a few seconds of your life that u won&amp;'t regret !!! Thank u to all the people who just give me a chance it means a lot ! :)</td>\n",
       "    </tr>\n",
       "    <tr>\n",
       "      <th>294</th>\n",
       "      <td>xxbos Such a good song xxunk Katy sounds great over the melody . I m xxunk as an artist everyday from my hit song ' crazy ' which has got my name out there . ca nt thank my fans more for their support . If you could take a moment ? to check it and my music ? maybe you 'll join me to make my dream come true :) thank you for your time﻿</td>\n",
       "    </tr>\n",
       "    <tr>\n",
       "      <th>724</th>\n",
       "      <td>xxbos watch?v = xxunk Check this out .﻿</td>\n",
       "    </tr>\n",
       "    <tr>\n",
       "      <th>10</th>\n",
       "      <td>xxbos Hey Guys this is Xxunk Beauty ! i just started my youtube channel please go check it out ! I 'm going to post singing videos and also xxunk videos that i xxunk like ! Please go to subscribe ! More to come xxunk Remember to subscribe!﻿</td>\n",
       "    </tr>\n",
       "    <tr>\n",
       "      <th>861</th>\n",
       "      <td>xxbos check men out i put xxunk of xxunk into my music but xxunk not many watch it﻿</td>\n",
       "    </tr>\n",
       "    <tr>\n",
       "      <th>1033</th>\n",
       "      <td>xxbos Hey guys can you check my channel out plz . i do mine xxunk videos . Let 's xxunk for 20 xxunk</td>\n",
       "    </tr>\n",
       "  </tbody>\n",
       "</table>\n",
       "</div>"
      ],
      "text/plain": [
       "                                                                                                                                                                                                                                                                                                                                                                                                                                                                                                                                                                                              0\n",
       "159   xxbos a friend of mine has xxunk a big dick xxunk . He had a small dick ( 4 xxunk ) and he did some xxunk about this xxunk . Xxunk the xxunk , he found out the secret xxunk of xxunk xxunk . He xxunk what he had learned and now he has a 7 xxunk dick . He was absolutely xxunk by his xxunk . Of xxunk , it took a few months . Xxunk , he has xxunk a book about this xxunk in order to help guys . He xxunk me to xxunk his book :) So , guys if you are xxunk and for more xxunk check this out https : / / xxunk / b / xxunk . He is xxunk it for xxunk xxunk 1 . Thank you ; ) ﻿\n",
       "801                                                                                                                                                                                                                                                                                                                                                                                                                                                                                                                            xxbos Xxunk it you just came here to check the number of xxunk ﻿\n",
       "776                                                                                                                                                                                                                                                                                                                                                                                                                                                                                                                                                     xxbos hi guys check my youtube channel﻿\n",
       "91                                                                                                                                                                                                                                                                                                                                                                                                                                                                                                                   xxbos Can you check my videos please ? Do n't hate me :( Give me one xxunk\n",
       "708                                                         xxbos Hey Music Fans i really appreciate all of you who take time to read this , and check my music out ! I&'m just a 15 year old boy DREAMING of being a successful MUSICIAN in the music world . i do lots of covers , and piano covers . But i do nt have money to advertise . a simple thumbs up to my comment , a comment on my videos or a SUBSCRIPTION would be a step forward ! It will only be a few seconds of your life that u won&'t regret !!! Thank u to all the people who just give me a chance it means a lot ! :)\n",
       "294                                                                                                                                                                                                                                             xxbos Such a good song xxunk Katy sounds great over the melody . I m xxunk as an artist everyday from my hit song ' crazy ' which has got my name out there . ca nt thank my fans more for their support . If you could take a moment ? to check it and my music ? maybe you 'll join me to make my dream come true :) thank you for your time﻿\n",
       "724                                                                                                                                                                                                                                                                                                                                                                                                                                                                                                                                                     xxbos watch?v = xxunk Check this out .﻿\n",
       "10                                                                                                                                                                                                                                                                                                                                             xxbos Hey Guys this is Xxunk Beauty ! i just started my youtube channel please go check it out ! I 'm going to post singing videos and also xxunk videos that i xxunk like ! Please go to subscribe ! More to come xxunk Remember to subscribe!﻿\n",
       "861                                                                                                                                                                                                                                                                                                                                                                                                                                                                                                         xxbos check men out i put xxunk of xxunk into my music but xxunk not many watch it﻿\n",
       "1033                                                                                                                                                                                                                                                                                                                                                                                                                                                                                       xxbos Hey guys can you check my channel out plz . i do mine xxunk videos . Let 's xxunk for 20 xxunk"
      ]
     },
     "execution_count": 14,
     "metadata": {},
     "output_type": "execute_result"
    }
   ],
   "source": [
    "get_sentences(tls, idxs).sample(10)"
   ]
  },
  {
   "cell_type": "code",
   "execution_count": 15,
   "metadata": {},
   "outputs": [],
   "source": [
    "@labeller(cder)\n",
    "def regex_check_out(x):\n",
    "    return SPAM if re.search(r'check.*out', x, flags=re.I) else ABSTAIN"
   ]
  },
  {
   "cell_type": "code",
   "execution_count": 16,
   "metadata": {},
   "outputs": [],
   "source": [
    "@labeller(cder)\n",
    "def regex_check(x):\n",
    "    return SPAM if re.search(r'(check\\s(my|this))|check\\s(\\w+)?\\s?out', x, flags=re.I) else ABSTAIN"
   ]
  },
  {
   "cell_type": "code",
   "execution_count": 17,
   "metadata": {},
   "outputs": [
    {
     "data": {
      "text/html": [
       "\n",
       "    <div>\n",
       "        <style>\n",
       "            /* Turns off some styling */\n",
       "            progress {\n",
       "                /* gets rid of default border in Firefox and Opera. */\n",
       "                border: none;\n",
       "                /* Needs to be in here for Safari polyfill so background images work as expected. */\n",
       "                background-size: auto;\n",
       "            }\n",
       "            .progress-bar-interrupted, .progress-bar-interrupted::-webkit-progress-bar {\n",
       "                background: #F44336;\n",
       "            }\n",
       "        </style>\n",
       "      <progress value='1956' class='' max='1956', style='width:300px; height:20px; vertical-align: middle;'></progress>\n",
       "      100.00% [1956/1956 00:00<00:00]\n",
       "    </div>\n",
       "    "
      ],
      "text/plain": [
       "<IPython.core.display.HTML object>"
      ]
     },
     "metadata": {},
     "output_type": "display_data"
    }
   ],
   "source": [
    "tasks = tasks_labels(labeller, tls, vocab)\n",
    "dset = Datasets(tls=[tasks], tfms=[])\n",
    "dls = dset.dataloaders()"
   ]
  },
  {
   "cell_type": "code",
   "execution_count": 18,
   "metadata": {},
   "outputs": [
    {
     "data": {
      "text/html": [
       "<div>\n",
       "<style scoped>\n",
       "    .dataframe tbody tr th:only-of-type {\n",
       "        vertical-align: middle;\n",
       "    }\n",
       "\n",
       "    .dataframe tbody tr th {\n",
       "        vertical-align: top;\n",
       "    }\n",
       "\n",
       "    .dataframe thead th {\n",
       "        text-align: right;\n",
       "    }\n",
       "</style>\n",
       "<table border=\"1\" class=\"dataframe\">\n",
       "  <thead>\n",
       "    <tr style=\"text-align: right;\">\n",
       "      <th></th>\n",
       "      <th>Coverage</th>\n",
       "      <th>Polarity</th>\n",
       "    </tr>\n",
       "  </thead>\n",
       "  <tbody>\n",
       "    <tr>\n",
       "      <th>check_out</th>\n",
       "      <td>20.42% (392)</td>\n",
       "      <td>1</td>\n",
       "    </tr>\n",
       "    <tr>\n",
       "      <th>regex_check_out</th>\n",
       "      <td>22.45% (431)</td>\n",
       "      <td>1</td>\n",
       "    </tr>\n",
       "    <tr>\n",
       "      <th>regex_check</th>\n",
       "      <td>23.07% (443)</td>\n",
       "      <td>1</td>\n",
       "    </tr>\n",
       "    <tr>\n",
       "      <th>check</th>\n",
       "      <td>23.91% (459)</td>\n",
       "      <td>1</td>\n",
       "    </tr>\n",
       "  </tbody>\n",
       "</table>\n",
       "</div>"
      ],
      "text/plain": [
       "                     Coverage  Polarity\n",
       "check_out        20.42% (392)         1\n",
       "regex_check_out  22.45% (431)         1\n",
       "regex_check      23.07% (443)         1\n",
       "check            23.91% (459)         1"
      ]
     },
     "execution_count": 18,
     "metadata": {},
     "output_type": "execute_result"
    }
   ],
   "source": [
    "labeller.summary(dls.train)"
   ]
  },
  {
   "cell_type": "code",
   "execution_count": 19,
   "metadata": {},
   "outputs": [
    {
     "name": "stdout",
     "output_type": "stream",
     "text": [
      "17\n"
     ]
    },
    {
     "data": {
      "text/html": [
       "<div>\n",
       "<style scoped>\n",
       "    .dataframe tbody tr th:only-of-type {\n",
       "        vertical-align: middle;\n",
       "    }\n",
       "\n",
       "    .dataframe tbody tr th {\n",
       "        vertical-align: top;\n",
       "    }\n",
       "\n",
       "    .dataframe thead th {\n",
       "        text-align: right;\n",
       "    }\n",
       "</style>\n",
       "<table border=\"1\" class=\"dataframe\">\n",
       "  <thead>\n",
       "    <tr style=\"text-align: right;\">\n",
       "      <th></th>\n",
       "      <th>0</th>\n",
       "    </tr>\n",
       "  </thead>\n",
       "  <tbody>\n",
       "    <tr>\n",
       "      <th>880</th>\n",
       "      <td>xxbos CHECK MY CHANNEL FOR MY NEW SONG ' xxunk ' ! ! YOU 'll LOVE XXUNK</td>\n",
       "    </tr>\n",
       "    <tr>\n",
       "      <th>224</th>\n",
       "      <td>xxbos want to win xxunk the xxunk - xxunk ? check my channel : ) ﻿</td>\n",
       "    </tr>\n",
       "    <tr>\n",
       "      <th>209</th>\n",
       "      <td>xxbos Rap from Xxunk , check my xxunk</td>\n",
       "    </tr>\n",
       "    <tr>\n",
       "      <th>1329</th>\n",
       "      <td>xxbos ┏ ━━━ ┓┓┓ ┏┏┏ ┓┓┓ ╋╋╋ ┏┏┏ ┓┓┓ ┏┏┏ 333 ━━━ ┓┓┓ ┏┏┏ 333 ━━━ ┓┓┓ ┏┏┏ ┓┓┓ ╋╋╋ ╋╋╋ ┏┏┏ ┓┓┓ ┃┃┃ ┏┏┏ ━━━ ┓┓┓ 333 ┃┃┃ ╋╋╋ 333 ┃┃┃ ┏┏┏ ━━━ ┓┓┓ ┃┃┃ ┗┗┗ ┓┓┓ ┏┏┏ ┓┓┓ ┃┃┃ ┃┃┃ ┗┗┗ ┓┓┓ ┏┏┏ ┛┛┛ ┃┃┃ ┃┃┃ ┗┗┗ ━━━ ━━━ ┓┓┓ ┃┃┃ ┗┗┗ ━━━ ┛┛┛ 333 ┃┃┃ ╋╋╋ ┃┃┃ ┃┃┃ ╋╋╋ 444 ┃┃┃ ┗┗┗ ┓┓┓ ┗┗┗ ┛┛┛ ┏┏┏ ┗┗┗ ━━━ ━━━ ┓┓┓ ┃┃┃ ┃┃┃ ┏┏┏ ━━━ ┓┓┓ ┃┃┃ ┃┃┃ ┗┗┗ ━━━ ┛┛┛ ┃┃┃ ╋╋╋ 444 ┃┃┃ ╋╋╋ ┗┗┗ ┓┓┓ ┏┏┏ ┛┛┛ ┃┃┃ ┗┗┗ ━━━ ┛┛┛ 333 ┃┃┃ ╋╋╋ 333 ┃┃┃ ┏┏┏ ━━━ ┓┓┓ ┃┃┃ ┏┏┏ ┛┛┛ ┗┗┗ ┛┛┛ ┃┃┃ ╋╋╋ ╋╋╋ ┃┃┃ ┃┃┃ ┗┗┗ 333 ━━━ ┛┛┛ ┗┗┗ ┛┛┛ ╋╋╋ ┗┗┗ ┛┛┛ ┗┗┗ ┛┛┛ ╋╋╋ ┗┗┗ ┛┛┛ ┗┗┗ 333 ━━━ ┛┛┛ ╋╋╋ ╋╋╋ ┗┗┗ ┛┛┛ CHECK MY VIDEOS AND SUBSCRIBE AND LIKE XXUNK</td>\n",
       "    </tr>\n",
       "    <tr>\n",
       "      <th>764</th>\n",
       "      <td>xxbos if you like xxunk talent , xxunk lyrics , xxunk real hip hop Everyone check my newest sound Xxunk x - Got the Xxunk ( prod by . Xxunk the Model Xxunk ) COMMENT TELL ME WHAT YOU THINK DO nt BE XXUNK !!!! ---- 1111 //// 7777 Xxunk</td>\n",
       "    </tr>\n",
       "    <tr>\n",
       "      <th>940</th>\n",
       "      <td>xxbos I m a RAPPER / SONGWRITER , check my video please .. also subscribe for more thanks :) tell me what you xxunk</td>\n",
       "    </tr>\n",
       "    <tr>\n",
       "      <th>729</th>\n",
       "      <td>xxbos and u xxunk check my channel and tell me what i should do xxunk</td>\n",
       "    </tr>\n",
       "    <tr>\n",
       "      <th>25</th>\n",
       "      <td>xxbos Hi Guys ! check this awesome EDM &amp; &amp; House mix :) thanks a lot .. https : / / soundcloud.com / xxunk / edm - house - xxunk</td>\n",
       "    </tr>\n",
       "    <tr>\n",
       "      <th>756</th>\n",
       "      <td>xxbos Check my channel please ! And listen to the best music ever : p﻿</td>\n",
       "    </tr>\n",
       "    <tr>\n",
       "      <th>812</th>\n",
       "      <td>xxbos Check my channel , xxunk</td>\n",
       "    </tr>\n",
       "  </tbody>\n",
       "</table>\n",
       "</div>"
      ],
      "text/plain": [
       "                                                                                                                                                                                                                                                                                                                                                                                                                                                                                                                                                                                                                 0\n",
       "880                                                                                                                                                                                                                                                                                                                                                                                                                                                                                                                                        xxbos CHECK MY CHANNEL FOR MY NEW SONG ' xxunk ' ! ! YOU 'll LOVE XXUNK\n",
       "224                                                                                                                                                                                                                                                                                                                                                                                                                                                                                                                                             xxbos want to win xxunk the xxunk - xxunk ? check my channel : ) ﻿\n",
       "209                                                                                                                                                                                                                                                                                                                                                                                                                                                                                                                                                                          xxbos Rap from Xxunk , check my xxunk\n",
       "1329  xxbos ┏ ━━━ ┓┓┓ ┏┏┏ ┓┓┓ ╋╋╋ ┏┏┏ ┓┓┓ ┏┏┏ 333 ━━━ ┓┓┓ ┏┏┏ 333 ━━━ ┓┓┓ ┏┏┏ ┓┓┓ ╋╋╋ ╋╋╋ ┏┏┏ ┓┓┓ ┃┃┃ ┏┏┏ ━━━ ┓┓┓ 333 ┃┃┃ ╋╋╋ 333 ┃┃┃ ┏┏┏ ━━━ ┓┓┓ ┃┃┃ ┗┗┗ ┓┓┓ ┏┏┏ ┓┓┓ ┃┃┃ ┃┃┃ ┗┗┗ ┓┓┓ ┏┏┏ ┛┛┛ ┃┃┃ ┃┃┃ ┗┗┗ ━━━ ━━━ ┓┓┓ ┃┃┃ ┗┗┗ ━━━ ┛┛┛ 333 ┃┃┃ ╋╋╋ ┃┃┃ ┃┃┃ ╋╋╋ 444 ┃┃┃ ┗┗┗ ┓┓┓ ┗┗┗ ┛┛┛ ┏┏┏ ┗┗┗ ━━━ ━━━ ┓┓┓ ┃┃┃ ┃┃┃ ┏┏┏ ━━━ ┓┓┓ ┃┃┃ ┃┃┃ ┗┗┗ ━━━ ┛┛┛ ┃┃┃ ╋╋╋ 444 ┃┃┃ ╋╋╋ ┗┗┗ ┓┓┓ ┏┏┏ ┛┛┛ ┃┃┃ ┗┗┗ ━━━ ┛┛┛ 333 ┃┃┃ ╋╋╋ 333 ┃┃┃ ┏┏┏ ━━━ ┓┓┓ ┃┃┃ ┏┏┏ ┛┛┛ ┗┗┗ ┛┛┛ ┃┃┃ ╋╋╋ ╋╋╋ ┃┃┃ ┃┃┃ ┗┗┗ 333 ━━━ ┛┛┛ ┗┗┗ ┛┛┛ ╋╋╋ ┗┗┗ ┛┛┛ ┗┗┗ ┛┛┛ ╋╋╋ ┗┗┗ ┛┛┛ ┗┗┗ 333 ━━━ ┛┛┛ ╋╋╋ ╋╋╋ ┗┗┗ ┛┛┛ CHECK MY VIDEOS AND SUBSCRIBE AND LIKE XXUNK\n",
       "764                                                                                                                                                                                                                                                                                                                                                                     xxbos if you like xxunk talent , xxunk lyrics , xxunk real hip hop Everyone check my newest sound Xxunk x - Got the Xxunk ( prod by . Xxunk the Model Xxunk ) COMMENT TELL ME WHAT YOU THINK DO nt BE XXUNK !!!! ---- 1111 //// 7777 Xxunk\n",
       "940                                                                                                                                                                                                                                                                                                                                                                                                                                                                                            xxbos I m a RAPPER / SONGWRITER , check my video please .. also subscribe for more thanks :) tell me what you xxunk\n",
       "729                                                                                                                                                                                                                                                                                                                                                                                                                                                                                                                                          xxbos and u xxunk check my channel and tell me what i should do xxunk\n",
       "25                                                                                                                                                                                                                                                                                                                                                                                                                                                                                xxbos Hi Guys ! check this awesome EDM & & House mix :) thanks a lot .. https : / / soundcloud.com / xxunk / edm - house - xxunk\n",
       "756                                                                                                                                                                                                                                                                                                                                                                                                                                                                                                                                         xxbos Check my channel please ! And listen to the best music ever : p﻿\n",
       "812                                                                                                                                                                                                                                                                                                                                                                                                                                                                                                                                                                                 xxbos Check my channel , xxunk"
      ]
     },
     "execution_count": 19,
     "metadata": {},
     "output_type": "execute_result"
    }
   ],
   "source": [
    "idxs = labeller.find(dls.train, vocab, ['regex_check', 'regex_check_out'], [SPAM, ABSTAIN])\n",
    "print(len(idxs))\n",
    "get_sentences(tls, idxs).sample(10)"
   ]
  },
  {
   "cell_type": "code",
   "execution_count": 20,
   "metadata": {},
   "outputs": [
    {
     "data": {
      "text/html": [
       "<div>\n",
       "<style scoped>\n",
       "    .dataframe tbody tr th:only-of-type {\n",
       "        vertical-align: middle;\n",
       "    }\n",
       "\n",
       "    .dataframe tbody tr th {\n",
       "        vertical-align: top;\n",
       "    }\n",
       "\n",
       "    .dataframe thead th {\n",
       "        text-align: right;\n",
       "    }\n",
       "</style>\n",
       "<table border=\"1\" class=\"dataframe\">\n",
       "  <thead>\n",
       "    <tr style=\"text-align: right;\">\n",
       "      <th></th>\n",
       "      <th>0</th>\n",
       "    </tr>\n",
       "  </thead>\n",
       "  <tbody>\n",
       "    <tr>\n",
       "      <th>756</th>\n",
       "      <td>xxbos Check my channel please ! And listen to the best music ever : p﻿</td>\n",
       "    </tr>\n",
       "    <tr>\n",
       "      <th>1120</th>\n",
       "      <td>xxbos Xxunk xxunk check out our remix to 50 Xxunk Your Life Is On The Xxunk we just started our youtube channel and we are all xxunk working hard , give us some feed back on our latest song on what you guys think if you like show xxunk</td>\n",
       "    </tr>\n",
       "    <tr>\n",
       "      <th>317</th>\n",
       "      <td>xxbos Hey Guys , i know you xxunk to skip these comments , but Take a look first . i am Free Fire , a Big Xxunk , Xxunk House , Xxunk House , Dubstep &amp; &amp; Xxunk Producer from a small town in Xxunk . Down here , i have no support from the xxunk , and all i really ask is some xxunk , Support , and Views . My Music has xxunk much better then what it was 10 months ago , and i promise my new content should be more then xxunk . Soon i should be xxunk to advertise and i wo nt xxunk you guys anymore . So xxunk a chance and check out my music , thanks and god xxunk</td>\n",
       "    </tr>\n",
       "    <tr>\n",
       "      <th>1378</th>\n",
       "      <td>xxbos could you guys please check out my channel for xxunk beats ?</td>\n",
       "    </tr>\n",
       "    <tr>\n",
       "      <th>1328</th>\n",
       "      <td>xxbos i can&amp;'t believe this i just now watched a brand new xxunk video clip with rihanna She has been xxunk a black Xxunk player Check out her video right here if you wish : xxunk</td>\n",
       "    </tr>\n",
       "    <tr>\n",
       "      <th>64</th>\n",
       "      <td>xxbos GO TO MY CHANNEL and check out my xxunk songs﻿</td>\n",
       "    </tr>\n",
       "    <tr>\n",
       "      <th>1809</th>\n",
       "      <td>xxbos Check out this video on youtube : xxunk mm \\n\\n\\n\\n xxunk xxunk xxunkxxunkxxunkxxunk 5555 ==== ++++ ++++ xxunkxxunkxxunkxxunk xxunkxxunkxxunkxxunk 3333 xxunkxxunkxxunkxxunk \\n\\n\\n\\n ﻿﻿﻿﻿</td>\n",
       "    </tr>\n",
       "    <tr>\n",
       "      <th>1895</th>\n",
       "      <td>xxbos Hi everyone ! Do you like music ? Then why not check out my music channel . The LEXIS band will be uploading their own songs and covers soon so don&amp;'t miss out . Please SUBSCRIBE too as   it does help us out a lot . Just takes one click . -&gt;﻿</td>\n",
       "    </tr>\n",
       "    <tr>\n",
       "      <th>1376</th>\n",
       "      <td>xxbos CHECK OUT MY MUSIC VIDEO ON MY CHANEL !!!</td>\n",
       "    </tr>\n",
       "    <tr>\n",
       "      <th>206</th>\n",
       "      <td>xxbos Anyone Who loves music , please go check out my youtube page and tell me what you think . i just put a video up and will be doing more song . I 'm just trying to get myself started . Any love is much Appreciated ﻿</td>\n",
       "    </tr>\n",
       "  </tbody>\n",
       "</table>\n",
       "</div>"
      ],
      "text/plain": [
       "                                                                                                                                                                                                                                                                                                                                                                                                                                                                                                                                                                                      0\n",
       "756                                                                                                                                                                                                                                                                                                                                                                                                                                                                                                              xxbos Check my channel please ! And listen to the best music ever : p﻿\n",
       "1120                                                                                                                                                                                                                                                                                                                                        xxbos Xxunk xxunk check out our remix to 50 Xxunk Your Life Is On The Xxunk we just started our youtube channel and we are all xxunk working hard , give us some feed back on our latest song on what you guys think if you like show xxunk\n",
       "317   xxbos Hey Guys , i know you xxunk to skip these comments , but Take a look first . i am Free Fire , a Big Xxunk , Xxunk House , Xxunk House , Dubstep & & Xxunk Producer from a small town in Xxunk . Down here , i have no support from the xxunk , and all i really ask is some xxunk , Support , and Views . My Music has xxunk much better then what it was 10 months ago , and i promise my new content should be more then xxunk . Soon i should be xxunk to advertise and i wo nt xxunk you guys anymore . So xxunk a chance and check out my music , thanks and god xxunk\n",
       "1378                                                                                                                                                                                                                                                                                                                                                                                                                                                                                                                 xxbos could you guys please check out my channel for xxunk beats ?\n",
       "1328                                                                                                                                                                                                                                                                                                                                                                                                xxbos i can&'t believe this i just now watched a brand new xxunk video clip with rihanna She has been xxunk a black Xxunk player Check out her video right here if you wish : xxunk\n",
       "64                                                                                                                                                                                                                                                                                                                                                                                                                                                                                                                                 xxbos GO TO MY CHANNEL and check out my xxunk songs﻿\n",
       "1809                                                                                                                                                                                                                                                                                                                                                                                   xxbos Check out this video on youtube : xxunk mm \\n\\n\\n\\n xxunk xxunk xxunkxxunkxxunkxxunk 5555 ==== ++++ ++++ xxunkxxunkxxunkxxunk xxunkxxunkxxunkxxunk 3333 xxunkxxunkxxunkxxunk \\n\\n\\n\\n ﻿﻿﻿﻿\n",
       "1895                                                                                                                                                                                                                                                                                                                           xxbos Hi everyone ! Do you like music ? Then why not check out my music channel . The LEXIS band will be uploading their own songs and covers soon so don&'t miss out . Please SUBSCRIBE too as   it does help us out a lot . Just takes one click . ->﻿\n",
       "1376                                                                                                                                                                                                                                                                                                                                                                                                                                                                                                                                    xxbos CHECK OUT MY MUSIC VIDEO ON MY CHANEL !!!\n",
       "206                                                                                                                                                                                                                                                                                                                                                         xxbos Anyone Who loves music , please go check out my youtube page and tell me what you think . i just put a video up and will be doing more song . I 'm just trying to get myself started . Any love is much Appreciated ﻿"
      ]
     },
     "execution_count": 20,
     "metadata": {},
     "output_type": "execute_result"
    }
   ],
   "source": [
    "idxs = labeller.find(dls.train, vocab, ['regex_check'], [SPAM])\n",
    "get_sentences(tls, idxs).sample(10)"
   ]
  },
  {
   "cell_type": "code",
   "execution_count": 22,
   "metadata": {},
   "outputs": [],
   "source": [
    "labeller.remove('check_out')\n",
    "labeller.remove('regex_check_out')"
   ]
  },
  {
   "cell_type": "code",
   "execution_count": 23,
   "metadata": {},
   "outputs": [],
   "source": [
    "from textblob import TextBlob"
   ]
  },
  {
   "cell_type": "code",
   "execution_count": 24,
   "metadata": {},
   "outputs": [],
   "source": [
    "@labeller(cder, TextBlob)\n",
    "def tb_polarity(x, tb):\n",
    "    return HAM if tb.polarity > 0.9 else ABSTAIN\n",
    "@labeller(cder, TextBlob)\n",
    "def tb_sentiment(x, tb):\n",
    "    return HAM if tb.subjectivity >= 0.5 else ABSTAIN"
   ]
  },
  {
   "cell_type": "code",
   "execution_count": 25,
   "metadata": {},
   "outputs": [
    {
     "data": {
      "text/html": [
       "\n",
       "    <div>\n",
       "        <style>\n",
       "            /* Turns off some styling */\n",
       "            progress {\n",
       "                /* gets rid of default border in Firefox and Opera. */\n",
       "                border: none;\n",
       "                /* Needs to be in here for Safari polyfill so background images work as expected. */\n",
       "                background-size: auto;\n",
       "            }\n",
       "            .progress-bar-interrupted, .progress-bar-interrupted::-webkit-progress-bar {\n",
       "                background: #F44336;\n",
       "            }\n",
       "        </style>\n",
       "      <progress value='1956' class='' max='1956', style='width:300px; height:20px; vertical-align: middle;'></progress>\n",
       "      100.00% [1956/1956 00:00<00:00]\n",
       "    </div>\n",
       "    "
      ],
      "text/plain": [
       "<IPython.core.display.HTML object>"
      ]
     },
     "metadata": {},
     "output_type": "display_data"
    }
   ],
   "source": [
    "tasks = tasks_labels(labeller, tls, vocab)\n",
    "dset = Datasets(tls=[tasks], tfms=[])\n",
    "dls = dset.dataloaders()"
   ]
  },
  {
   "cell_type": "code",
   "execution_count": 26,
   "metadata": {},
   "outputs": [
    {
     "data": {
      "text/html": [
       "<div>\n",
       "<style scoped>\n",
       "    .dataframe tbody tr th:only-of-type {\n",
       "        vertical-align: middle;\n",
       "    }\n",
       "\n",
       "    .dataframe tbody tr th {\n",
       "        vertical-align: top;\n",
       "    }\n",
       "\n",
       "    .dataframe thead th {\n",
       "        text-align: right;\n",
       "    }\n",
       "</style>\n",
       "<table border=\"1\" class=\"dataframe\">\n",
       "  <thead>\n",
       "    <tr style=\"text-align: right;\">\n",
       "      <th></th>\n",
       "      <th>Coverage</th>\n",
       "      <th>Polarity</th>\n",
       "    </tr>\n",
       "  </thead>\n",
       "  <tbody>\n",
       "    <tr>\n",
       "      <th>regex_check</th>\n",
       "      <td>23.13% (444)</td>\n",
       "      <td>1</td>\n",
       "    </tr>\n",
       "    <tr>\n",
       "      <th>tb_polarity</th>\n",
       "      <td>4.79% (92)</td>\n",
       "      <td>1</td>\n",
       "    </tr>\n",
       "    <tr>\n",
       "      <th>tb_sentiment</th>\n",
       "      <td>38.13% (732)</td>\n",
       "      <td>1</td>\n",
       "    </tr>\n",
       "    <tr>\n",
       "      <th>check</th>\n",
       "      <td>23.91% (459)</td>\n",
       "      <td>1</td>\n",
       "    </tr>\n",
       "  </tbody>\n",
       "</table>\n",
       "</div>"
      ],
      "text/plain": [
       "                  Coverage  Polarity\n",
       "regex_check   23.13% (444)         1\n",
       "tb_polarity     4.79% (92)         1\n",
       "tb_sentiment  38.13% (732)         1\n",
       "check         23.91% (459)         1"
      ]
     },
     "execution_count": 26,
     "metadata": {},
     "output_type": "execute_result"
    }
   ],
   "source": [
    "labeller.summary(dls.train)"
   ]
  },
  {
   "cell_type": "code",
   "execution_count": 27,
   "metadata": {},
   "outputs": [
    {
     "data": {
      "text/html": [
       "<div>\n",
       "<style scoped>\n",
       "    .dataframe tbody tr th:only-of-type {\n",
       "        vertical-align: middle;\n",
       "    }\n",
       "\n",
       "    .dataframe tbody tr th {\n",
       "        vertical-align: top;\n",
       "    }\n",
       "\n",
       "    .dataframe thead th {\n",
       "        text-align: right;\n",
       "    }\n",
       "</style>\n",
       "<table border=\"1\" class=\"dataframe\">\n",
       "  <thead>\n",
       "    <tr style=\"text-align: right;\">\n",
       "      <th></th>\n",
       "      <th>0</th>\n",
       "    </tr>\n",
       "  </thead>\n",
       "  <tbody>\n",
       "    <tr>\n",
       "      <th>937</th>\n",
       "      <td>xxbos 2 Billion Views For This Piece Of Shit … ~ a r e ~ y o u ~ xxunk i d d i n g ~ m e xxunk</td>\n",
       "    </tr>\n",
       "    <tr>\n",
       "      <th>54</th>\n",
       "      <td>xxbos XXUNK I m THE xxunk XXUNK !!!!! IF YOUR CRAZY PLEASE DONATE XXUNK TO ME AT : xxunk</td>\n",
       "    </tr>\n",
       "    <tr>\n",
       "      <th>383</th>\n",
       "      <td>xxbos BEAUTIFUL</td>\n",
       "    </tr>\n",
       "    <tr>\n",
       "      <th>149</th>\n",
       "      <td>xxbos my son love so much﻿</td>\n",
       "    </tr>\n",
       "    <tr>\n",
       "      <th>982</th>\n",
       "      <td>xxbos THIS HAS MORE VIEWS THAN QUEEN AND MICHAEL JACKSON , 2 BILLION views omg﻿</td>\n",
       "    </tr>\n",
       "    <tr>\n",
       "      <th>866</th>\n",
       "      <td>xxbos Get free gift cards and pay xxunk xxunk</td>\n",
       "    </tr>\n",
       "    <tr>\n",
       "      <th>717</th>\n",
       "      <td>xxbos wow</td>\n",
       "    </tr>\n",
       "    <tr>\n",
       "      <th>1514</th>\n",
       "      <td>xxbos Check out my videos guy ! :) Hope you guys had a good laugh : d</td>\n",
       "    </tr>\n",
       "    <tr>\n",
       "      <th>37</th>\n",
       "      <td>xxbos http : / / xxunk / xxunk / xxunk / = ) ﻿</td>\n",
       "    </tr>\n",
       "    <tr>\n",
       "      <th>422</th>\n",
       "      <td>xxbos i swear Shakira xxunk getting more and more gorgeous ! She xxunk looks more gorgeous with her hair this way than super xxunk</td>\n",
       "    </tr>\n",
       "  </tbody>\n",
       "</table>\n",
       "</div>"
      ],
      "text/plain": [
       "                                                                                                                                       0\n",
       "937                                       xxbos 2 Billion Views For This Piece Of Shit … ~ a r e ~ y o u ~ xxunk i d d i n g ~ m e xxunk\n",
       "54                                              xxbos XXUNK I m THE xxunk XXUNK !!!!! IF YOUR CRAZY PLEASE DONATE XXUNK TO ME AT : xxunk\n",
       "383                                                                                                                      xxbos BEAUTIFUL\n",
       "149                                                                                                           xxbos my son love so much﻿\n",
       "982                                                      xxbos THIS HAS MORE VIEWS THAN QUEEN AND MICHAEL JACKSON , 2 BILLION views omg﻿\n",
       "866                                                                                        xxbos Get free gift cards and pay xxunk xxunk\n",
       "717                                                                                                                            xxbos wow\n",
       "1514                                                               xxbos Check out my videos guy ! :) Hope you guys had a good laugh : d\n",
       "37                                                                                        xxbos http : / / xxunk / xxunk / xxunk / = ) ﻿\n",
       "422   xxbos i swear Shakira xxunk getting more and more gorgeous ! She xxunk looks more gorgeous with her hair this way than super xxunk"
      ]
     },
     "execution_count": 27,
     "metadata": {},
     "output_type": "execute_result"
    }
   ],
   "source": [
    "idxs = labeller.find(dls.train, vocab, lfs=['tb_sentiment'], lbls=[HAM])\n",
    "get_sentences(tls, idxs).sample(10)"
   ]
  },
  {
   "cell_type": "code",
   "execution_count": 28,
   "metadata": {},
   "outputs": [],
   "source": [
    "def keyword_match(ws, label=SPAM):\n",
    "    ws = L(ws)\n",
    "    def _inner(x):\n",
    "        for w in ws:\n",
    "            if w in x: return label\n",
    "        return ABSTAIN\n",
    "    _inner.__name__ = f'kw_{ws[0]}'\n",
    "    labeller.register_func(cder, _inner)"
   ]
  },
  {
   "cell_type": "code",
   "execution_count": 29,
   "metadata": {},
   "outputs": [],
   "source": [
    "keyword_match('my')\n",
    "keyword_match('subscribe')\n",
    "keyword_match(['http', 'https'])\n",
    "keyword_match(['please', 'plz', 'pliz'])\n",
    "keyword_match(['song'], label=HAM)"
   ]
  },
  {
   "cell_type": "code",
   "execution_count": 30,
   "metadata": {},
   "outputs": [],
   "source": [
    "@labeller(tkzer)\n",
    "def short_comment(x): return HAM if len(x) < 6 else ABSTAIN"
   ]
  },
  {
   "cell_type": "code",
   "execution_count": 31,
   "metadata": {},
   "outputs": [
    {
     "data": {
      "text/html": [
       "\n",
       "    <div>\n",
       "        <style>\n",
       "            /* Turns off some styling */\n",
       "            progress {\n",
       "                /* gets rid of default border in Firefox and Opera. */\n",
       "                border: none;\n",
       "                /* Needs to be in here for Safari polyfill so background images work as expected. */\n",
       "                background-size: auto;\n",
       "            }\n",
       "            .progress-bar-interrupted, .progress-bar-interrupted::-webkit-progress-bar {\n",
       "                background: #F44336;\n",
       "            }\n",
       "        </style>\n",
       "      <progress value='1956' class='' max='1956', style='width:300px; height:20px; vertical-align: middle;'></progress>\n",
       "      100.00% [1956/1956 00:00<00:00]\n",
       "    </div>\n",
       "    "
      ],
      "text/plain": [
       "<IPython.core.display.HTML object>"
      ]
     },
     "metadata": {},
     "output_type": "display_data"
    }
   ],
   "source": [
    "tasks = tasks_labels(labeller, tls, vocab)\n",
    "dset = Datasets(tls=[tasks], tfms=[])\n",
    "dls = dset.dataloaders()"
   ]
  },
  {
   "cell_type": "code",
   "execution_count": 33,
   "metadata": {},
   "outputs": [
    {
     "data": {
      "text/html": [
       "<div>\n",
       "<style scoped>\n",
       "    .dataframe tbody tr th:only-of-type {\n",
       "        vertical-align: middle;\n",
       "    }\n",
       "\n",
       "    .dataframe tbody tr th {\n",
       "        vertical-align: top;\n",
       "    }\n",
       "\n",
       "    .dataframe thead th {\n",
       "        text-align: right;\n",
       "    }\n",
       "</style>\n",
       "<table border=\"1\" class=\"dataframe\">\n",
       "  <thead>\n",
       "    <tr style=\"text-align: right;\">\n",
       "      <th></th>\n",
       "      <th>Coverage</th>\n",
       "      <th>Polarity</th>\n",
       "    </tr>\n",
       "  </thead>\n",
       "  <tbody>\n",
       "    <tr>\n",
       "      <th>regex_check</th>\n",
       "      <td>23.49% (451)</td>\n",
       "      <td>1</td>\n",
       "    </tr>\n",
       "    <tr>\n",
       "      <th>tb_polarity</th>\n",
       "      <td>4.64% (89)</td>\n",
       "      <td>1</td>\n",
       "    </tr>\n",
       "    <tr>\n",
       "      <th>tb_sentiment</th>\n",
       "      <td>37.92% (728)</td>\n",
       "      <td>1</td>\n",
       "    </tr>\n",
       "    <tr>\n",
       "      <th>kw_my</th>\n",
       "      <td>16.46% (316)</td>\n",
       "      <td>1</td>\n",
       "    </tr>\n",
       "    <tr>\n",
       "      <th>kw_subscribe</th>\n",
       "      <td>8.28% (159)</td>\n",
       "      <td>1</td>\n",
       "    </tr>\n",
       "    <tr>\n",
       "      <th>kw_http</th>\n",
       "      <td>9.90% (190)</td>\n",
       "      <td>1</td>\n",
       "    </tr>\n",
       "    <tr>\n",
       "      <th>kw_please</th>\n",
       "      <td>6.15% (118)</td>\n",
       "      <td>1</td>\n",
       "    </tr>\n",
       "    <tr>\n",
       "      <th>kw_song</th>\n",
       "      <td>14.38% (276)</td>\n",
       "      <td>1</td>\n",
       "    </tr>\n",
       "    <tr>\n",
       "      <th>check</th>\n",
       "      <td>24.32% (467)</td>\n",
       "      <td>1</td>\n",
       "    </tr>\n",
       "    <tr>\n",
       "      <th>short_comment</th>\n",
       "      <td>11.77% (226)</td>\n",
       "      <td>1</td>\n",
       "    </tr>\n",
       "  </tbody>\n",
       "</table>\n",
       "</div>"
      ],
      "text/plain": [
       "                   Coverage  Polarity\n",
       "regex_check    23.49% (451)         1\n",
       "tb_polarity      4.64% (89)         1\n",
       "tb_sentiment   37.92% (728)         1\n",
       "kw_my          16.46% (316)         1\n",
       "kw_subscribe    8.28% (159)         1\n",
       "kw_http         9.90% (190)         1\n",
       "kw_please       6.15% (118)         1\n",
       "kw_song        14.38% (276)         1\n",
       "check          24.32% (467)         1\n",
       "short_comment  11.77% (226)         1"
      ]
     },
     "execution_count": 33,
     "metadata": {},
     "output_type": "execute_result"
    }
   ],
   "source": [
    "labeller.summary(dls.train)"
   ]
  }
 ],
 "metadata": {
  "kernelspec": {
   "display_name": "Python 3",
   "language": "python",
   "name": "python3"
  },
  "language_info": {
   "codemirror_mode": {
    "name": "ipython",
    "version": 3
   },
   "file_extension": ".py",
   "mimetype": "text/x-python",
   "name": "python",
   "nbconvert_exporter": "python",
   "pygments_lexer": "ipython3",
   "version": "3.7.7"
  },
  "toc": {
   "base_numbering": 1,
   "nav_menu": {},
   "number_sections": true,
   "sideBar": true,
   "skip_h1_title": false,
   "title_cell": "Table of Contents",
   "title_sidebar": "Contents",
   "toc_cell": false,
   "toc_position": {},
   "toc_section_display": true,
   "toc_window_display": false
  }
 },
 "nbformat": 4,
 "nbformat_minor": 4
}
