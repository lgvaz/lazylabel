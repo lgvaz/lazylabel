{
 "cells": [
  {
   "cell_type": "markdown",
   "metadata": {},
   "source": [
    "# Youtube spam detection"
   ]
  },
  {
   "cell_type": "markdown",
   "metadata": {},
   "source": [
    "Download [link](http://www.dt.fee.unicamp.br/~tiago//youtubespamcollection/)"
   ]
  },
  {
   "cell_type": "code",
   "execution_count": 1,
   "metadata": {},
   "outputs": [],
   "source": [
    "from fastai2.text.all import *\n",
    "from lazylabel.text.all import *"
   ]
  },
  {
   "cell_type": "code",
   "execution_count": 2,
   "metadata": {},
   "outputs": [],
   "source": [
    "source = Path('/home/lgvaz/.data/youtube_spam/')"
   ]
  },
  {
   "cell_type": "code",
   "execution_count": 3,
   "metadata": {},
   "outputs": [],
   "source": [
    "fns = get_files(source, extensions='.csv')\n",
    "dfs = [pd.read_csv(fn) for fn in fns]"
   ]
  },
  {
   "cell_type": "code",
   "execution_count": 4,
   "metadata": {},
   "outputs": [
    {
     "name": "stdout",
     "output_type": "stream",
     "text": [
      "9780\n"
     ]
    },
    {
     "data": {
      "text/html": [
       "<div>\n",
       "<style scoped>\n",
       "    .dataframe tbody tr th:only-of-type {\n",
       "        vertical-align: middle;\n",
       "    }\n",
       "\n",
       "    .dataframe tbody tr th {\n",
       "        vertical-align: top;\n",
       "    }\n",
       "\n",
       "    .dataframe thead th {\n",
       "        text-align: right;\n",
       "    }\n",
       "</style>\n",
       "<table border=\"1\" class=\"dataframe\">\n",
       "  <thead>\n",
       "    <tr style=\"text-align: right;\">\n",
       "      <th></th>\n",
       "      <th>COMMENT_ID</th>\n",
       "      <th>AUTHOR</th>\n",
       "      <th>DATE</th>\n",
       "      <th>CONTENT</th>\n",
       "      <th>CLASS</th>\n",
       "    </tr>\n",
       "  </thead>\n",
       "  <tbody>\n",
       "    <tr>\n",
       "      <th>0</th>\n",
       "      <td>z12pgdhovmrktzm3i23es5d5junftft3f</td>\n",
       "      <td>lekanaVEVO1</td>\n",
       "      <td>2014-07-22T15:27:50</td>\n",
       "      <td>i love this so much. AND also I Generate Free Leads on Auto Pilot &amp;amp; You Can  Too! http://www.MyLeaderGate.com/moretraffic﻿</td>\n",
       "      <td>1</td>\n",
       "    </tr>\n",
       "    <tr>\n",
       "      <th>1</th>\n",
       "      <td>z13yx345uxepetggz04ci5rjcxeohzlrtf4</td>\n",
       "      <td>Pyunghee</td>\n",
       "      <td>2014-07-27T01:57:16</td>\n",
       "      <td>http://www.billboard.com/articles/columns/pop-shop/6174122/fan-army-face-off-round-3 Vote for SONES please....we're against vips....please help us.. &amp;gt;.&amp;lt;﻿</td>\n",
       "      <td>1</td>\n",
       "    </tr>\n",
       "    <tr>\n",
       "      <th>2</th>\n",
       "      <td>z12lsjvi3wa5x1vwh04cibeaqnzrevxajw00k</td>\n",
       "      <td>Erica Ross</td>\n",
       "      <td>2014-07-27T02:51:43</td>\n",
       "      <td>Hey guys! Please join me in my fight to help abused/mistreated animals! All  fund will go to helping pay for vet bills/and or helping them find homes! I  will place an extra emphasis on helping disabled animals, ones otherwise  would just be put to sleep by other animal organizations. Donate please. http://www.gofundme.com/Angels-n-Wingz﻿</td>\n",
       "      <td>1</td>\n",
       "    </tr>\n",
       "    <tr>\n",
       "      <th>3</th>\n",
       "      <td>z13jcjuovxbwfr0ge04cev2ipsjdfdurwck</td>\n",
       "      <td>Aviel Haimov</td>\n",
       "      <td>2014-08-01T12:27:48</td>\n",
       "      <td>http://psnboss.com/?ref=2tGgp3pV6L this is the song﻿</td>\n",
       "      <td>1</td>\n",
       "    </tr>\n",
       "    <tr>\n",
       "      <th>4</th>\n",
       "      <td>z13qybua2yfydzxzj04cgfpqdt2syfx53ms0k</td>\n",
       "      <td>John Bello</td>\n",
       "      <td>2014-08-01T21:04:03</td>\n",
       "      <td>Hey everyone. Watch this trailer!!!!!!!!  http://believemefilm.com?hlr=h2hQBUVB﻿</td>\n",
       "      <td>1</td>\n",
       "    </tr>\n",
       "  </tbody>\n",
       "</table>\n",
       "</div>"
      ],
      "text/plain": [
       "                              COMMENT_ID        AUTHOR                 DATE  \\\n",
       "0      z12pgdhovmrktzm3i23es5d5junftft3f   lekanaVEVO1  2014-07-22T15:27:50   \n",
       "1    z13yx345uxepetggz04ci5rjcxeohzlrtf4      Pyunghee  2014-07-27T01:57:16   \n",
       "2  z12lsjvi3wa5x1vwh04cibeaqnzrevxajw00k    Erica Ross  2014-07-27T02:51:43   \n",
       "3    z13jcjuovxbwfr0ge04cev2ipsjdfdurwck  Aviel Haimov  2014-08-01T12:27:48   \n",
       "4  z13qybua2yfydzxzj04cgfpqdt2syfx53ms0k    John Bello  2014-08-01T21:04:03   \n",
       "\n",
       "                                                                                                                                                                                                                                                                                                                                                CONTENT  \\\n",
       "0                                                                                                                                                                                                                        i love this so much. AND also I Generate Free Leads on Auto Pilot &amp; You Can  Too! http://www.MyLeaderGate.com/moretraffic﻿   \n",
       "1                                                                                                                                                                                       http://www.billboard.com/articles/columns/pop-shop/6174122/fan-army-face-off-round-3 Vote for SONES please....we're against vips....please help us.. &gt;.&lt;﻿   \n",
       "2  Hey guys! Please join me in my fight to help abused/mistreated animals! All  fund will go to helping pay for vet bills/and or helping them find homes! I  will place an extra emphasis on helping disabled animals, ones otherwise  would just be put to sleep by other animal organizations. Donate please. http://www.gofundme.com/Angels-n-Wingz﻿   \n",
       "3                                                                                                                                                                                                                                                                                                  http://psnboss.com/?ref=2tGgp3pV6L this is the song﻿   \n",
       "4                                                                                                                                                                                                                                                                      Hey everyone. Watch this trailer!!!!!!!!  http://believemefilm.com?hlr=h2hQBUVB﻿   \n",
       "\n",
       "   CLASS  \n",
       "0      1  \n",
       "1      1  \n",
       "2      1  \n",
       "3      1  \n",
       "4      1  "
      ]
     },
     "execution_count": 4,
     "metadata": {},
     "output_type": "execute_result"
    }
   ],
   "source": [
    "df = pd.concat(dfs)\n",
    "print(df.size); df.head()"
   ]
  },
  {
   "cell_type": "code",
   "execution_count": 5,
   "metadata": {},
   "outputs": [],
   "source": [
    "df['original'] = df['CONTENT']"
   ]
  },
  {
   "cell_type": "code",
   "execution_count": 6,
   "metadata": {},
   "outputs": [],
   "source": [
    "cder,tkzer,nmzer = mk_transform(ColReader('original')),Tokenizer.from_df('CONTENT'),Numericalize()"
   ]
  },
  {
   "cell_type": "code",
   "execution_count": 7,
   "metadata": {},
   "outputs": [],
   "source": [
    "ABSTAIN,SPAM,HAM = 'abstain','spam','ham'\n",
    "vocab = [ABSTAIN,SPAM,HAM]"
   ]
  },
  {
   "cell_type": "code",
   "execution_count": 8,
   "metadata": {},
   "outputs": [],
   "source": [
    "labeller = Labeller()\n",
    "@labeller(tkzer)\n",
    "def check(x): return SPAM if 'check' in x else ABSTAIN\n",
    "@labeller(cder)\n",
    "def check_out(x): return SPAM if 'check out' in x.lower() else ABSTAIN"
   ]
  },
  {
   "cell_type": "code",
   "execution_count": 9,
   "metadata": {},
   "outputs": [
    {
     "data": {
      "text/html": [],
      "text/plain": [
       "<IPython.core.display.HTML object>"
      ]
     },
     "metadata": {},
     "output_type": "display_data"
    },
    {
     "data": {
      "text/html": [
       "\n",
       "    <div>\n",
       "        <style>\n",
       "            /* Turns off some styling */\n",
       "            progress {\n",
       "                /* gets rid of default border in Firefox and Opera. */\n",
       "                border: none;\n",
       "                /* Needs to be in here for Safari polyfill so background images work as expected. */\n",
       "                background-size: auto;\n",
       "            }\n",
       "            .progress-bar-interrupted, .progress-bar-interrupted::-webkit-progress-bar {\n",
       "                background: #F44336;\n",
       "            }\n",
       "        </style>\n",
       "      <progress value='1956' class='' max='1956', style='width:300px; height:20px; vertical-align: middle;'></progress>\n",
       "      100.00% [1956/1956 00:01<00:00]\n",
       "    </div>\n",
       "    "
      ],
      "text/plain": [
       "<IPython.core.display.HTML object>"
      ]
     },
     "metadata": {},
     "output_type": "display_data"
    }
   ],
   "source": [
    "tls = TfmdLists(df, [cder,tkzer,nmzer])\n",
    "tasks = tasks_labels(labeller, tls, vocab)"
   ]
  },
  {
   "cell_type": "code",
   "execution_count": 11,
   "metadata": {},
   "outputs": [],
   "source": [
    "dset = Datasets(tls=[tasks], tfms=[])\n",
    "dls = dset.dataloaders()"
   ]
  },
  {
   "cell_type": "code",
   "execution_count": 12,
   "metadata": {
    "scrolled": true
   },
   "outputs": [
    {
     "data": {
      "text/html": [
       "<div>\n",
       "<style scoped>\n",
       "    .dataframe tbody tr th:only-of-type {\n",
       "        vertical-align: middle;\n",
       "    }\n",
       "\n",
       "    .dataframe tbody tr th {\n",
       "        vertical-align: top;\n",
       "    }\n",
       "\n",
       "    .dataframe thead th {\n",
       "        text-align: right;\n",
       "    }\n",
       "</style>\n",
       "<table border=\"1\" class=\"dataframe\">\n",
       "  <thead>\n",
       "    <tr style=\"text-align: right;\">\n",
       "      <th></th>\n",
       "      <th>Coverage</th>\n",
       "      <th>Polarity</th>\n",
       "    </tr>\n",
       "  </thead>\n",
       "  <tbody>\n",
       "    <tr>\n",
       "      <th>check_out</th>\n",
       "      <td>20.83% (400)</td>\n",
       "      <td>1</td>\n",
       "    </tr>\n",
       "    <tr>\n",
       "      <th>check</th>\n",
       "      <td>24.32% (467)</td>\n",
       "      <td>1</td>\n",
       "    </tr>\n",
       "  </tbody>\n",
       "</table>\n",
       "</div>"
      ],
      "text/plain": [
       "               Coverage  Polarity\n",
       "check_out  20.83% (400)         1\n",
       "check      24.32% (467)         1"
      ]
     },
     "execution_count": 12,
     "metadata": {},
     "output_type": "execute_result"
    }
   ],
   "source": [
    "labeller.summary(dls.train)"
   ]
  },
  {
   "cell_type": "code",
   "execution_count": 13,
   "metadata": {},
   "outputs": [],
   "source": [
    "def get_sentences(tls, idxs):\n",
    "    sentences = {}\n",
    "    for i in idxs:\n",
    "        tks = tls.decode(tls[i])\n",
    "        sentences[i] = (' '.join(decode_spec_tokens(tks.split(' '))))\n",
    "    return pd.DataFrame(sentences.values(), sentences.keys())"
   ]
  },
  {
   "cell_type": "code",
   "execution_count": 15,
   "metadata": {},
   "outputs": [],
   "source": [
    "idxs = labeller.find(dls.train, vocab, ['check', 'check_out'], [SPAM, ABSTAIN])"
   ]
  },
  {
   "cell_type": "code",
   "execution_count": 16,
   "metadata": {},
   "outputs": [
    {
     "data": {
      "text/html": [
       "<div>\n",
       "<style scoped>\n",
       "    .dataframe tbody tr th:only-of-type {\n",
       "        vertical-align: middle;\n",
       "    }\n",
       "\n",
       "    .dataframe tbody tr th {\n",
       "        vertical-align: top;\n",
       "    }\n",
       "\n",
       "    .dataframe thead th {\n",
       "        text-align: right;\n",
       "    }\n",
       "</style>\n",
       "<table border=\"1\" class=\"dataframe\">\n",
       "  <thead>\n",
       "    <tr style=\"text-align: right;\">\n",
       "      <th></th>\n",
       "      <th>0</th>\n",
       "    </tr>\n",
       "  </thead>\n",
       "  <tbody>\n",
       "    <tr>\n",
       "      <th>1329</th>\n",
       "      <td>xxbos ┏ ━━━ ┓┓┓ ┏┏┏ ┓┓┓ ╋╋╋ ┏┏┏ ┓┓┓ ┏┏┏ 333 ━━━ ┓┓┓ ┏┏┏ 333 ━━━ ┓┓┓ ┏┏┏ ┓┓┓ ╋╋╋ ╋╋╋ ┏┏┏ ┓┓┓ ┃┃┃ ┏┏┏ ━━━ ┓┓┓ 333 ┃┃┃ ╋╋╋ 333 ┃┃┃ ┏┏┏ ━━━ ┓┓┓ ┃┃┃ ┗┗┗ ┓┓┓ ┏┏┏ ┓┓┓ ┃┃┃ ┃┃┃ ┗┗┗ ┓┓┓ ┏┏┏ ┛┛┛ ┃┃┃ ┃┃┃ ┗┗┗ ━━━ ━━━ ┓┓┓ ┃┃┃ ┗┗┗ ━━━ ┛┛┛ 333 ┃┃┃ ╋╋╋ ┃┃┃ ┃┃┃ ╋╋╋ 444 ┃┃┃ ┗┗┗ ┓┓┓ ┗┗┗ ┛┛┛ ┏┏┏ ┗┗┗ ━━━ ━━━ ┓┓┓ ┃┃┃ ┃┃┃ ┏┏┏ ━━━ ┓┓┓ ┃┃┃ ┃┃┃ ┗┗┗ ━━━ ┛┛┛ ┃┃┃ ╋╋╋ 444 ┃┃┃ ╋╋╋ ┗┗┗ ┓┓┓ ┏┏┏ ┛┛┛ ┃┃┃ ┗┗┗ ━━━ ┛┛┛ 333 ┃┃┃ ╋╋╋ 333 ┃┃┃ ┏┏┏ ━━━ ┓┓┓ ┃┃┃ ┏┏┏ ┛┛┛ ┗┗┗ ┛┛┛ ┃┃┃ ╋╋╋ ╋╋╋ ┃┃┃ ┃┃┃ ┗┗┗ 333 ━━━ ┛┛┛ ┗┗┗ ┛┛┛ ╋╋╋ ┗┗┗ ┛┛┛ ┗┗┗ ┛┛┛ ╋╋╋ ┗┗┗ ┛┛┛ ┗┗┗ 333 ━━━ ┛┛┛ ╋╋╋ ╋╋╋ ┗┗┗ ┛┛┛ CHECK MY VIDEOS AND SUBSCRIBE AND LIKE XXUNK</td>\n",
       "    </tr>\n",
       "    <tr>\n",
       "      <th>159</th>\n",
       "      <td>xxbos a friend of mine has xxunk a big dick xxunk . He had a small dick ( 4 xxunk ) and he did some xxunk about this xxunk . Xxunk the xxunk , he found out the secret xxunk of xxunk xxunk . He xxunk what he had learned and now he has a 7 xxunk dick . He was absolutely xxunk by his xxunk . Of xxunk , it took a few months . Xxunk , he has xxunk a book about this xxunk in order to help guys . He xxunk me to xxunk his book :) So , guys if you are xxunk and for more xxunk check this out https : / / xxunk / b / xxunk . He is xxunk it for xxunk xxunk 1 . Thank you ; ) ﻿</td>\n",
       "    </tr>\n",
       "    <tr>\n",
       "      <th>740</th>\n",
       "      <td>xxbos i think about 100 millions of the views come from people who only wanted to check the views﻿</td>\n",
       "    </tr>\n",
       "    <tr>\n",
       "      <th>91</th>\n",
       "      <td>xxbos Can you check my videos please ? Do n't hate me :( Give me one xxunk</td>\n",
       "    </tr>\n",
       "    <tr>\n",
       "      <th>907</th>\n",
       "      <td>xxbos I 'm here to check the views .. holy xxunk</td>\n",
       "    </tr>\n",
       "    <tr>\n",
       "      <th>46</th>\n",
       "      <td>xxbos She named the tiger Xxunk Xxunk No , seriously , she did , check the video ﻿</td>\n",
       "    </tr>\n",
       "    <tr>\n",
       "      <th>680</th>\n",
       "      <td>xxbos Hey Music Fans i really appreciate any of you who will take the time to read this , and check my music out ! I&amp;'m just a 15 year old boy DREAMING of being a successful MUSICIAN in the music world . i do lots of covers , and piano covers . But i don&amp;'t have money to advertise . a simple thumbs up to my comment , a comment on my videos or a SUBSCRIPTION would be a step forward ! It will only be a few seconds of your life that you won&amp;'t regret !!! Thank u to all the people who just give me a chance ! :)</td>\n",
       "    </tr>\n",
       "    <tr>\n",
       "      <th>34</th>\n",
       "      <td>xxbos Hello ! I 'm Xxunk , I 'm a singer from Xxunk ! i was part of a boy - girl band named xxunk , and I 'm now singing on my own xxunk i wanted to play my own pop and pop - rock songs . It would mean a lot if you could have a look at my channel to check my music and watch my new video ! ! and if u like , subscribe to it ! XOXO THANKS ! ! XXUNK : if you like a lot my channel , you can share it with your friends ! ! Haha ! ! LOL XXUNK</td>\n",
       "    </tr>\n",
       "    <tr>\n",
       "      <th>861</th>\n",
       "      <td>xxbos check men out i put xxunk of xxunk into my music but xxunk not many watch it﻿</td>\n",
       "    </tr>\n",
       "    <tr>\n",
       "      <th>801</th>\n",
       "      <td>xxbos Xxunk it you just came here to check the number of xxunk ﻿</td>\n",
       "    </tr>\n",
       "  </tbody>\n",
       "</table>\n",
       "</div>"
      ],
      "text/plain": [
       "                                                                                                                                                                                                                                                                                                                                                                                                                                                                                                                                                                                                                 0\n",
       "1329  xxbos ┏ ━━━ ┓┓┓ ┏┏┏ ┓┓┓ ╋╋╋ ┏┏┏ ┓┓┓ ┏┏┏ 333 ━━━ ┓┓┓ ┏┏┏ 333 ━━━ ┓┓┓ ┏┏┏ ┓┓┓ ╋╋╋ ╋╋╋ ┏┏┏ ┓┓┓ ┃┃┃ ┏┏┏ ━━━ ┓┓┓ 333 ┃┃┃ ╋╋╋ 333 ┃┃┃ ┏┏┏ ━━━ ┓┓┓ ┃┃┃ ┗┗┗ ┓┓┓ ┏┏┏ ┓┓┓ ┃┃┃ ┃┃┃ ┗┗┗ ┓┓┓ ┏┏┏ ┛┛┛ ┃┃┃ ┃┃┃ ┗┗┗ ━━━ ━━━ ┓┓┓ ┃┃┃ ┗┗┗ ━━━ ┛┛┛ 333 ┃┃┃ ╋╋╋ ┃┃┃ ┃┃┃ ╋╋╋ 444 ┃┃┃ ┗┗┗ ┓┓┓ ┗┗┗ ┛┛┛ ┏┏┏ ┗┗┗ ━━━ ━━━ ┓┓┓ ┃┃┃ ┃┃┃ ┏┏┏ ━━━ ┓┓┓ ┃┃┃ ┃┃┃ ┗┗┗ ━━━ ┛┛┛ ┃┃┃ ╋╋╋ 444 ┃┃┃ ╋╋╋ ┗┗┗ ┓┓┓ ┏┏┏ ┛┛┛ ┃┃┃ ┗┗┗ ━━━ ┛┛┛ 333 ┃┃┃ ╋╋╋ 333 ┃┃┃ ┏┏┏ ━━━ ┓┓┓ ┃┃┃ ┏┏┏ ┛┛┛ ┗┗┗ ┛┛┛ ┃┃┃ ╋╋╋ ╋╋╋ ┃┃┃ ┃┃┃ ┗┗┗ 333 ━━━ ┛┛┛ ┗┗┗ ┛┛┛ ╋╋╋ ┗┗┗ ┛┛┛ ┗┗┗ ┛┛┛ ╋╋╋ ┗┗┗ ┛┛┛ ┗┗┗ 333 ━━━ ┛┛┛ ╋╋╋ ╋╋╋ ┗┗┗ ┛┛┛ CHECK MY VIDEOS AND SUBSCRIBE AND LIKE XXUNK\n",
       "159                      xxbos a friend of mine has xxunk a big dick xxunk . He had a small dick ( 4 xxunk ) and he did some xxunk about this xxunk . Xxunk the xxunk , he found out the secret xxunk of xxunk xxunk . He xxunk what he had learned and now he has a 7 xxunk dick . He was absolutely xxunk by his xxunk . Of xxunk , it took a few months . Xxunk , he has xxunk a book about this xxunk in order to help guys . He xxunk me to xxunk his book :) So , guys if you are xxunk and for more xxunk check this out https : / / xxunk / b / xxunk . He is xxunk it for xxunk xxunk 1 . Thank you ; ) ﻿\n",
       "740                                                                                                                                                                                                                                                                                                                                                                                                                                                                                                             xxbos i think about 100 millions of the views come from people who only wanted to check the views﻿\n",
       "91                                                                                                                                                                                                                                                                                                                                                                                                                                                                                                                                      xxbos Can you check my videos please ? Do n't hate me :( Give me one xxunk\n",
       "907                                                                                                                                                                                                                                                                                                                                                                                                                                                                                                                                                               xxbos I 'm here to check the views .. holy xxunk\n",
       "46                                                                                                                                                                                                                                                                                                                                                                                                                                                                                                                              xxbos She named the tiger Xxunk Xxunk No , seriously , she did , check the video ﻿\n",
       "680                                                                               xxbos Hey Music Fans i really appreciate any of you who will take the time to read this , and check my music out ! I&'m just a 15 year old boy DREAMING of being a successful MUSICIAN in the music world . i do lots of covers , and piano covers . But i don&'t have money to advertise . a simple thumbs up to my comment , a comment on my videos or a SUBSCRIPTION would be a step forward ! It will only be a few seconds of your life that you won&'t regret !!! Thank u to all the people who just give me a chance ! :)\n",
       "34                                                                                                                                                          xxbos Hello ! I 'm Xxunk , I 'm a singer from Xxunk ! i was part of a boy - girl band named xxunk , and I 'm now singing on my own xxunk i wanted to play my own pop and pop - rock songs . It would mean a lot if you could have a look at my channel to check my music and watch my new video ! ! and if u like , subscribe to it ! XOXO THANKS ! ! XXUNK : if you like a lot my channel , you can share it with your friends ! ! Haha ! ! LOL XXUNK\n",
       "861                                                                                                                                                                                                                                                                                                                                                                                                                                                                                                                            xxbos check men out i put xxunk of xxunk into my music but xxunk not many watch it﻿\n",
       "801                                                                                                                                                                                                                                                                                                                                                                                                                                                                                                                                               xxbos Xxunk it you just came here to check the number of xxunk ﻿"
      ]
     },
     "execution_count": 16,
     "metadata": {},
     "output_type": "execute_result"
    }
   ],
   "source": [
    "get_sentences(tls, idxs).sample(10)"
   ]
  },
  {
   "cell_type": "code",
   "execution_count": 17,
   "metadata": {},
   "outputs": [],
   "source": [
    "@labeller(cder)\n",
    "def regex_check_out(x):\n",
    "    return SPAM if re.search(r'check.*out', x, flags=re.I) else ABSTAIN"
   ]
  },
  {
   "cell_type": "code",
   "execution_count": 18,
   "metadata": {},
   "outputs": [],
   "source": [
    "@labeller(cder)\n",
    "def regex_check(x):\n",
    "    return SPAM if re.search(r'(check\\s(my|this))|check\\s(\\w+)?\\s?out', x, flags=re.I) else ABSTAIN"
   ]
  },
  {
   "cell_type": "code",
   "execution_count": 20,
   "metadata": {},
   "outputs": [
    {
     "data": {
      "text/html": [
       "\n",
       "    <div>\n",
       "        <style>\n",
       "            /* Turns off some styling */\n",
       "            progress {\n",
       "                /* gets rid of default border in Firefox and Opera. */\n",
       "                border: none;\n",
       "                /* Needs to be in here for Safari polyfill so background images work as expected. */\n",
       "                background-size: auto;\n",
       "            }\n",
       "            .progress-bar-interrupted, .progress-bar-interrupted::-webkit-progress-bar {\n",
       "                background: #F44336;\n",
       "            }\n",
       "        </style>\n",
       "      <progress value='1956' class='' max='1956', style='width:300px; height:20px; vertical-align: middle;'></progress>\n",
       "      100.00% [1956/1956 00:00<00:00]\n",
       "    </div>\n",
       "    "
      ],
      "text/plain": [
       "<IPython.core.display.HTML object>"
      ]
     },
     "metadata": {},
     "output_type": "display_data"
    }
   ],
   "source": [
    "tasks = tasks_labels(labeller, tls, vocab)\n",
    "dset = Datasets(tls=[tasks], tfms=[])\n",
    "dls = dset.dataloaders()"
   ]
  },
  {
   "cell_type": "code",
   "execution_count": 21,
   "metadata": {},
   "outputs": [
    {
     "data": {
      "text/html": [
       "<div>\n",
       "<style scoped>\n",
       "    .dataframe tbody tr th:only-of-type {\n",
       "        vertical-align: middle;\n",
       "    }\n",
       "\n",
       "    .dataframe tbody tr th {\n",
       "        vertical-align: top;\n",
       "    }\n",
       "\n",
       "    .dataframe thead th {\n",
       "        text-align: right;\n",
       "    }\n",
       "</style>\n",
       "<table border=\"1\" class=\"dataframe\">\n",
       "  <thead>\n",
       "    <tr style=\"text-align: right;\">\n",
       "      <th></th>\n",
       "      <th>Coverage</th>\n",
       "      <th>Polarity</th>\n",
       "    </tr>\n",
       "  </thead>\n",
       "  <tbody>\n",
       "    <tr>\n",
       "      <th>check_out</th>\n",
       "      <td>20.42% (392)</td>\n",
       "      <td>1</td>\n",
       "    </tr>\n",
       "    <tr>\n",
       "      <th>regex_check_out</th>\n",
       "      <td>22.45% (431)</td>\n",
       "      <td>1</td>\n",
       "    </tr>\n",
       "    <tr>\n",
       "      <th>regex_check</th>\n",
       "      <td>23.07% (443)</td>\n",
       "      <td>1</td>\n",
       "    </tr>\n",
       "    <tr>\n",
       "      <th>check</th>\n",
       "      <td>23.91% (459)</td>\n",
       "      <td>1</td>\n",
       "    </tr>\n",
       "  </tbody>\n",
       "</table>\n",
       "</div>"
      ],
      "text/plain": [
       "                     Coverage  Polarity\n",
       "check_out        20.42% (392)         1\n",
       "regex_check_out  22.45% (431)         1\n",
       "regex_check      23.07% (443)         1\n",
       "check            23.91% (459)         1"
      ]
     },
     "execution_count": 21,
     "metadata": {},
     "output_type": "execute_result"
    }
   ],
   "source": [
    "labeller.summary(dls.train)"
   ]
  },
  {
   "cell_type": "code",
   "execution_count": 22,
   "metadata": {},
   "outputs": [
    {
     "name": "stdout",
     "output_type": "stream",
     "text": [
      "17\n"
     ]
    },
    {
     "data": {
      "text/html": [
       "<div>\n",
       "<style scoped>\n",
       "    .dataframe tbody tr th:only-of-type {\n",
       "        vertical-align: middle;\n",
       "    }\n",
       "\n",
       "    .dataframe tbody tr th {\n",
       "        vertical-align: top;\n",
       "    }\n",
       "\n",
       "    .dataframe thead th {\n",
       "        text-align: right;\n",
       "    }\n",
       "</style>\n",
       "<table border=\"1\" class=\"dataframe\">\n",
       "  <thead>\n",
       "    <tr style=\"text-align: right;\">\n",
       "      <th></th>\n",
       "      <th>0</th>\n",
       "    </tr>\n",
       "  </thead>\n",
       "  <tbody>\n",
       "    <tr>\n",
       "      <th>1329</th>\n",
       "      <td>xxbos ┏ ━━━ ┓┓┓ ┏┏┏ ┓┓┓ ╋╋╋ ┏┏┏ ┓┓┓ ┏┏┏ 333 ━━━ ┓┓┓ ┏┏┏ 333 ━━━ ┓┓┓ ┏┏┏ ┓┓┓ ╋╋╋ ╋╋╋ ┏┏┏ ┓┓┓ ┃┃┃ ┏┏┏ ━━━ ┓┓┓ 333 ┃┃┃ ╋╋╋ 333 ┃┃┃ ┏┏┏ ━━━ ┓┓┓ ┃┃┃ ┗┗┗ ┓┓┓ ┏┏┏ ┓┓┓ ┃┃┃ ┃┃┃ ┗┗┗ ┓┓┓ ┏┏┏ ┛┛┛ ┃┃┃ ┃┃┃ ┗┗┗ ━━━ ━━━ ┓┓┓ ┃┃┃ ┗┗┗ ━━━ ┛┛┛ 333 ┃┃┃ ╋╋╋ ┃┃┃ ┃┃┃ ╋╋╋ 444 ┃┃┃ ┗┗┗ ┓┓┓ ┗┗┗ ┛┛┛ ┏┏┏ ┗┗┗ ━━━ ━━━ ┓┓┓ ┃┃┃ ┃┃┃ ┏┏┏ ━━━ ┓┓┓ ┃┃┃ ┃┃┃ ┗┗┗ ━━━ ┛┛┛ ┃┃┃ ╋╋╋ 444 ┃┃┃ ╋╋╋ ┗┗┗ ┓┓┓ ┏┏┏ ┛┛┛ ┃┃┃ ┗┗┗ ━━━ ┛┛┛ 333 ┃┃┃ ╋╋╋ 333 ┃┃┃ ┏┏┏ ━━━ ┓┓┓ ┃┃┃ ┏┏┏ ┛┛┛ ┗┗┗ ┛┛┛ ┃┃┃ ╋╋╋ ╋╋╋ ┃┃┃ ┃┃┃ ┗┗┗ 333 ━━━ ┛┛┛ ┗┗┗ ┛┛┛ ╋╋╋ ┗┗┗ ┛┛┛ ┗┗┗ ┛┛┛ ╋╋╋ ┗┗┗ ┛┛┛ ┗┗┗ 333 ━━━ ┛┛┛ ╋╋╋ ╋╋╋ ┗┗┗ ┛┛┛ CHECK MY VIDEOS AND SUBSCRIBE AND LIKE XXUNK</td>\n",
       "    </tr>\n",
       "    <tr>\n",
       "      <th>209</th>\n",
       "      <td>xxbos Rap from Xxunk , check my xxunk</td>\n",
       "    </tr>\n",
       "    <tr>\n",
       "      <th>14</th>\n",
       "      <td>xxbos https : / / soundcloud.com / xxunk please check my stuff ; and make some xxunk</td>\n",
       "    </tr>\n",
       "    <tr>\n",
       "      <th>756</th>\n",
       "      <td>xxbos Check my channel please ! And listen to the best music ever : p﻿</td>\n",
       "    </tr>\n",
       "    <tr>\n",
       "      <th>880</th>\n",
       "      <td>xxbos CHECK MY CHANNEL FOR MY NEW SONG ' xxunk ' ! ! YOU 'll LOVE XXUNK</td>\n",
       "    </tr>\n",
       "    <tr>\n",
       "      <th>804</th>\n",
       "      <td>xxbos Check my channel﻿</td>\n",
       "    </tr>\n",
       "    <tr>\n",
       "      <th>940</th>\n",
       "      <td>xxbos I m a RAPPER / SONGWRITER , check my video please .. also subscribe for more thanks :) tell me what you xxunk</td>\n",
       "    </tr>\n",
       "    <tr>\n",
       "      <th>764</th>\n",
       "      <td>xxbos if you like xxunk talent , xxunk lyrics , xxunk real hip hop Everyone check my newest sound Xxunk x - Got the Xxunk ( prod by . Xxunk the Model Xxunk ) COMMENT TELL ME WHAT YOU THINK DO nt BE XXUNK !!!! ---- 1111 //// 7777 Xxunk</td>\n",
       "    </tr>\n",
       "    <tr>\n",
       "      <th>224</th>\n",
       "      <td>xxbos want to win xxunk the xxunk - xxunk ? check my channel : ) ﻿</td>\n",
       "    </tr>\n",
       "    <tr>\n",
       "      <th>729</th>\n",
       "      <td>xxbos and u xxunk check my channel and tell me what i should do xxunk</td>\n",
       "    </tr>\n",
       "  </tbody>\n",
       "</table>\n",
       "</div>"
      ],
      "text/plain": [
       "                                                                                                                                                                                                                                                                                                                                                                                                                                                                                                                                                                                                                 0\n",
       "1329  xxbos ┏ ━━━ ┓┓┓ ┏┏┏ ┓┓┓ ╋╋╋ ┏┏┏ ┓┓┓ ┏┏┏ 333 ━━━ ┓┓┓ ┏┏┏ 333 ━━━ ┓┓┓ ┏┏┏ ┓┓┓ ╋╋╋ ╋╋╋ ┏┏┏ ┓┓┓ ┃┃┃ ┏┏┏ ━━━ ┓┓┓ 333 ┃┃┃ ╋╋╋ 333 ┃┃┃ ┏┏┏ ━━━ ┓┓┓ ┃┃┃ ┗┗┗ ┓┓┓ ┏┏┏ ┓┓┓ ┃┃┃ ┃┃┃ ┗┗┗ ┓┓┓ ┏┏┏ ┛┛┛ ┃┃┃ ┃┃┃ ┗┗┗ ━━━ ━━━ ┓┓┓ ┃┃┃ ┗┗┗ ━━━ ┛┛┛ 333 ┃┃┃ ╋╋╋ ┃┃┃ ┃┃┃ ╋╋╋ 444 ┃┃┃ ┗┗┗ ┓┓┓ ┗┗┗ ┛┛┛ ┏┏┏ ┗┗┗ ━━━ ━━━ ┓┓┓ ┃┃┃ ┃┃┃ ┏┏┏ ━━━ ┓┓┓ ┃┃┃ ┃┃┃ ┗┗┗ ━━━ ┛┛┛ ┃┃┃ ╋╋╋ 444 ┃┃┃ ╋╋╋ ┗┗┗ ┓┓┓ ┏┏┏ ┛┛┛ ┃┃┃ ┗┗┗ ━━━ ┛┛┛ 333 ┃┃┃ ╋╋╋ 333 ┃┃┃ ┏┏┏ ━━━ ┓┓┓ ┃┃┃ ┏┏┏ ┛┛┛ ┗┗┗ ┛┛┛ ┃┃┃ ╋╋╋ ╋╋╋ ┃┃┃ ┃┃┃ ┗┗┗ 333 ━━━ ┛┛┛ ┗┗┗ ┛┛┛ ╋╋╋ ┗┗┗ ┛┛┛ ┗┗┗ ┛┛┛ ╋╋╋ ┗┗┗ ┛┛┛ ┗┗┗ 333 ━━━ ┛┛┛ ╋╋╋ ╋╋╋ ┗┗┗ ┛┛┛ CHECK MY VIDEOS AND SUBSCRIBE AND LIKE XXUNK\n",
       "209                                                                                                                                                                                                                                                                                                                                                                                                                                                                                                                                                                          xxbos Rap from Xxunk , check my xxunk\n",
       "14                                                                                                                                                                                                                                                                                                                                                                                                                                                                                                                            xxbos https : / / soundcloud.com / xxunk please check my stuff ; and make some xxunk\n",
       "756                                                                                                                                                                                                                                                                                                                                                                                                                                                                                                                                         xxbos Check my channel please ! And listen to the best music ever : p﻿\n",
       "880                                                                                                                                                                                                                                                                                                                                                                                                                                                                                                                                        xxbos CHECK MY CHANNEL FOR MY NEW SONG ' xxunk ' ! ! YOU 'll LOVE XXUNK\n",
       "804                                                                                                                                                                                                                                                                                                                                                                                                                                                                                                                                                                                        xxbos Check my channel﻿\n",
       "940                                                                                                                                                                                                                                                                                                                                                                                                                                                                                            xxbos I m a RAPPER / SONGWRITER , check my video please .. also subscribe for more thanks :) tell me what you xxunk\n",
       "764                                                                                                                                                                                                                                                                                                                                                                     xxbos if you like xxunk talent , xxunk lyrics , xxunk real hip hop Everyone check my newest sound Xxunk x - Got the Xxunk ( prod by . Xxunk the Model Xxunk ) COMMENT TELL ME WHAT YOU THINK DO nt BE XXUNK !!!! ---- 1111 //// 7777 Xxunk\n",
       "224                                                                                                                                                                                                                                                                                                                                                                                                                                                                                                                                             xxbos want to win xxunk the xxunk - xxunk ? check my channel : ) ﻿\n",
       "729                                                                                                                                                                                                                                                                                                                                                                                                                                                                                                                                          xxbos and u xxunk check my channel and tell me what i should do xxunk"
      ]
     },
     "execution_count": 22,
     "metadata": {},
     "output_type": "execute_result"
    }
   ],
   "source": [
    "idxs = labeller.find(dls.train, vocab, ['regex_check', 'regex_check_out'], [SPAM, ABSTAIN])\n",
    "print(len(idxs))\n",
    "get_sentences(tls, idxs).sample(10)"
   ]
  },
  {
   "cell_type": "code",
   "execution_count": 24,
   "metadata": {},
   "outputs": [
    {
     "data": {
      "text/html": [
       "<div>\n",
       "<style scoped>\n",
       "    .dataframe tbody tr th:only-of-type {\n",
       "        vertical-align: middle;\n",
       "    }\n",
       "\n",
       "    .dataframe tbody tr th {\n",
       "        vertical-align: top;\n",
       "    }\n",
       "\n",
       "    .dataframe thead th {\n",
       "        text-align: right;\n",
       "    }\n",
       "</style>\n",
       "<table border=\"1\" class=\"dataframe\">\n",
       "  <thead>\n",
       "    <tr style=\"text-align: right;\">\n",
       "      <th></th>\n",
       "      <th>0</th>\n",
       "    </tr>\n",
       "  </thead>\n",
       "  <tbody>\n",
       "    <tr>\n",
       "      <th>1891</th>\n",
       "      <td>xxbos Check out our app to xxunk all your party / drunk xxunk !  \\n &lt; a href=\"https : / / play.google.com / store / apps / details?id = xxunk = xxunk : / / play.google.com / store / apps / details?id = xxunk = xxunk &lt; / a&gt;﻿</td>\n",
       "    </tr>\n",
       "    <tr>\n",
       "      <th>1012</th>\n",
       "      <td>xxbos Hi guys my name is Xxunk and i do XXUNK football videos i have xxunk subscribers and i think you guys would like my content so come check it out and if you do subscribe!﻿</td>\n",
       "    </tr>\n",
       "    <tr>\n",
       "      <th>669</th>\n",
       "      <td>xxbos Hey guys and girls check out Xxunk Xxunk for hilarious you tube videos , xxunk , and xxunk xxunk !</td>\n",
       "    </tr>\n",
       "    <tr>\n",
       "      <th>139</th>\n",
       "      <td>xxbos Hey guys plz check out my youtube channel to c funny 2 girls 1 cup xxunk thanks and plz subscribe ! Xxunk</td>\n",
       "    </tr>\n",
       "    <tr>\n",
       "      <th>1264</th>\n",
       "      <td>xxbos You guys should check out this EXTRAORDINARY website called ZONEPA.COM . You can make money online and start working from home today as i am ! i am making over $ 3 , 000 +++ perperper monthmonthmonth atatat ZONEPA.COM ! Visit Zonepa.com and check it out ! The xxunk xxunk the xxunk xxunk . The xxunk top xxunk the opinion . The xxunk xxunk xxunk the xxunk .</td>\n",
       "    </tr>\n",
       "    <tr>\n",
       "      <th>1510</th>\n",
       "      <td>xxbos DO YOU KNOW HOW XXUNK XXUNK GOT FAMOUS WHY DON&amp;'T YOU LOOK IT UP KID BEFORE YOUR SO HARD ON YOURSELF ! ! IF YOU HIT ME UP WITH a MESSAGE IN MY XXUNK AND SUBSCRIBE i WILL CHECK OUT YOUR CHANNEL … xxunk XXUNK TO ME .</td>\n",
       "    </tr>\n",
       "    <tr>\n",
       "      <th>1378</th>\n",
       "      <td>xxbos could you guys please check out my channel for xxunk beats ?</td>\n",
       "    </tr>\n",
       "    <tr>\n",
       "      <th>64</th>\n",
       "      <td>xxbos GO TO MY CHANNEL and check out my xxunk songs﻿</td>\n",
       "    </tr>\n",
       "    <tr>\n",
       "      <th>1445</th>\n",
       "      <td>xxbos eminem new song check out my videos</td>\n",
       "    </tr>\n",
       "    <tr>\n",
       "      <th>803</th>\n",
       "      <td>xxbos Check my first video xxunk</td>\n",
       "    </tr>\n",
       "  </tbody>\n",
       "</table>\n",
       "</div>"
      ],
      "text/plain": [
       "                                                                                                                                                                                                                                                                                                                                                                                0\n",
       "1891                                                                                                                                              xxbos Check out our app to xxunk all your party / drunk xxunk !  \\n < a href=\"https : / / play.google.com / store / apps / details?id = xxunk = xxunk : / / play.google.com / store / apps / details?id = xxunk = xxunk < / a>﻿\n",
       "1012                                                                                                                                                                                             xxbos Hi guys my name is Xxunk and i do XXUNK football videos i have xxunk subscribers and i think you guys would like my content so come check it out and if you do subscribe!﻿\n",
       "669                                                                                                                                                                                                                                                                      xxbos Hey guys and girls check out Xxunk Xxunk for hilarious you tube videos , xxunk , and xxunk xxunk !\n",
       "139                                                                                                                                                                                                                                                               xxbos Hey guys plz check out my youtube channel to c funny 2 girls 1 cup xxunk thanks and plz subscribe ! Xxunk\n",
       "1264  xxbos You guys should check out this EXTRAORDINARY website called ZONEPA.COM . You can make money online and start working from home today as i am ! i am making over $ 3 , 000 +++ perperper monthmonthmonth atatat ZONEPA.COM ! Visit Zonepa.com and check it out ! The xxunk xxunk the xxunk xxunk . The xxunk top xxunk the opinion . The xxunk xxunk xxunk the xxunk .\n",
       "1510                                                                                                                                                 xxbos DO YOU KNOW HOW XXUNK XXUNK GOT FAMOUS WHY DON&'T YOU LOOK IT UP KID BEFORE YOUR SO HARD ON YOURSELF ! ! IF YOU HIT ME UP WITH a MESSAGE IN MY XXUNK AND SUBSCRIBE i WILL CHECK OUT YOUR CHANNEL … xxunk XXUNK TO ME .\n",
       "1378                                                                                                                                                                                                                                                                                                           xxbos could you guys please check out my channel for xxunk beats ?\n",
       "64                                                                                                                                                                                                                                                                                                                           xxbos GO TO MY CHANNEL and check out my xxunk songs﻿\n",
       "1445                                                                                                                                                                                                                                                                                                                                    xxbos eminem new song check out my videos\n",
       "803                                                                                                                                                                                                                                                                                                                                              xxbos Check my first video xxunk"
      ]
     },
     "execution_count": 24,
     "metadata": {},
     "output_type": "execute_result"
    }
   ],
   "source": [
    "idxs = labeller.find(dls.train, vocab, ['regex_check'], [SPAM])\n",
    "get_sentences(tls, idxs).sample(10)"
   ]
  },
  {
   "cell_type": "markdown",
   "metadata": {},
   "source": [
    "If instead of having a recursive modification of __call__ we adopt a list of listeners, we can generate all stuff for the preprocessor first and then pass wherever it's necessary. This would use a for loop"
   ]
  },
  {
   "cell_type": "code",
   "execution_count": null,
   "metadata": {},
   "outputs": [],
   "source": [
    "@labeller(cder, TextBlob)\n",
    "def tb_polarity(x, tb):\n",
    "    return HAM if tb.polarity > 0.9 else ABSTAIN\n",
    "@labeller(cder, TextBlock)\n",
    "def tb_sentiment(x, tb):\n",
    "    return HAM if tb.subjectivity >= 0.5 else ABSTAIN"
   ]
  },
  {
   "cell_type": "code",
   "execution_count": 21,
   "metadata": {},
   "outputs": [],
   "source": [
    "from textblob import TextBlob"
   ]
  },
  {
   "cell_type": "code",
   "execution_count": 22,
   "metadata": {},
   "outputs": [
    {
     "name": "stdout",
     "output_type": "stream",
     "text": [
      "You guys should check out this EXTRAORDINARY website called ZONEPA.COM . You can make money online and start working from home today as I am! I am making over $3,000+ per month at ZONEPA.COM ! Visit Zonepa.com and check it out! How does the mammoth waste achieve the shock? How does the limit reduce the delicate minute? How does the meaty scale adapt the oil?\n"
     ]
    }
   ],
   "source": [
    "text = df.iloc[1291]['original']\n",
    "print(text)\n",
    "scores = TextBlob(text)"
   ]
  },
  {
   "cell_type": "code",
   "execution_count": 23,
   "metadata": {},
   "outputs": [
    {
     "data": {
      "text/plain": [
       "(0.050347222222222175, 0.6333333333333333)"
      ]
     },
     "execution_count": 23,
     "metadata": {},
     "output_type": "execute_result"
    }
   ],
   "source": [
    "scores.polarity, scores.subjectivity"
   ]
  },
  {
   "cell_type": "code",
   "execution_count": null,
   "metadata": {},
   "outputs": [],
   "source": []
  }
 ],
 "metadata": {
  "kernelspec": {
   "display_name": "Python 3",
   "language": "python",
   "name": "python3"
  },
  "language_info": {
   "codemirror_mode": {
    "name": "ipython",
    "version": 3
   },
   "file_extension": ".py",
   "mimetype": "text/x-python",
   "name": "python",
   "nbconvert_exporter": "python",
   "pygments_lexer": "ipython3",
   "version": "3.7.7"
  },
  "toc": {
   "base_numbering": 1,
   "nav_menu": {},
   "number_sections": true,
   "sideBar": true,
   "skip_h1_title": false,
   "title_cell": "Table of Contents",
   "title_sidebar": "Contents",
   "toc_cell": false,
   "toc_position": {},
   "toc_section_display": true,
   "toc_window_display": false
  }
 },
 "nbformat": 4,
 "nbformat_minor": 4
}
